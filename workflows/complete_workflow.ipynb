{
 "cells": [
  {
   "cell_type": "markdown",
   "source": [
    "The notebook is to work my entire workflow. "
   ],
   "metadata": {
    "collapsed": false
   },
   "id": "5cb0327ce6145a27"
  },
  {
   "cell_type": "code",
   "outputs": [],
   "source": [
    "from lib.func import create_accession_list_for_genbank_IDs\n",
    "from pathlib import Path\n",
    "create_accession_list_for_genbank_IDs(Path('/media/felix/ShortTerm/universal_makers/trna_Q8XBK3/uniprotkb_uniref_cluster_90_UniRef90_Q8_2024_09_25.fasta'), \n",
    "                                      Path('/media/felix/ShortTerm/universal_makers/trna_Q8XBK3/accession_list.txt'))"
   ],
   "metadata": {
    "collapsed": false,
    "ExecuteTime": {
     "end_time": "2024-09-25T18:35:31.128735Z",
     "start_time": "2024-09-25T18:35:27.327683Z"
    }
   },
   "id": "fb496d11cbd6f89c",
   "execution_count": 1
  },
  {
   "cell_type": "code",
   "outputs": [
    {
     "name": "stdout",
     "output_type": "stream",
     "text": [
      "\u001B[2;36m[14:33:51]\u001B[0m\u001B[2;36m \u001B[0m\u001B[34mINFO    \u001B[0m Copying PLDDT                             \u001B]8;id=884819;file:///media/felix/ShortTerm/Data/PycharmProjects/Get3DStructures/dataStructure/collections.py\u001B\\\u001B[2mcollections.py\u001B[0m\u001B]8;;\u001B\\\u001B[2m:\u001B[0m\u001B]8;id=239557;file:///media/felix/ShortTerm/Data/PycharmProjects/Get3DStructures/dataStructure/collections.py#138\u001B\\\u001B[2m138\u001B[0m\u001B]8;;\u001B\\\n",
      "\u001B[2;36m          \u001B[0m\u001B[2;36m \u001B[0m\u001B[34mINFO    \u001B[0m Copying PLDDT                             \u001B]8;id=219037;file:///media/felix/ShortTerm/Data/PycharmProjects/Get3DStructures/dataStructure/collections.py\u001B\\\u001B[2mcollections.py\u001B[0m\u001B]8;;\u001B\\\u001B[2m:\u001B[0m\u001B]8;id=582901;file:///media/felix/ShortTerm/Data/PycharmProjects/Get3DStructures/dataStructure/collections.py#138\u001B\\\u001B[2m138\u001B[0m\u001B]8;;\u001B\\\n",
      "\u001B[2;36m          \u001B[0m\u001B[2;36m \u001B[0m\u001B[34mINFO    \u001B[0m Copying PLDDT                             \u001B]8;id=40054;file:///media/felix/ShortTerm/Data/PycharmProjects/Get3DStructures/dataStructure/collections.py\u001B\\\u001B[2mcollections.py\u001B[0m\u001B]8;;\u001B\\\u001B[2m:\u001B[0m\u001B]8;id=833671;file:///media/felix/ShortTerm/Data/PycharmProjects/Get3DStructures/dataStructure/collections.py#138\u001B\\\u001B[2m138\u001B[0m\u001B]8;;\u001B\\\n",
      "\u001B[2;36m          \u001B[0m\u001B[2;36m \u001B[0m\u001B[34mINFO    \u001B[0m Copying PLDDT                             \u001B]8;id=813780;file:///media/felix/ShortTerm/Data/PycharmProjects/Get3DStructures/dataStructure/collections.py\u001B\\\u001B[2mcollections.py\u001B[0m\u001B]8;;\u001B\\\u001B[2m:\u001B[0m\u001B]8;id=155908;file:///media/felix/ShortTerm/Data/PycharmProjects/Get3DStructures/dataStructure/collections.py#138\u001B\\\u001B[2m138\u001B[0m\u001B]8;;\u001B\\\n",
      "\u001B[2;36m          \u001B[0m\u001B[2;36m \u001B[0m\u001B[34mINFO    \u001B[0m Copying PLDDT                             \u001B]8;id=832760;file:///media/felix/ShortTerm/Data/PycharmProjects/Get3DStructures/dataStructure/collections.py\u001B\\\u001B[2mcollections.py\u001B[0m\u001B]8;;\u001B\\\u001B[2m:\u001B[0m\u001B]8;id=673899;file:///media/felix/ShortTerm/Data/PycharmProjects/Get3DStructures/dataStructure/collections.py#138\u001B\\\u001B[2m138\u001B[0m\u001B]8;;\u001B\\\n",
      "\u001B[2;36m          \u001B[0m\u001B[2;36m \u001B[0m\u001B[34mINFO    \u001B[0m Copying PLDDT                             \u001B]8;id=860782;file:///media/felix/ShortTerm/Data/PycharmProjects/Get3DStructures/dataStructure/collections.py\u001B\\\u001B[2mcollections.py\u001B[0m\u001B]8;;\u001B\\\u001B[2m:\u001B[0m\u001B]8;id=180485;file:///media/felix/ShortTerm/Data/PycharmProjects/Get3DStructures/dataStructure/collections.py#138\u001B\\\u001B[2m138\u001B[0m\u001B]8;;\u001B\\\n",
      "\u001B[2;36m          \u001B[0m\u001B[2;36m \u001B[0m\u001B[34mINFO    \u001B[0m Copying PLDDT                             \u001B]8;id=813880;file:///media/felix/ShortTerm/Data/PycharmProjects/Get3DStructures/dataStructure/collections.py\u001B\\\u001B[2mcollections.py\u001B[0m\u001B]8;;\u001B\\\u001B[2m:\u001B[0m\u001B]8;id=936412;file:///media/felix/ShortTerm/Data/PycharmProjects/Get3DStructures/dataStructure/collections.py#138\u001B\\\u001B[2m138\u001B[0m\u001B]8;;\u001B\\\n",
      "\u001B[2;36m          \u001B[0m\u001B[2;36m \u001B[0m\u001B[34mINFO    \u001B[0m Copying PLDDT                             \u001B]8;id=244870;file:///media/felix/ShortTerm/Data/PycharmProjects/Get3DStructures/dataStructure/collections.py\u001B\\\u001B[2mcollections.py\u001B[0m\u001B]8;;\u001B\\\u001B[2m:\u001B[0m\u001B]8;id=404834;file:///media/felix/ShortTerm/Data/PycharmProjects/Get3DStructures/dataStructure/collections.py#138\u001B\\\u001B[2m138\u001B[0m\u001B]8;;\u001B\\\n",
      "\u001B[2;36m          \u001B[0m\u001B[2;36m \u001B[0m\u001B[34mINFO    \u001B[0m Copying PLDDT                             \u001B]8;id=577032;file:///media/felix/ShortTerm/Data/PycharmProjects/Get3DStructures/dataStructure/collections.py\u001B\\\u001B[2mcollections.py\u001B[0m\u001B]8;;\u001B\\\u001B[2m:\u001B[0m\u001B]8;id=348685;file:///media/felix/ShortTerm/Data/PycharmProjects/Get3DStructures/dataStructure/collections.py#138\u001B\\\u001B[2m138\u001B[0m\u001B]8;;\u001B\\\n",
      "\u001B[2;36m          \u001B[0m\u001B[2;36m \u001B[0m\u001B[34mINFO    \u001B[0m Copying PLDDT                             \u001B]8;id=628490;file:///media/felix/ShortTerm/Data/PycharmProjects/Get3DStructures/dataStructure/collections.py\u001B\\\u001B[2mcollections.py\u001B[0m\u001B]8;;\u001B\\\u001B[2m:\u001B[0m\u001B]8;id=56869;file:///media/felix/ShortTerm/Data/PycharmProjects/Get3DStructures/dataStructure/collections.py#138\u001B\\\u001B[2m138\u001B[0m\u001B]8;;\u001B\\\n",
      "\u001B[2;36m          \u001B[0m\u001B[2;36m \u001B[0m\u001B[34mINFO    \u001B[0m Copying PLDDT                             \u001B]8;id=176866;file:///media/felix/ShortTerm/Data/PycharmProjects/Get3DStructures/dataStructure/collections.py\u001B\\\u001B[2mcollections.py\u001B[0m\u001B]8;;\u001B\\\u001B[2m:\u001B[0m\u001B]8;id=319010;file:///media/felix/ShortTerm/Data/PycharmProjects/Get3DStructures/dataStructure/collections.py#138\u001B\\\u001B[2m138\u001B[0m\u001B]8;;\u001B\\\n",
      "\u001B[2;36m          \u001B[0m\u001B[2;36m \u001B[0m\u001B[34mINFO    \u001B[0m Copying PLDDT                             \u001B]8;id=574442;file:///media/felix/ShortTerm/Data/PycharmProjects/Get3DStructures/dataStructure/collections.py\u001B\\\u001B[2mcollections.py\u001B[0m\u001B]8;;\u001B\\\u001B[2m:\u001B[0m\u001B]8;id=982226;file:///media/felix/ShortTerm/Data/PycharmProjects/Get3DStructures/dataStructure/collections.py#138\u001B\\\u001B[2m138\u001B[0m\u001B]8;;\u001B\\\n",
      "\u001B[2;36m          \u001B[0m\u001B[2;36m \u001B[0m\u001B[34mINFO    \u001B[0m Copying PLDDT                             \u001B]8;id=389683;file:///media/felix/ShortTerm/Data/PycharmProjects/Get3DStructures/dataStructure/collections.py\u001B\\\u001B[2mcollections.py\u001B[0m\u001B]8;;\u001B\\\u001B[2m:\u001B[0m\u001B]8;id=561285;file:///media/felix/ShortTerm/Data/PycharmProjects/Get3DStructures/dataStructure/collections.py#138\u001B\\\u001B[2m138\u001B[0m\u001B]8;;\u001B\\\n",
      "\u001B[2;36m          \u001B[0m\u001B[2;36m \u001B[0m\u001B[34mINFO    \u001B[0m Copying PLDDT                             \u001B]8;id=77027;file:///media/felix/ShortTerm/Data/PycharmProjects/Get3DStructures/dataStructure/collections.py\u001B\\\u001B[2mcollections.py\u001B[0m\u001B]8;;\u001B\\\u001B[2m:\u001B[0m\u001B]8;id=286438;file:///media/felix/ShortTerm/Data/PycharmProjects/Get3DStructures/dataStructure/collections.py#138\u001B\\\u001B[2m138\u001B[0m\u001B]8;;\u001B\\\n",
      "\u001B[2;36m          \u001B[0m\u001B[2;36m \u001B[0m\u001B[34mINFO    \u001B[0m Copying PLDDT                             \u001B]8;id=671054;file:///media/felix/ShortTerm/Data/PycharmProjects/Get3DStructures/dataStructure/collections.py\u001B\\\u001B[2mcollections.py\u001B[0m\u001B]8;;\u001B\\\u001B[2m:\u001B[0m\u001B]8;id=711175;file:///media/felix/ShortTerm/Data/PycharmProjects/Get3DStructures/dataStructure/collections.py#138\u001B\\\u001B[2m138\u001B[0m\u001B]8;;\u001B\\\n",
      "\u001B[2;36m          \u001B[0m\u001B[2;36m \u001B[0m\u001B[34mINFO    \u001B[0m Copying PLDDT                             \u001B]8;id=638496;file:///media/felix/ShortTerm/Data/PycharmProjects/Get3DStructures/dataStructure/collections.py\u001B\\\u001B[2mcollections.py\u001B[0m\u001B]8;;\u001B\\\u001B[2m:\u001B[0m\u001B]8;id=988154;file:///media/felix/ShortTerm/Data/PycharmProjects/Get3DStructures/dataStructure/collections.py#138\u001B\\\u001B[2m138\u001B[0m\u001B]8;;\u001B\\\n",
      "\u001B[2;36m          \u001B[0m\u001B[2;36m \u001B[0m\u001B[34mINFO    \u001B[0m Copying PLDDT                             \u001B]8;id=867954;file:///media/felix/ShortTerm/Data/PycharmProjects/Get3DStructures/dataStructure/collections.py\u001B\\\u001B[2mcollections.py\u001B[0m\u001B]8;;\u001B\\\u001B[2m:\u001B[0m\u001B]8;id=922573;file:///media/felix/ShortTerm/Data/PycharmProjects/Get3DStructures/dataStructure/collections.py#138\u001B\\\u001B[2m138\u001B[0m\u001B]8;;\u001B\\\n",
      "\u001B[2;36m          \u001B[0m\u001B[2;36m \u001B[0m\u001B[34mINFO    \u001B[0m Copying PLDDT                             \u001B]8;id=987825;file:///media/felix/ShortTerm/Data/PycharmProjects/Get3DStructures/dataStructure/collections.py\u001B\\\u001B[2mcollections.py\u001B[0m\u001B]8;;\u001B\\\u001B[2m:\u001B[0m\u001B]8;id=197487;file:///media/felix/ShortTerm/Data/PycharmProjects/Get3DStructures/dataStructure/collections.py#138\u001B\\\u001B[2m138\u001B[0m\u001B]8;;\u001B\\\n",
      "\u001B[2;36m[14:33:52]\u001B[0m\u001B[2;36m \u001B[0m\u001B[34mINFO    \u001B[0m Copying PLDDT                             \u001B]8;id=113422;file:///media/felix/ShortTerm/Data/PycharmProjects/Get3DStructures/dataStructure/collections.py\u001B\\\u001B[2mcollections.py\u001B[0m\u001B]8;;\u001B\\\u001B[2m:\u001B[0m\u001B]8;id=783396;file:///media/felix/ShortTerm/Data/PycharmProjects/Get3DStructures/dataStructure/collections.py#138\u001B\\\u001B[2m138\u001B[0m\u001B]8;;\u001B\\\n",
      "\u001B[2;36m          \u001B[0m\u001B[2;36m \u001B[0m\u001B[34mINFO    \u001B[0m Copying PLDDT                             \u001B]8;id=4746;file:///media/felix/ShortTerm/Data/PycharmProjects/Get3DStructures/dataStructure/collections.py\u001B\\\u001B[2mcollections.py\u001B[0m\u001B]8;;\u001B\\\u001B[2m:\u001B[0m\u001B]8;id=447556;file:///media/felix/ShortTerm/Data/PycharmProjects/Get3DStructures/dataStructure/collections.py#138\u001B\\\u001B[2m138\u001B[0m\u001B]8;;\u001B\\\n",
      "\u001B[2;36m          \u001B[0m\u001B[2;36m \u001B[0m\u001B[34mINFO    \u001B[0m Copying PLDDT                             \u001B]8;id=153066;file:///media/felix/ShortTerm/Data/PycharmProjects/Get3DStructures/dataStructure/collections.py\u001B\\\u001B[2mcollections.py\u001B[0m\u001B]8;;\u001B\\\u001B[2m:\u001B[0m\u001B]8;id=544832;file:///media/felix/ShortTerm/Data/PycharmProjects/Get3DStructures/dataStructure/collections.py#138\u001B\\\u001B[2m138\u001B[0m\u001B]8;;\u001B\\\n",
      "\u001B[2;36m          \u001B[0m\u001B[2;36m \u001B[0m\u001B[34mINFO    \u001B[0m Copying PLDDT                             \u001B]8;id=675653;file:///media/felix/ShortTerm/Data/PycharmProjects/Get3DStructures/dataStructure/collections.py\u001B\\\u001B[2mcollections.py\u001B[0m\u001B]8;;\u001B\\\u001B[2m:\u001B[0m\u001B]8;id=938751;file:///media/felix/ShortTerm/Data/PycharmProjects/Get3DStructures/dataStructure/collections.py#138\u001B\\\u001B[2m138\u001B[0m\u001B]8;;\u001B\\\n",
      "\u001B[2;36m          \u001B[0m\u001B[2;36m \u001B[0m\u001B[34mINFO    \u001B[0m Copying PLDDT                             \u001B]8;id=763069;file:///media/felix/ShortTerm/Data/PycharmProjects/Get3DStructures/dataStructure/collections.py\u001B\\\u001B[2mcollections.py\u001B[0m\u001B]8;;\u001B\\\u001B[2m:\u001B[0m\u001B]8;id=504314;file:///media/felix/ShortTerm/Data/PycharmProjects/Get3DStructures/dataStructure/collections.py#138\u001B\\\u001B[2m138\u001B[0m\u001B]8;;\u001B\\\n",
      "\u001B[2;36m          \u001B[0m\u001B[2;36m \u001B[0m\u001B[34mINFO    \u001B[0m Copying PLDDT                             \u001B]8;id=90738;file:///media/felix/ShortTerm/Data/PycharmProjects/Get3DStructures/dataStructure/collections.py\u001B\\\u001B[2mcollections.py\u001B[0m\u001B]8;;\u001B\\\u001B[2m:\u001B[0m\u001B]8;id=461583;file:///media/felix/ShortTerm/Data/PycharmProjects/Get3DStructures/dataStructure/collections.py#138\u001B\\\u001B[2m138\u001B[0m\u001B]8;;\u001B\\\n",
      "\u001B[2;36m          \u001B[0m\u001B[2;36m \u001B[0m\u001B[34mINFO    \u001B[0m Copying PLDDT                             \u001B]8;id=739869;file:///media/felix/ShortTerm/Data/PycharmProjects/Get3DStructures/dataStructure/collections.py\u001B\\\u001B[2mcollections.py\u001B[0m\u001B]8;;\u001B\\\u001B[2m:\u001B[0m\u001B]8;id=664348;file:///media/felix/ShortTerm/Data/PycharmProjects/Get3DStructures/dataStructure/collections.py#138\u001B\\\u001B[2m138\u001B[0m\u001B]8;;\u001B\\\n",
      "\u001B[2;36m          \u001B[0m\u001B[2;36m \u001B[0m\u001B[34mINFO    \u001B[0m Copying PLDDT                             \u001B]8;id=452799;file:///media/felix/ShortTerm/Data/PycharmProjects/Get3DStructures/dataStructure/collections.py\u001B\\\u001B[2mcollections.py\u001B[0m\u001B]8;;\u001B\\\u001B[2m:\u001B[0m\u001B]8;id=283787;file:///media/felix/ShortTerm/Data/PycharmProjects/Get3DStructures/dataStructure/collections.py#138\u001B\\\u001B[2m138\u001B[0m\u001B]8;;\u001B\\\n",
      "\u001B[2;36m          \u001B[0m\u001B[2;36m \u001B[0m\u001B[34mINFO    \u001B[0m Copying PLDDT                             \u001B]8;id=93616;file:///media/felix/ShortTerm/Data/PycharmProjects/Get3DStructures/dataStructure/collections.py\u001B\\\u001B[2mcollections.py\u001B[0m\u001B]8;;\u001B\\\u001B[2m:\u001B[0m\u001B]8;id=457633;file:///media/felix/ShortTerm/Data/PycharmProjects/Get3DStructures/dataStructure/collections.py#138\u001B\\\u001B[2m138\u001B[0m\u001B]8;;\u001B\\\n",
      "\u001B[2;36m          \u001B[0m\u001B[2;36m \u001B[0m\u001B[34mINFO    \u001B[0m Copying PLDDT                             \u001B]8;id=651997;file:///media/felix/ShortTerm/Data/PycharmProjects/Get3DStructures/dataStructure/collections.py\u001B\\\u001B[2mcollections.py\u001B[0m\u001B]8;;\u001B\\\u001B[2m:\u001B[0m\u001B]8;id=498074;file:///media/felix/ShortTerm/Data/PycharmProjects/Get3DStructures/dataStructure/collections.py#138\u001B\\\u001B[2m138\u001B[0m\u001B]8;;\u001B\\\n",
      "\u001B[2;36m          \u001B[0m\u001B[2;36m \u001B[0m\u001B[34mINFO    \u001B[0m Copying PLDDT                             \u001B]8;id=95956;file:///media/felix/ShortTerm/Data/PycharmProjects/Get3DStructures/dataStructure/collections.py\u001B\\\u001B[2mcollections.py\u001B[0m\u001B]8;;\u001B\\\u001B[2m:\u001B[0m\u001B]8;id=457885;file:///media/felix/ShortTerm/Data/PycharmProjects/Get3DStructures/dataStructure/collections.py#138\u001B\\\u001B[2m138\u001B[0m\u001B]8;;\u001B\\\n",
      "\u001B[2;36m          \u001B[0m\u001B[2;36m \u001B[0m\u001B[34mINFO    \u001B[0m Copying PLDDT                             \u001B]8;id=479299;file:///media/felix/ShortTerm/Data/PycharmProjects/Get3DStructures/dataStructure/collections.py\u001B\\\u001B[2mcollections.py\u001B[0m\u001B]8;;\u001B\\\u001B[2m:\u001B[0m\u001B]8;id=159042;file:///media/felix/ShortTerm/Data/PycharmProjects/Get3DStructures/dataStructure/collections.py#138\u001B\\\u001B[2m138\u001B[0m\u001B]8;;\u001B\\\n",
      "\u001B[2;36m          \u001B[0m\u001B[2;36m \u001B[0m\u001B[34mINFO    \u001B[0m Copying PLDDT                             \u001B]8;id=829521;file:///media/felix/ShortTerm/Data/PycharmProjects/Get3DStructures/dataStructure/collections.py\u001B\\\u001B[2mcollections.py\u001B[0m\u001B]8;;\u001B\\\u001B[2m:\u001B[0m\u001B]8;id=169792;file:///media/felix/ShortTerm/Data/PycharmProjects/Get3DStructures/dataStructure/collections.py#138\u001B\\\u001B[2m138\u001B[0m\u001B]8;;\u001B\\\n",
      "\u001B[2;36m          \u001B[0m\u001B[2;36m \u001B[0m\u001B[34mINFO    \u001B[0m Copying PLDDT                             \u001B]8;id=688554;file:///media/felix/ShortTerm/Data/PycharmProjects/Get3DStructures/dataStructure/collections.py\u001B\\\u001B[2mcollections.py\u001B[0m\u001B]8;;\u001B\\\u001B[2m:\u001B[0m\u001B]8;id=273961;file:///media/felix/ShortTerm/Data/PycharmProjects/Get3DStructures/dataStructure/collections.py#138\u001B\\\u001B[2m138\u001B[0m\u001B]8;;\u001B\\\n",
      "\u001B[2;36m          \u001B[0m\u001B[2;36m \u001B[0m\u001B[34mINFO    \u001B[0m Copying PLDDT                             \u001B]8;id=497707;file:///media/felix/ShortTerm/Data/PycharmProjects/Get3DStructures/dataStructure/collections.py\u001B\\\u001B[2mcollections.py\u001B[0m\u001B]8;;\u001B\\\u001B[2m:\u001B[0m\u001B]8;id=512480;file:///media/felix/ShortTerm/Data/PycharmProjects/Get3DStructures/dataStructure/collections.py#138\u001B\\\u001B[2m138\u001B[0m\u001B]8;;\u001B\\\n",
      "\u001B[2;36m          \u001B[0m\u001B[2;36m \u001B[0m\u001B[34mINFO    \u001B[0m Copying PLDDT                             \u001B]8;id=319368;file:///media/felix/ShortTerm/Data/PycharmProjects/Get3DStructures/dataStructure/collections.py\u001B\\\u001B[2mcollections.py\u001B[0m\u001B]8;;\u001B\\\u001B[2m:\u001B[0m\u001B]8;id=613407;file:///media/felix/ShortTerm/Data/PycharmProjects/Get3DStructures/dataStructure/collections.py#138\u001B\\\u001B[2m138\u001B[0m\u001B]8;;\u001B\\\n",
      "\u001B[2;36m          \u001B[0m\u001B[2;36m \u001B[0m\u001B[34mINFO    \u001B[0m Copying PLDDT                             \u001B]8;id=764212;file:///media/felix/ShortTerm/Data/PycharmProjects/Get3DStructures/dataStructure/collections.py\u001B\\\u001B[2mcollections.py\u001B[0m\u001B]8;;\u001B\\\u001B[2m:\u001B[0m\u001B]8;id=608381;file:///media/felix/ShortTerm/Data/PycharmProjects/Get3DStructures/dataStructure/collections.py#138\u001B\\\u001B[2m138\u001B[0m\u001B]8;;\u001B\\\n",
      "\u001B[2;36m          \u001B[0m\u001B[2;36m \u001B[0m\u001B[34mINFO    \u001B[0m Copying PLDDT                             \u001B]8;id=830371;file:///media/felix/ShortTerm/Data/PycharmProjects/Get3DStructures/dataStructure/collections.py\u001B\\\u001B[2mcollections.py\u001B[0m\u001B]8;;\u001B\\\u001B[2m:\u001B[0m\u001B]8;id=992083;file:///media/felix/ShortTerm/Data/PycharmProjects/Get3DStructures/dataStructure/collections.py#138\u001B\\\u001B[2m138\u001B[0m\u001B]8;;\u001B\\\n",
      "\u001B[2;36m          \u001B[0m\u001B[2;36m \u001B[0m\u001B[34mINFO    \u001B[0m Copying PLDDT                             \u001B]8;id=31859;file:///media/felix/ShortTerm/Data/PycharmProjects/Get3DStructures/dataStructure/collections.py\u001B\\\u001B[2mcollections.py\u001B[0m\u001B]8;;\u001B\\\u001B[2m:\u001B[0m\u001B]8;id=433216;file:///media/felix/ShortTerm/Data/PycharmProjects/Get3DStructures/dataStructure/collections.py#138\u001B\\\u001B[2m138\u001B[0m\u001B]8;;\u001B\\\n",
      "\u001B[2;36m          \u001B[0m\u001B[2;36m \u001B[0m\u001B[34mINFO    \u001B[0m Copying PLDDT                             \u001B]8;id=610109;file:///media/felix/ShortTerm/Data/PycharmProjects/Get3DStructures/dataStructure/collections.py\u001B\\\u001B[2mcollections.py\u001B[0m\u001B]8;;\u001B\\\u001B[2m:\u001B[0m\u001B]8;id=60756;file:///media/felix/ShortTerm/Data/PycharmProjects/Get3DStructures/dataStructure/collections.py#138\u001B\\\u001B[2m138\u001B[0m\u001B]8;;\u001B\\\n",
      "\u001B[2;36m          \u001B[0m\u001B[2;36m \u001B[0m\u001B[31mWARNING \u001B[0m Getting features failed with first method.   \u001B]8;id=515273;file:///media/felix/ShortTerm/Data/PycharmProjects/Get3DStructures/dataStructure/protein/accession.py\u001B\\\u001B[2maccession.py\u001B[0m\u001B]8;;\u001B\\\u001B[2m:\u001B[0m\u001B]8;id=37133;file:///media/felix/ShortTerm/Data/PycharmProjects/Get3DStructures/dataStructure/protein/accession.py#91\u001B\\\u001B[2m91\u001B[0m\u001B]8;;\u001B\\\n",
      "\u001B[2;36m           \u001B[0m         Attempting second method.                    \u001B[2m               \u001B[0m\n",
      "\u001B[2;36m          \u001B[0m\u001B[2;36m \u001B[0m\u001B[31mWARNING \u001B[0m Getting features failed with first method.   \u001B]8;id=688736;file:///media/felix/ShortTerm/Data/PycharmProjects/Get3DStructures/dataStructure/protein/accession.py\u001B\\\u001B[2maccession.py\u001B[0m\u001B]8;;\u001B\\\u001B[2m:\u001B[0m\u001B]8;id=42958;file:///media/felix/ShortTerm/Data/PycharmProjects/Get3DStructures/dataStructure/protein/accession.py#91\u001B\\\u001B[2m91\u001B[0m\u001B]8;;\u001B\\\n",
      "\u001B[2;36m           \u001B[0m         Attempting second method.                    \u001B[2m               \u001B[0m\n",
      "\u001B[2;36m          \u001B[0m\u001B[2;36m \u001B[0m\u001B[34mINFO    \u001B[0m Residues of interest: \u001B[1m[\u001B[0m\u001B[1;36m189\u001B[0m, \u001B[1;36m273\u001B[0m, \u001B[1;36m274\u001B[0m\u001B[1m]\u001B[0m       \u001B]8;id=569056;file:///media/felix/ShortTerm/Data/PycharmProjects/Get3DStructures/Commands/calculate/calculate.py\u001B\\\u001B[2mcalculate.py\u001B[0m\u001B]8;;\u001B\\\u001B[2m:\u001B[0m\u001B]8;id=838638;file:///media/felix/ShortTerm/Data/PycharmProjects/Get3DStructures/Commands/calculate/calculate.py#153\u001B\\\u001B[2m153\u001B[0m\u001B]8;;\u001B\\\n",
      "Dijkstra took 29.26s\n",
      "MDS took 0.00s\n",
      "Dijkstra took 29.84s\n",
      "MDS took 0.00s\n",
      "Dijkstra took 29.50s\n",
      "MDS took 0.00s\n",
      "Dijkstra took 29.84s\n",
      "MDS took 0.00s\n",
      "Dijkstra took 29.14s\n",
      "MDS took 0.00s\n",
      "Dijkstra took 29.35s\n",
      "MDS took 0.00s\n",
      "Dijkstra took 29.45s\n",
      "MDS took 0.00s\n",
      "Dijkstra took 30.22s\n",
      "MDS took 0.00s\n",
      "Dijkstra took 29.56s\n",
      "MDS took 0.00s\n",
      "Dijkstra took 29.73s\n",
      "MDS took 0.00s\n",
      "Dijkstra took 30.41s\n",
      "MDS took 0.00s\n",
      "Dijkstra took 30.18s\n",
      "MDS took 0.00s\n",
      "Dijkstra took 30.21s\n",
      "MDS took 0.00s\n",
      "Dijkstra took 29.67s\n",
      "MDS took 0.00s\n",
      "Dijkstra took 30.43s\n",
      "MDS took 0.00s\n",
      "Dijkstra took 30.22s\n",
      "MDS took 0.00s\n",
      "Dijkstra took 30.94s\n",
      "MDS took 0.00s\n",
      "Dijkstra took 30.72s\n",
      "MDS took 0.00s\n",
      "Dijkstra took 30.61s\n",
      "MDS took 0.00s\n",
      "Dijkstra took 32.43s\n",
      "MDS took 0.00s\n",
      "Dijkstra took 32.52s\n",
      "MDS took 0.00s\n",
      "Dijkstra took 34.11s\n",
      "MDS took 0.00s\n",
      "Dijkstra took 22.24s\n",
      "MDS took 0.00s\n",
      "Dijkstra took 21.77s\n",
      "MDS took 0.00s\n",
      "Dijkstra took 27.18s\n",
      "MDS took 0.00s\n",
      "Dijkstra took 16.53s\n",
      "MDS took 0.00s\n",
      "Dijkstra took 27.61s\n",
      "MDS took 0.00s\n",
      "Dijkstra took 16.26s\n",
      "MDS took 0.00s\n",
      "Dijkstra took 28.19s\n",
      "MDS took 0.00s\n",
      "Dijkstra took 15.89s\n",
      "MDS took 0.00s\n",
      "Dijkstra took 27.48s\n",
      "MDS took 0.00s\n",
      "Dijkstra took 15.94s\n",
      "MDS took 0.00s\n",
      "Dijkstra took 28.78s\n",
      "MDS took 0.00s\n",
      "Dijkstra took 15.73s\n",
      "MDS took 0.00s\n",
      "Dijkstra took 28.46s\n",
      "MDS took 0.00s\n",
      "Dijkstra took 16.52s\n",
      "MDS took 0.00s\n",
      "Dijkstra took 28.22s\n",
      "MDS took 0.00s\n",
      "Dijkstra took 15.85s\n",
      "MDS took 0.00s\n",
      "\u001B[2;36m[14:34:56]\u001B[0m\u001B[2;36m \u001B[0m\u001B[34mINFO    \u001B[0m Copying PLDDT                             \u001B]8;id=349462;file:///media/felix/ShortTerm/Data/PycharmProjects/Get3DStructures/dataStructure/collections.py\u001B\\\u001B[2mcollections.py\u001B[0m\u001B]8;;\u001B\\\u001B[2m:\u001B[0m\u001B]8;id=802974;file:///media/felix/ShortTerm/Data/PycharmProjects/Get3DStructures/dataStructure/collections.py#138\u001B\\\u001B[2m138\u001B[0m\u001B]8;;\u001B\\\n",
      "\u001B[2;36m          \u001B[0m\u001B[2;36m \u001B[0m\u001B[34mINFO    \u001B[0m Copying PLDDT                             \u001B]8;id=40925;file:///media/felix/ShortTerm/Data/PycharmProjects/Get3DStructures/dataStructure/collections.py\u001B\\\u001B[2mcollections.py\u001B[0m\u001B]8;;\u001B\\\u001B[2m:\u001B[0m\u001B]8;id=723523;file:///media/felix/ShortTerm/Data/PycharmProjects/Get3DStructures/dataStructure/collections.py#138\u001B\\\u001B[2m138\u001B[0m\u001B]8;;\u001B\\\n",
      "\u001B[2;36m          \u001B[0m\u001B[2;36m \u001B[0m\u001B[34mINFO    \u001B[0m Copying PLDDT                             \u001B]8;id=386472;file:///media/felix/ShortTerm/Data/PycharmProjects/Get3DStructures/dataStructure/collections.py\u001B\\\u001B[2mcollections.py\u001B[0m\u001B]8;;\u001B\\\u001B[2m:\u001B[0m\u001B]8;id=846868;file:///media/felix/ShortTerm/Data/PycharmProjects/Get3DStructures/dataStructure/collections.py#138\u001B\\\u001B[2m138\u001B[0m\u001B]8;;\u001B\\\n",
      "\u001B[2;36m          \u001B[0m\u001B[2;36m \u001B[0m\u001B[34mINFO    \u001B[0m Copying PLDDT                             \u001B]8;id=250207;file:///media/felix/ShortTerm/Data/PycharmProjects/Get3DStructures/dataStructure/collections.py\u001B\\\u001B[2mcollections.py\u001B[0m\u001B]8;;\u001B\\\u001B[2m:\u001B[0m\u001B]8;id=992633;file:///media/felix/ShortTerm/Data/PycharmProjects/Get3DStructures/dataStructure/collections.py#138\u001B\\\u001B[2m138\u001B[0m\u001B]8;;\u001B\\\n",
      "\u001B[2;36m          \u001B[0m\u001B[2;36m \u001B[0m\u001B[34mINFO    \u001B[0m Copying PLDDT                             \u001B]8;id=41677;file:///media/felix/ShortTerm/Data/PycharmProjects/Get3DStructures/dataStructure/collections.py\u001B\\\u001B[2mcollections.py\u001B[0m\u001B]8;;\u001B\\\u001B[2m:\u001B[0m\u001B]8;id=778622;file:///media/felix/ShortTerm/Data/PycharmProjects/Get3DStructures/dataStructure/collections.py#138\u001B\\\u001B[2m138\u001B[0m\u001B]8;;\u001B\\\n",
      "\u001B[2;36m          \u001B[0m\u001B[2;36m \u001B[0m\u001B[34mINFO    \u001B[0m Copying PLDDT                             \u001B]8;id=274769;file:///media/felix/ShortTerm/Data/PycharmProjects/Get3DStructures/dataStructure/collections.py\u001B\\\u001B[2mcollections.py\u001B[0m\u001B]8;;\u001B\\\u001B[2m:\u001B[0m\u001B]8;id=547814;file:///media/felix/ShortTerm/Data/PycharmProjects/Get3DStructures/dataStructure/collections.py#138\u001B\\\u001B[2m138\u001B[0m\u001B]8;;\u001B\\\n",
      "\u001B[2;36m          \u001B[0m\u001B[2;36m \u001B[0m\u001B[34mINFO    \u001B[0m Copying PLDDT                             \u001B]8;id=306927;file:///media/felix/ShortTerm/Data/PycharmProjects/Get3DStructures/dataStructure/collections.py\u001B\\\u001B[2mcollections.py\u001B[0m\u001B]8;;\u001B\\\u001B[2m:\u001B[0m\u001B]8;id=338596;file:///media/felix/ShortTerm/Data/PycharmProjects/Get3DStructures/dataStructure/collections.py#138\u001B\\\u001B[2m138\u001B[0m\u001B]8;;\u001B\\\n",
      "\u001B[2;36m          \u001B[0m\u001B[2;36m \u001B[0m\u001B[34mINFO    \u001B[0m Copying PLDDT                             \u001B]8;id=168565;file:///media/felix/ShortTerm/Data/PycharmProjects/Get3DStructures/dataStructure/collections.py\u001B\\\u001B[2mcollections.py\u001B[0m\u001B]8;;\u001B\\\u001B[2m:\u001B[0m\u001B]8;id=386856;file:///media/felix/ShortTerm/Data/PycharmProjects/Get3DStructures/dataStructure/collections.py#138\u001B\\\u001B[2m138\u001B[0m\u001B]8;;\u001B\\\n",
      "\u001B[2;36m          \u001B[0m\u001B[2;36m \u001B[0m\u001B[34mINFO    \u001B[0m Copying PLDDT                             \u001B]8;id=451996;file:///media/felix/ShortTerm/Data/PycharmProjects/Get3DStructures/dataStructure/collections.py\u001B\\\u001B[2mcollections.py\u001B[0m\u001B]8;;\u001B\\\u001B[2m:\u001B[0m\u001B]8;id=550109;file:///media/felix/ShortTerm/Data/PycharmProjects/Get3DStructures/dataStructure/collections.py#138\u001B\\\u001B[2m138\u001B[0m\u001B]8;;\u001B\\\n",
      "\u001B[2;36m          \u001B[0m\u001B[2;36m \u001B[0m\u001B[34mINFO    \u001B[0m Copying PLDDT                             \u001B]8;id=587136;file:///media/felix/ShortTerm/Data/PycharmProjects/Get3DStructures/dataStructure/collections.py\u001B\\\u001B[2mcollections.py\u001B[0m\u001B]8;;\u001B\\\u001B[2m:\u001B[0m\u001B]8;id=274186;file:///media/felix/ShortTerm/Data/PycharmProjects/Get3DStructures/dataStructure/collections.py#138\u001B\\\u001B[2m138\u001B[0m\u001B]8;;\u001B\\\n",
      "\u001B[2;36m          \u001B[0m\u001B[2;36m \u001B[0m\u001B[34mINFO    \u001B[0m Copying PLDDT                             \u001B]8;id=689454;file:///media/felix/ShortTerm/Data/PycharmProjects/Get3DStructures/dataStructure/collections.py\u001B\\\u001B[2mcollections.py\u001B[0m\u001B]8;;\u001B\\\u001B[2m:\u001B[0m\u001B]8;id=989578;file:///media/felix/ShortTerm/Data/PycharmProjects/Get3DStructures/dataStructure/collections.py#138\u001B\\\u001B[2m138\u001B[0m\u001B]8;;\u001B\\\n",
      "\u001B[2;36m          \u001B[0m\u001B[2;36m \u001B[0m\u001B[34mINFO    \u001B[0m Copying PLDDT                             \u001B]8;id=609131;file:///media/felix/ShortTerm/Data/PycharmProjects/Get3DStructures/dataStructure/collections.py\u001B\\\u001B[2mcollections.py\u001B[0m\u001B]8;;\u001B\\\u001B[2m:\u001B[0m\u001B]8;id=467671;file:///media/felix/ShortTerm/Data/PycharmProjects/Get3DStructures/dataStructure/collections.py#138\u001B\\\u001B[2m138\u001B[0m\u001B]8;;\u001B\\\n",
      "\u001B[2;36m          \u001B[0m\u001B[2;36m \u001B[0m\u001B[34mINFO    \u001B[0m Copying PLDDT                             \u001B]8;id=90281;file:///media/felix/ShortTerm/Data/PycharmProjects/Get3DStructures/dataStructure/collections.py\u001B\\\u001B[2mcollections.py\u001B[0m\u001B]8;;\u001B\\\u001B[2m:\u001B[0m\u001B]8;id=981244;file:///media/felix/ShortTerm/Data/PycharmProjects/Get3DStructures/dataStructure/collections.py#138\u001B\\\u001B[2m138\u001B[0m\u001B]8;;\u001B\\\n",
      "\u001B[2;36m          \u001B[0m\u001B[2;36m \u001B[0m\u001B[34mINFO    \u001B[0m Copying PLDDT                             \u001B]8;id=161541;file:///media/felix/ShortTerm/Data/PycharmProjects/Get3DStructures/dataStructure/collections.py\u001B\\\u001B[2mcollections.py\u001B[0m\u001B]8;;\u001B\\\u001B[2m:\u001B[0m\u001B]8;id=347133;file:///media/felix/ShortTerm/Data/PycharmProjects/Get3DStructures/dataStructure/collections.py#138\u001B\\\u001B[2m138\u001B[0m\u001B]8;;\u001B\\\n",
      "\u001B[2;36m          \u001B[0m\u001B[2;36m \u001B[0m\u001B[34mINFO    \u001B[0m Copying PLDDT                             \u001B]8;id=3346;file:///media/felix/ShortTerm/Data/PycharmProjects/Get3DStructures/dataStructure/collections.py\u001B\\\u001B[2mcollections.py\u001B[0m\u001B]8;;\u001B\\\u001B[2m:\u001B[0m\u001B]8;id=771800;file:///media/felix/ShortTerm/Data/PycharmProjects/Get3DStructures/dataStructure/collections.py#138\u001B\\\u001B[2m138\u001B[0m\u001B]8;;\u001B\\\n",
      "\u001B[2;36m          \u001B[0m\u001B[2;36m \u001B[0m\u001B[34mINFO    \u001B[0m Copying PLDDT                             \u001B]8;id=638826;file:///media/felix/ShortTerm/Data/PycharmProjects/Get3DStructures/dataStructure/collections.py\u001B\\\u001B[2mcollections.py\u001B[0m\u001B]8;;\u001B\\\u001B[2m:\u001B[0m\u001B]8;id=983045;file:///media/felix/ShortTerm/Data/PycharmProjects/Get3DStructures/dataStructure/collections.py#138\u001B\\\u001B[2m138\u001B[0m\u001B]8;;\u001B\\\n",
      "\u001B[2;36m          \u001B[0m\u001B[2;36m \u001B[0m\u001B[34mINFO    \u001B[0m Copying PLDDT                             \u001B]8;id=743979;file:///media/felix/ShortTerm/Data/PycharmProjects/Get3DStructures/dataStructure/collections.py\u001B\\\u001B[2mcollections.py\u001B[0m\u001B]8;;\u001B\\\u001B[2m:\u001B[0m\u001B]8;id=517546;file:///media/felix/ShortTerm/Data/PycharmProjects/Get3DStructures/dataStructure/collections.py#138\u001B\\\u001B[2m138\u001B[0m\u001B]8;;\u001B\\\n",
      "\u001B[2;36m          \u001B[0m\u001B[2;36m \u001B[0m\u001B[34mINFO    \u001B[0m Copying PLDDT                             \u001B]8;id=236316;file:///media/felix/ShortTerm/Data/PycharmProjects/Get3DStructures/dataStructure/collections.py\u001B\\\u001B[2mcollections.py\u001B[0m\u001B]8;;\u001B\\\u001B[2m:\u001B[0m\u001B]8;id=154418;file:///media/felix/ShortTerm/Data/PycharmProjects/Get3DStructures/dataStructure/collections.py#138\u001B\\\u001B[2m138\u001B[0m\u001B]8;;\u001B\\\n",
      "\u001B[2;36m          \u001B[0m\u001B[2;36m \u001B[0m\u001B[34mINFO    \u001B[0m Copying PLDDT                             \u001B]8;id=880538;file:///media/felix/ShortTerm/Data/PycharmProjects/Get3DStructures/dataStructure/collections.py\u001B\\\u001B[2mcollections.py\u001B[0m\u001B]8;;\u001B\\\u001B[2m:\u001B[0m\u001B]8;id=368267;file:///media/felix/ShortTerm/Data/PycharmProjects/Get3DStructures/dataStructure/collections.py#138\u001B\\\u001B[2m138\u001B[0m\u001B]8;;\u001B\\\n",
      "\u001B[2;36m          \u001B[0m\u001B[2;36m \u001B[0m\u001B[34mINFO    \u001B[0m Copying PLDDT                             \u001B]8;id=749231;file:///media/felix/ShortTerm/Data/PycharmProjects/Get3DStructures/dataStructure/collections.py\u001B\\\u001B[2mcollections.py\u001B[0m\u001B]8;;\u001B\\\u001B[2m:\u001B[0m\u001B]8;id=928941;file:///media/felix/ShortTerm/Data/PycharmProjects/Get3DStructures/dataStructure/collections.py#138\u001B\\\u001B[2m138\u001B[0m\u001B]8;;\u001B\\\n",
      "\u001B[2;36m          \u001B[0m\u001B[2;36m \u001B[0m\u001B[34mINFO    \u001B[0m Copying PLDDT                             \u001B]8;id=19296;file:///media/felix/ShortTerm/Data/PycharmProjects/Get3DStructures/dataStructure/collections.py\u001B\\\u001B[2mcollections.py\u001B[0m\u001B]8;;\u001B\\\u001B[2m:\u001B[0m\u001B]8;id=117909;file:///media/felix/ShortTerm/Data/PycharmProjects/Get3DStructures/dataStructure/collections.py#138\u001B\\\u001B[2m138\u001B[0m\u001B]8;;\u001B\\\n",
      "\u001B[2;36m          \u001B[0m\u001B[2;36m \u001B[0m\u001B[34mINFO    \u001B[0m Copying PLDDT                             \u001B]8;id=807271;file:///media/felix/ShortTerm/Data/PycharmProjects/Get3DStructures/dataStructure/collections.py\u001B\\\u001B[2mcollections.py\u001B[0m\u001B]8;;\u001B\\\u001B[2m:\u001B[0m\u001B]8;id=353441;file:///media/felix/ShortTerm/Data/PycharmProjects/Get3DStructures/dataStructure/collections.py#138\u001B\\\u001B[2m138\u001B[0m\u001B]8;;\u001B\\\n",
      "\u001B[2;36m          \u001B[0m\u001B[2;36m \u001B[0m\u001B[34mINFO    \u001B[0m Copying PLDDT                             \u001B]8;id=642399;file:///media/felix/ShortTerm/Data/PycharmProjects/Get3DStructures/dataStructure/collections.py\u001B\\\u001B[2mcollections.py\u001B[0m\u001B]8;;\u001B\\\u001B[2m:\u001B[0m\u001B]8;id=311463;file:///media/felix/ShortTerm/Data/PycharmProjects/Get3DStructures/dataStructure/collections.py#138\u001B\\\u001B[2m138\u001B[0m\u001B]8;;\u001B\\\n",
      "\u001B[2;36m          \u001B[0m\u001B[2;36m \u001B[0m\u001B[34mINFO    \u001B[0m Copying PLDDT                             \u001B]8;id=946542;file:///media/felix/ShortTerm/Data/PycharmProjects/Get3DStructures/dataStructure/collections.py\u001B\\\u001B[2mcollections.py\u001B[0m\u001B]8;;\u001B\\\u001B[2m:\u001B[0m\u001B]8;id=870228;file:///media/felix/ShortTerm/Data/PycharmProjects/Get3DStructures/dataStructure/collections.py#138\u001B\\\u001B[2m138\u001B[0m\u001B]8;;\u001B\\\n",
      "\u001B[2;36m          \u001B[0m\u001B[2;36m \u001B[0m\u001B[34mINFO    \u001B[0m Copying PLDDT                             \u001B]8;id=527337;file:///media/felix/ShortTerm/Data/PycharmProjects/Get3DStructures/dataStructure/collections.py\u001B\\\u001B[2mcollections.py\u001B[0m\u001B]8;;\u001B\\\u001B[2m:\u001B[0m\u001B]8;id=832208;file:///media/felix/ShortTerm/Data/PycharmProjects/Get3DStructures/dataStructure/collections.py#138\u001B\\\u001B[2m138\u001B[0m\u001B]8;;\u001B\\\n",
      "\u001B[2;36m          \u001B[0m\u001B[2;36m \u001B[0m\u001B[34mINFO    \u001B[0m Copying PLDDT                             \u001B]8;id=989376;file:///media/felix/ShortTerm/Data/PycharmProjects/Get3DStructures/dataStructure/collections.py\u001B\\\u001B[2mcollections.py\u001B[0m\u001B]8;;\u001B\\\u001B[2m:\u001B[0m\u001B]8;id=279579;file:///media/felix/ShortTerm/Data/PycharmProjects/Get3DStructures/dataStructure/collections.py#138\u001B\\\u001B[2m138\u001B[0m\u001B]8;;\u001B\\\n",
      "\u001B[2;36m          \u001B[0m\u001B[2;36m \u001B[0m\u001B[34mINFO    \u001B[0m Copying PLDDT                             \u001B]8;id=886964;file:///media/felix/ShortTerm/Data/PycharmProjects/Get3DStructures/dataStructure/collections.py\u001B\\\u001B[2mcollections.py\u001B[0m\u001B]8;;\u001B\\\u001B[2m:\u001B[0m\u001B]8;id=216314;file:///media/felix/ShortTerm/Data/PycharmProjects/Get3DStructures/dataStructure/collections.py#138\u001B\\\u001B[2m138\u001B[0m\u001B]8;;\u001B\\\n",
      "\u001B[2;36m          \u001B[0m\u001B[2;36m \u001B[0m\u001B[34mINFO    \u001B[0m Copying PLDDT                             \u001B]8;id=846058;file:///media/felix/ShortTerm/Data/PycharmProjects/Get3DStructures/dataStructure/collections.py\u001B\\\u001B[2mcollections.py\u001B[0m\u001B]8;;\u001B\\\u001B[2m:\u001B[0m\u001B]8;id=281529;file:///media/felix/ShortTerm/Data/PycharmProjects/Get3DStructures/dataStructure/collections.py#138\u001B\\\u001B[2m138\u001B[0m\u001B]8;;\u001B\\\n",
      "\u001B[2;36m          \u001B[0m\u001B[2;36m \u001B[0m\u001B[34mINFO    \u001B[0m Copying PLDDT                             \u001B]8;id=189459;file:///media/felix/ShortTerm/Data/PycharmProjects/Get3DStructures/dataStructure/collections.py\u001B\\\u001B[2mcollections.py\u001B[0m\u001B]8;;\u001B\\\u001B[2m:\u001B[0m\u001B]8;id=695790;file:///media/felix/ShortTerm/Data/PycharmProjects/Get3DStructures/dataStructure/collections.py#138\u001B\\\u001B[2m138\u001B[0m\u001B]8;;\u001B\\\n",
      "\u001B[2;36m          \u001B[0m\u001B[2;36m \u001B[0m\u001B[34mINFO    \u001B[0m Copying PLDDT                             \u001B]8;id=444087;file:///media/felix/ShortTerm/Data/PycharmProjects/Get3DStructures/dataStructure/collections.py\u001B\\\u001B[2mcollections.py\u001B[0m\u001B]8;;\u001B\\\u001B[2m:\u001B[0m\u001B]8;id=875138;file:///media/felix/ShortTerm/Data/PycharmProjects/Get3DStructures/dataStructure/collections.py#138\u001B\\\u001B[2m138\u001B[0m\u001B]8;;\u001B\\\n",
      "\u001B[2;36m          \u001B[0m\u001B[2;36m \u001B[0m\u001B[34mINFO    \u001B[0m Copying PLDDT                             \u001B]8;id=566040;file:///media/felix/ShortTerm/Data/PycharmProjects/Get3DStructures/dataStructure/collections.py\u001B\\\u001B[2mcollections.py\u001B[0m\u001B]8;;\u001B\\\u001B[2m:\u001B[0m\u001B]8;id=712504;file:///media/felix/ShortTerm/Data/PycharmProjects/Get3DStructures/dataStructure/collections.py#138\u001B\\\u001B[2m138\u001B[0m\u001B]8;;\u001B\\\n",
      "\u001B[2;36m          \u001B[0m\u001B[2;36m \u001B[0m\u001B[34mINFO    \u001B[0m Copying PLDDT                             \u001B]8;id=804156;file:///media/felix/ShortTerm/Data/PycharmProjects/Get3DStructures/dataStructure/collections.py\u001B\\\u001B[2mcollections.py\u001B[0m\u001B]8;;\u001B\\\u001B[2m:\u001B[0m\u001B]8;id=171913;file:///media/felix/ShortTerm/Data/PycharmProjects/Get3DStructures/dataStructure/collections.py#138\u001B\\\u001B[2m138\u001B[0m\u001B]8;;\u001B\\\n",
      "\u001B[2;36m          \u001B[0m\u001B[2;36m \u001B[0m\u001B[34mINFO    \u001B[0m Copying PLDDT                             \u001B]8;id=933255;file:///media/felix/ShortTerm/Data/PycharmProjects/Get3DStructures/dataStructure/collections.py\u001B\\\u001B[2mcollections.py\u001B[0m\u001B]8;;\u001B\\\u001B[2m:\u001B[0m\u001B]8;id=897703;file:///media/felix/ShortTerm/Data/PycharmProjects/Get3DStructures/dataStructure/collections.py#138\u001B\\\u001B[2m138\u001B[0m\u001B]8;;\u001B\\\n",
      "\u001B[2;36m          \u001B[0m\u001B[2;36m \u001B[0m\u001B[34mINFO    \u001B[0m Copying PLDDT                             \u001B]8;id=118081;file:///media/felix/ShortTerm/Data/PycharmProjects/Get3DStructures/dataStructure/collections.py\u001B\\\u001B[2mcollections.py\u001B[0m\u001B]8;;\u001B\\\u001B[2m:\u001B[0m\u001B]8;id=788019;file:///media/felix/ShortTerm/Data/PycharmProjects/Get3DStructures/dataStructure/collections.py#138\u001B\\\u001B[2m138\u001B[0m\u001B]8;;\u001B\\\n",
      "\u001B[2;36m          \u001B[0m\u001B[2;36m \u001B[0m\u001B[34mINFO    \u001B[0m Copying PLDDT                             \u001B]8;id=884549;file:///media/felix/ShortTerm/Data/PycharmProjects/Get3DStructures/dataStructure/collections.py\u001B\\\u001B[2mcollections.py\u001B[0m\u001B]8;;\u001B\\\u001B[2m:\u001B[0m\u001B]8;id=692541;file:///media/felix/ShortTerm/Data/PycharmProjects/Get3DStructures/dataStructure/collections.py#138\u001B\\\u001B[2m138\u001B[0m\u001B]8;;\u001B\\\n",
      "\u001B[2;36m          \u001B[0m\u001B[2;36m \u001B[0m\u001B[34mINFO    \u001B[0m Copying PLDDT                             \u001B]8;id=324396;file:///media/felix/ShortTerm/Data/PycharmProjects/Get3DStructures/dataStructure/collections.py\u001B\\\u001B[2mcollections.py\u001B[0m\u001B]8;;\u001B\\\u001B[2m:\u001B[0m\u001B]8;id=336059;file:///media/felix/ShortTerm/Data/PycharmProjects/Get3DStructures/dataStructure/collections.py#138\u001B\\\u001B[2m138\u001B[0m\u001B]8;;\u001B\\\n",
      "\u001B[2;36m          \u001B[0m\u001B[2;36m \u001B[0m\u001B[34mINFO    \u001B[0m Copying PLDDT                             \u001B]8;id=701933;file:///media/felix/ShortTerm/Data/PycharmProjects/Get3DStructures/dataStructure/collections.py\u001B\\\u001B[2mcollections.py\u001B[0m\u001B]8;;\u001B\\\u001B[2m:\u001B[0m\u001B]8;id=663541;file:///media/felix/ShortTerm/Data/PycharmProjects/Get3DStructures/dataStructure/collections.py#138\u001B\\\u001B[2m138\u001B[0m\u001B]8;;\u001B\\\n",
      "\u001B[2;36m          \u001B[0m\u001B[2;36m \u001B[0m\u001B[34mINFO    \u001B[0m Copying PLDDT                             \u001B]8;id=206398;file:///media/felix/ShortTerm/Data/PycharmProjects/Get3DStructures/dataStructure/collections.py\u001B\\\u001B[2mcollections.py\u001B[0m\u001B]8;;\u001B\\\u001B[2m:\u001B[0m\u001B]8;id=885532;file:///media/felix/ShortTerm/Data/PycharmProjects/Get3DStructures/dataStructure/collections.py#138\u001B\\\u001B[2m138\u001B[0m\u001B]8;;\u001B\\\n",
      "\u001B[2;36m          \u001B[0m\u001B[2;36m \u001B[0m\u001B[34mINFO    \u001B[0m Copying PLDDT                             \u001B]8;id=837639;file:///media/felix/ShortTerm/Data/PycharmProjects/Get3DStructures/dataStructure/collections.py\u001B\\\u001B[2mcollections.py\u001B[0m\u001B]8;;\u001B\\\u001B[2m:\u001B[0m\u001B]8;id=78273;file:///media/felix/ShortTerm/Data/PycharmProjects/Get3DStructures/dataStructure/collections.py#138\u001B\\\u001B[2m138\u001B[0m\u001B]8;;\u001B\\\n",
      "\u001B[2;36m          \u001B[0m\u001B[2;36m \u001B[0m\u001B[34mINFO    \u001B[0m Copying PLDDT                             \u001B]8;id=369222;file:///media/felix/ShortTerm/Data/PycharmProjects/Get3DStructures/dataStructure/collections.py\u001B\\\u001B[2mcollections.py\u001B[0m\u001B]8;;\u001B\\\u001B[2m:\u001B[0m\u001B]8;id=591329;file:///media/felix/ShortTerm/Data/PycharmProjects/Get3DStructures/dataStructure/collections.py#138\u001B\\\u001B[2m138\u001B[0m\u001B]8;;\u001B\\\n",
      "\u001B[2;36m          \u001B[0m\u001B[2;36m \u001B[0m\u001B[34mINFO    \u001B[0m Copying PLDDT                             \u001B]8;id=348085;file:///media/felix/ShortTerm/Data/PycharmProjects/Get3DStructures/dataStructure/collections.py\u001B\\\u001B[2mcollections.py\u001B[0m\u001B]8;;\u001B\\\u001B[2m:\u001B[0m\u001B]8;id=472618;file:///media/felix/ShortTerm/Data/PycharmProjects/Get3DStructures/dataStructure/collections.py#138\u001B\\\u001B[2m138\u001B[0m\u001B]8;;\u001B\\\n",
      "\u001B[2;36m          \u001B[0m\u001B[2;36m \u001B[0m\u001B[34mINFO    \u001B[0m Copying PLDDT                             \u001B]8;id=34965;file:///media/felix/ShortTerm/Data/PycharmProjects/Get3DStructures/dataStructure/collections.py\u001B\\\u001B[2mcollections.py\u001B[0m\u001B]8;;\u001B\\\u001B[2m:\u001B[0m\u001B]8;id=30892;file:///media/felix/ShortTerm/Data/PycharmProjects/Get3DStructures/dataStructure/collections.py#138\u001B\\\u001B[2m138\u001B[0m\u001B]8;;\u001B\\\n",
      "\u001B[2;36m          \u001B[0m\u001B[2;36m \u001B[0m\u001B[34mINFO    \u001B[0m Copying PLDDT                             \u001B]8;id=656948;file:///media/felix/ShortTerm/Data/PycharmProjects/Get3DStructures/dataStructure/collections.py\u001B\\\u001B[2mcollections.py\u001B[0m\u001B]8;;\u001B\\\u001B[2m:\u001B[0m\u001B]8;id=883067;file:///media/felix/ShortTerm/Data/PycharmProjects/Get3DStructures/dataStructure/collections.py#138\u001B\\\u001B[2m138\u001B[0m\u001B]8;;\u001B\\\n",
      "\u001B[2;36m          \u001B[0m\u001B[2;36m \u001B[0m\u001B[34mINFO    \u001B[0m Copying PLDDT                             \u001B]8;id=245089;file:///media/felix/ShortTerm/Data/PycharmProjects/Get3DStructures/dataStructure/collections.py\u001B\\\u001B[2mcollections.py\u001B[0m\u001B]8;;\u001B\\\u001B[2m:\u001B[0m\u001B]8;id=673458;file:///media/felix/ShortTerm/Data/PycharmProjects/Get3DStructures/dataStructure/collections.py#138\u001B\\\u001B[2m138\u001B[0m\u001B]8;;\u001B\\\n",
      "\u001B[2;36m          \u001B[0m\u001B[2;36m \u001B[0m\u001B[34mINFO    \u001B[0m Copying PLDDT                             \u001B]8;id=898289;file:///media/felix/ShortTerm/Data/PycharmProjects/Get3DStructures/dataStructure/collections.py\u001B\\\u001B[2mcollections.py\u001B[0m\u001B]8;;\u001B\\\u001B[2m:\u001B[0m\u001B]8;id=76282;file:///media/felix/ShortTerm/Data/PycharmProjects/Get3DStructures/dataStructure/collections.py#138\u001B\\\u001B[2m138\u001B[0m\u001B]8;;\u001B\\\n",
      "\u001B[2;36m          \u001B[0m\u001B[2;36m \u001B[0m\u001B[34mINFO    \u001B[0m Copying PLDDT                             \u001B]8;id=215239;file:///media/felix/ShortTerm/Data/PycharmProjects/Get3DStructures/dataStructure/collections.py\u001B\\\u001B[2mcollections.py\u001B[0m\u001B]8;;\u001B\\\u001B[2m:\u001B[0m\u001B]8;id=945430;file:///media/felix/ShortTerm/Data/PycharmProjects/Get3DStructures/dataStructure/collections.py#138\u001B\\\u001B[2m138\u001B[0m\u001B]8;;\u001B\\\n",
      "\u001B[2;36m          \u001B[0m\u001B[2;36m \u001B[0m\u001B[34mINFO    \u001B[0m Copying PLDDT                             \u001B]8;id=636654;file:///media/felix/ShortTerm/Data/PycharmProjects/Get3DStructures/dataStructure/collections.py\u001B\\\u001B[2mcollections.py\u001B[0m\u001B]8;;\u001B\\\u001B[2m:\u001B[0m\u001B]8;id=29794;file:///media/felix/ShortTerm/Data/PycharmProjects/Get3DStructures/dataStructure/collections.py#138\u001B\\\u001B[2m138\u001B[0m\u001B]8;;\u001B\\\n",
      "\u001B[2;36m          \u001B[0m\u001B[2;36m \u001B[0m\u001B[34mINFO    \u001B[0m Copying PLDDT                             \u001B]8;id=608666;file:///media/felix/ShortTerm/Data/PycharmProjects/Get3DStructures/dataStructure/collections.py\u001B\\\u001B[2mcollections.py\u001B[0m\u001B]8;;\u001B\\\u001B[2m:\u001B[0m\u001B]8;id=898679;file:///media/felix/ShortTerm/Data/PycharmProjects/Get3DStructures/dataStructure/collections.py#138\u001B\\\u001B[2m138\u001B[0m\u001B]8;;\u001B\\\n",
      "\u001B[2;36m          \u001B[0m\u001B[2;36m \u001B[0m\u001B[34mINFO    \u001B[0m Copying PLDDT                             \u001B]8;id=48777;file:///media/felix/ShortTerm/Data/PycharmProjects/Get3DStructures/dataStructure/collections.py\u001B\\\u001B[2mcollections.py\u001B[0m\u001B]8;;\u001B\\\u001B[2m:\u001B[0m\u001B]8;id=406770;file:///media/felix/ShortTerm/Data/PycharmProjects/Get3DStructures/dataStructure/collections.py#138\u001B\\\u001B[2m138\u001B[0m\u001B]8;;\u001B\\\n",
      "\u001B[2;36m          \u001B[0m\u001B[2;36m \u001B[0m\u001B[34mINFO    \u001B[0m Copying PLDDT                             \u001B]8;id=248440;file:///media/felix/ShortTerm/Data/PycharmProjects/Get3DStructures/dataStructure/collections.py\u001B\\\u001B[2mcollections.py\u001B[0m\u001B]8;;\u001B\\\u001B[2m:\u001B[0m\u001B]8;id=648495;file:///media/felix/ShortTerm/Data/PycharmProjects/Get3DStructures/dataStructure/collections.py#138\u001B\\\u001B[2m138\u001B[0m\u001B]8;;\u001B\\\n",
      "\u001B[2;36m          \u001B[0m\u001B[2;36m \u001B[0m\u001B[34mINFO    \u001B[0m Copying PLDDT                             \u001B]8;id=213346;file:///media/felix/ShortTerm/Data/PycharmProjects/Get3DStructures/dataStructure/collections.py\u001B\\\u001B[2mcollections.py\u001B[0m\u001B]8;;\u001B\\\u001B[2m:\u001B[0m\u001B]8;id=735671;file:///media/felix/ShortTerm/Data/PycharmProjects/Get3DStructures/dataStructure/collections.py#138\u001B\\\u001B[2m138\u001B[0m\u001B]8;;\u001B\\\n",
      "\u001B[2;36m          \u001B[0m\u001B[2;36m \u001B[0m\u001B[34mINFO    \u001B[0m Copying PLDDT                             \u001B]8;id=454077;file:///media/felix/ShortTerm/Data/PycharmProjects/Get3DStructures/dataStructure/collections.py\u001B\\\u001B[2mcollections.py\u001B[0m\u001B]8;;\u001B\\\u001B[2m:\u001B[0m\u001B]8;id=653471;file:///media/felix/ShortTerm/Data/PycharmProjects/Get3DStructures/dataStructure/collections.py#138\u001B\\\u001B[2m138\u001B[0m\u001B]8;;\u001B\\\n",
      "\u001B[2;36m          \u001B[0m\u001B[2;36m \u001B[0m\u001B[34mINFO    \u001B[0m Copying PLDDT                             \u001B]8;id=50308;file:///media/felix/ShortTerm/Data/PycharmProjects/Get3DStructures/dataStructure/collections.py\u001B\\\u001B[2mcollections.py\u001B[0m\u001B]8;;\u001B\\\u001B[2m:\u001B[0m\u001B]8;id=766010;file:///media/felix/ShortTerm/Data/PycharmProjects/Get3DStructures/dataStructure/collections.py#138\u001B\\\u001B[2m138\u001B[0m\u001B]8;;\u001B\\\n",
      "\u001B[2;36m          \u001B[0m\u001B[2;36m \u001B[0m\u001B[34mINFO    \u001B[0m Copying PLDDT                             \u001B]8;id=12917;file:///media/felix/ShortTerm/Data/PycharmProjects/Get3DStructures/dataStructure/collections.py\u001B\\\u001B[2mcollections.py\u001B[0m\u001B]8;;\u001B\\\u001B[2m:\u001B[0m\u001B]8;id=555064;file:///media/felix/ShortTerm/Data/PycharmProjects/Get3DStructures/dataStructure/collections.py#138\u001B\\\u001B[2m138\u001B[0m\u001B]8;;\u001B\\\n",
      "\u001B[2;36m          \u001B[0m\u001B[2;36m \u001B[0m\u001B[34mINFO    \u001B[0m Copying PLDDT                             \u001B]8;id=908874;file:///media/felix/ShortTerm/Data/PycharmProjects/Get3DStructures/dataStructure/collections.py\u001B\\\u001B[2mcollections.py\u001B[0m\u001B]8;;\u001B\\\u001B[2m:\u001B[0m\u001B]8;id=770319;file:///media/felix/ShortTerm/Data/PycharmProjects/Get3DStructures/dataStructure/collections.py#138\u001B\\\u001B[2m138\u001B[0m\u001B]8;;\u001B\\\n",
      "\u001B[2;36m          \u001B[0m\u001B[2;36m \u001B[0m\u001B[34mINFO    \u001B[0m Copying PLDDT                             \u001B]8;id=38878;file:///media/felix/ShortTerm/Data/PycharmProjects/Get3DStructures/dataStructure/collections.py\u001B\\\u001B[2mcollections.py\u001B[0m\u001B]8;;\u001B\\\u001B[2m:\u001B[0m\u001B]8;id=603955;file:///media/felix/ShortTerm/Data/PycharmProjects/Get3DStructures/dataStructure/collections.py#138\u001B\\\u001B[2m138\u001B[0m\u001B]8;;\u001B\\\n",
      "\u001B[2;36m          \u001B[0m\u001B[2;36m \u001B[0m\u001B[34mINFO    \u001B[0m Copying PLDDT                             \u001B]8;id=118500;file:///media/felix/ShortTerm/Data/PycharmProjects/Get3DStructures/dataStructure/collections.py\u001B\\\u001B[2mcollections.py\u001B[0m\u001B]8;;\u001B\\\u001B[2m:\u001B[0m\u001B]8;id=950808;file:///media/felix/ShortTerm/Data/PycharmProjects/Get3DStructures/dataStructure/collections.py#138\u001B\\\u001B[2m138\u001B[0m\u001B]8;;\u001B\\\n",
      "\u001B[2;36m          \u001B[0m\u001B[2;36m \u001B[0m\u001B[34mINFO    \u001B[0m Copying PLDDT                             \u001B]8;id=989535;file:///media/felix/ShortTerm/Data/PycharmProjects/Get3DStructures/dataStructure/collections.py\u001B\\\u001B[2mcollections.py\u001B[0m\u001B]8;;\u001B\\\u001B[2m:\u001B[0m\u001B]8;id=956452;file:///media/felix/ShortTerm/Data/PycharmProjects/Get3DStructures/dataStructure/collections.py#138\u001B\\\u001B[2m138\u001B[0m\u001B]8;;\u001B\\\n",
      "\u001B[2;36m          \u001B[0m\u001B[2;36m \u001B[0m\u001B[34mINFO    \u001B[0m Copying PLDDT                             \u001B]8;id=211;file:///media/felix/ShortTerm/Data/PycharmProjects/Get3DStructures/dataStructure/collections.py\u001B\\\u001B[2mcollections.py\u001B[0m\u001B]8;;\u001B\\\u001B[2m:\u001B[0m\u001B]8;id=874743;file:///media/felix/ShortTerm/Data/PycharmProjects/Get3DStructures/dataStructure/collections.py#138\u001B\\\u001B[2m138\u001B[0m\u001B]8;;\u001B\\\n",
      "\u001B[2;36m          \u001B[0m\u001B[2;36m \u001B[0m\u001B[34mINFO    \u001B[0m Copying PLDDT                             \u001B]8;id=45601;file:///media/felix/ShortTerm/Data/PycharmProjects/Get3DStructures/dataStructure/collections.py\u001B\\\u001B[2mcollections.py\u001B[0m\u001B]8;;\u001B\\\u001B[2m:\u001B[0m\u001B]8;id=815149;file:///media/felix/ShortTerm/Data/PycharmProjects/Get3DStructures/dataStructure/collections.py#138\u001B\\\u001B[2m138\u001B[0m\u001B]8;;\u001B\\\n",
      "\u001B[2;36m          \u001B[0m\u001B[2;36m \u001B[0m\u001B[34mINFO    \u001B[0m Copying PLDDT                             \u001B]8;id=312580;file:///media/felix/ShortTerm/Data/PycharmProjects/Get3DStructures/dataStructure/collections.py\u001B\\\u001B[2mcollections.py\u001B[0m\u001B]8;;\u001B\\\u001B[2m:\u001B[0m\u001B]8;id=200842;file:///media/felix/ShortTerm/Data/PycharmProjects/Get3DStructures/dataStructure/collections.py#138\u001B\\\u001B[2m138\u001B[0m\u001B]8;;\u001B\\\n",
      "\u001B[2;36m          \u001B[0m\u001B[2;36m \u001B[0m\u001B[34mINFO    \u001B[0m Copying PLDDT                             \u001B]8;id=141194;file:///media/felix/ShortTerm/Data/PycharmProjects/Get3DStructures/dataStructure/collections.py\u001B\\\u001B[2mcollections.py\u001B[0m\u001B]8;;\u001B\\\u001B[2m:\u001B[0m\u001B]8;id=796741;file:///media/felix/ShortTerm/Data/PycharmProjects/Get3DStructures/dataStructure/collections.py#138\u001B\\\u001B[2m138\u001B[0m\u001B]8;;\u001B\\\n",
      "\u001B[2;36m          \u001B[0m\u001B[2;36m \u001B[0m\u001B[34mINFO    \u001B[0m Copying PLDDT                             \u001B]8;id=791703;file:///media/felix/ShortTerm/Data/PycharmProjects/Get3DStructures/dataStructure/collections.py\u001B\\\u001B[2mcollections.py\u001B[0m\u001B]8;;\u001B\\\u001B[2m:\u001B[0m\u001B]8;id=190939;file:///media/felix/ShortTerm/Data/PycharmProjects/Get3DStructures/dataStructure/collections.py#138\u001B\\\u001B[2m138\u001B[0m\u001B]8;;\u001B\\\n",
      "\u001B[2;36m          \u001B[0m\u001B[2;36m \u001B[0m\u001B[34mINFO    \u001B[0m Copying PLDDT                             \u001B]8;id=244660;file:///media/felix/ShortTerm/Data/PycharmProjects/Get3DStructures/dataStructure/collections.py\u001B\\\u001B[2mcollections.py\u001B[0m\u001B]8;;\u001B\\\u001B[2m:\u001B[0m\u001B]8;id=30030;file:///media/felix/ShortTerm/Data/PycharmProjects/Get3DStructures/dataStructure/collections.py#138\u001B\\\u001B[2m138\u001B[0m\u001B]8;;\u001B\\\n",
      "\u001B[2;36m          \u001B[0m\u001B[2;36m \u001B[0m\u001B[34mINFO    \u001B[0m Copying PLDDT                             \u001B]8;id=538775;file:///media/felix/ShortTerm/Data/PycharmProjects/Get3DStructures/dataStructure/collections.py\u001B\\\u001B[2mcollections.py\u001B[0m\u001B]8;;\u001B\\\u001B[2m:\u001B[0m\u001B]8;id=484709;file:///media/felix/ShortTerm/Data/PycharmProjects/Get3DStructures/dataStructure/collections.py#138\u001B\\\u001B[2m138\u001B[0m\u001B]8;;\u001B\\\n",
      "\u001B[2;36m          \u001B[0m\u001B[2;36m \u001B[0m\u001B[34mINFO    \u001B[0m Copying PLDDT                             \u001B]8;id=171738;file:///media/felix/ShortTerm/Data/PycharmProjects/Get3DStructures/dataStructure/collections.py\u001B\\\u001B[2mcollections.py\u001B[0m\u001B]8;;\u001B\\\u001B[2m:\u001B[0m\u001B]8;id=744977;file:///media/felix/ShortTerm/Data/PycharmProjects/Get3DStructures/dataStructure/collections.py#138\u001B\\\u001B[2m138\u001B[0m\u001B]8;;\u001B\\\n",
      "\u001B[2;36m          \u001B[0m\u001B[2;36m \u001B[0m\u001B[34mINFO    \u001B[0m Copying PLDDT                             \u001B]8;id=599764;file:///media/felix/ShortTerm/Data/PycharmProjects/Get3DStructures/dataStructure/collections.py\u001B\\\u001B[2mcollections.py\u001B[0m\u001B]8;;\u001B\\\u001B[2m:\u001B[0m\u001B]8;id=612759;file:///media/felix/ShortTerm/Data/PycharmProjects/Get3DStructures/dataStructure/collections.py#138\u001B\\\u001B[2m138\u001B[0m\u001B]8;;\u001B\\\n",
      "\u001B[2;36m          \u001B[0m\u001B[2;36m \u001B[0m\u001B[34mINFO    \u001B[0m Copying PLDDT                             \u001B]8;id=521082;file:///media/felix/ShortTerm/Data/PycharmProjects/Get3DStructures/dataStructure/collections.py\u001B\\\u001B[2mcollections.py\u001B[0m\u001B]8;;\u001B\\\u001B[2m:\u001B[0m\u001B]8;id=514604;file:///media/felix/ShortTerm/Data/PycharmProjects/Get3DStructures/dataStructure/collections.py#138\u001B\\\u001B[2m138\u001B[0m\u001B]8;;\u001B\\\n",
      "\u001B[2;36m          \u001B[0m\u001B[2;36m \u001B[0m\u001B[34mINFO    \u001B[0m Copying PLDDT                             \u001B]8;id=890886;file:///media/felix/ShortTerm/Data/PycharmProjects/Get3DStructures/dataStructure/collections.py\u001B\\\u001B[2mcollections.py\u001B[0m\u001B]8;;\u001B\\\u001B[2m:\u001B[0m\u001B]8;id=843477;file:///media/felix/ShortTerm/Data/PycharmProjects/Get3DStructures/dataStructure/collections.py#138\u001B\\\u001B[2m138\u001B[0m\u001B]8;;\u001B\\\n",
      "\u001B[2;36m          \u001B[0m\u001B[2;36m \u001B[0m\u001B[34mINFO    \u001B[0m Copying PLDDT                             \u001B]8;id=653016;file:///media/felix/ShortTerm/Data/PycharmProjects/Get3DStructures/dataStructure/collections.py\u001B\\\u001B[2mcollections.py\u001B[0m\u001B]8;;\u001B\\\u001B[2m:\u001B[0m\u001B]8;id=637383;file:///media/felix/ShortTerm/Data/PycharmProjects/Get3DStructures/dataStructure/collections.py#138\u001B\\\u001B[2m138\u001B[0m\u001B]8;;\u001B\\\n",
      "\u001B[2;36m          \u001B[0m\u001B[2;36m \u001B[0m\u001B[34mINFO    \u001B[0m Copying PLDDT                             \u001B]8;id=963202;file:///media/felix/ShortTerm/Data/PycharmProjects/Get3DStructures/dataStructure/collections.py\u001B\\\u001B[2mcollections.py\u001B[0m\u001B]8;;\u001B\\\u001B[2m:\u001B[0m\u001B]8;id=953994;file:///media/felix/ShortTerm/Data/PycharmProjects/Get3DStructures/dataStructure/collections.py#138\u001B\\\u001B[2m138\u001B[0m\u001B]8;;\u001B\\\n",
      "\u001B[2;36m          \u001B[0m\u001B[2;36m \u001B[0m\u001B[34mINFO    \u001B[0m Copying PLDDT                             \u001B]8;id=600768;file:///media/felix/ShortTerm/Data/PycharmProjects/Get3DStructures/dataStructure/collections.py\u001B\\\u001B[2mcollections.py\u001B[0m\u001B]8;;\u001B\\\u001B[2m:\u001B[0m\u001B]8;id=410536;file:///media/felix/ShortTerm/Data/PycharmProjects/Get3DStructures/dataStructure/collections.py#138\u001B\\\u001B[2m138\u001B[0m\u001B]8;;\u001B\\\n",
      "\u001B[2;36m          \u001B[0m\u001B[2;36m \u001B[0m\u001B[34mINFO    \u001B[0m Copying PLDDT                             \u001B]8;id=196663;file:///media/felix/ShortTerm/Data/PycharmProjects/Get3DStructures/dataStructure/collections.py\u001B\\\u001B[2mcollections.py\u001B[0m\u001B]8;;\u001B\\\u001B[2m:\u001B[0m\u001B]8;id=388021;file:///media/felix/ShortTerm/Data/PycharmProjects/Get3DStructures/dataStructure/collections.py#138\u001B\\\u001B[2m138\u001B[0m\u001B]8;;\u001B\\\n",
      "\u001B[2;36m          \u001B[0m\u001B[2;36m \u001B[0m\u001B[34mINFO    \u001B[0m Copying PLDDT                             \u001B]8;id=643651;file:///media/felix/ShortTerm/Data/PycharmProjects/Get3DStructures/dataStructure/collections.py\u001B\\\u001B[2mcollections.py\u001B[0m\u001B]8;;\u001B\\\u001B[2m:\u001B[0m\u001B]8;id=762643;file:///media/felix/ShortTerm/Data/PycharmProjects/Get3DStructures/dataStructure/collections.py#138\u001B\\\u001B[2m138\u001B[0m\u001B]8;;\u001B\\\n",
      "\u001B[2;36m          \u001B[0m\u001B[2;36m \u001B[0m\u001B[34mINFO    \u001B[0m Copying PLDDT                             \u001B]8;id=791004;file:///media/felix/ShortTerm/Data/PycharmProjects/Get3DStructures/dataStructure/collections.py\u001B\\\u001B[2mcollections.py\u001B[0m\u001B]8;;\u001B\\\u001B[2m:\u001B[0m\u001B]8;id=717148;file:///media/felix/ShortTerm/Data/PycharmProjects/Get3DStructures/dataStructure/collections.py#138\u001B\\\u001B[2m138\u001B[0m\u001B]8;;\u001B\\\n",
      "\u001B[2;36m          \u001B[0m\u001B[2;36m \u001B[0m\u001B[34mINFO    \u001B[0m Copying PLDDT                             \u001B]8;id=298575;file:///media/felix/ShortTerm/Data/PycharmProjects/Get3DStructures/dataStructure/collections.py\u001B\\\u001B[2mcollections.py\u001B[0m\u001B]8;;\u001B\\\u001B[2m:\u001B[0m\u001B]8;id=291512;file:///media/felix/ShortTerm/Data/PycharmProjects/Get3DStructures/dataStructure/collections.py#138\u001B\\\u001B[2m138\u001B[0m\u001B]8;;\u001B\\\n",
      "\u001B[2;36m          \u001B[0m\u001B[2;36m \u001B[0m\u001B[31mWARNING \u001B[0m Getting features failed with first method.   \u001B]8;id=876321;file:///media/felix/ShortTerm/Data/PycharmProjects/Get3DStructures/dataStructure/protein/accession.py\u001B\\\u001B[2maccession.py\u001B[0m\u001B]8;;\u001B\\\u001B[2m:\u001B[0m\u001B]8;id=277159;file:///media/felix/ShortTerm/Data/PycharmProjects/Get3DStructures/dataStructure/protein/accession.py#91\u001B\\\u001B[2m91\u001B[0m\u001B]8;;\u001B\\\n",
      "\u001B[2;36m           \u001B[0m         Attempting second method.                    \u001B[2m               \u001B[0m\n",
      "\u001B[2;36m          \u001B[0m\u001B[2;36m \u001B[0m\u001B[31mWARNING \u001B[0m Getting features failed with first method.   \u001B]8;id=868366;file:///media/felix/ShortTerm/Data/PycharmProjects/Get3DStructures/dataStructure/protein/accession.py\u001B\\\u001B[2maccession.py\u001B[0m\u001B]8;;\u001B\\\u001B[2m:\u001B[0m\u001B]8;id=179326;file:///media/felix/ShortTerm/Data/PycharmProjects/Get3DStructures/dataStructure/protein/accession.py#91\u001B\\\u001B[2m91\u001B[0m\u001B]8;;\u001B\\\n",
      "\u001B[2;36m           \u001B[0m         Attempting second method.                    \u001B[2m               \u001B[0m\n",
      "\u001B[2;36m          \u001B[0m\u001B[2;36m \u001B[0m\u001B[31mWARNING \u001B[0m Getting features failed with first method.   \u001B]8;id=298257;file:///media/felix/ShortTerm/Data/PycharmProjects/Get3DStructures/dataStructure/protein/accession.py\u001B\\\u001B[2maccession.py\u001B[0m\u001B]8;;\u001B\\\u001B[2m:\u001B[0m\u001B]8;id=589174;file:///media/felix/ShortTerm/Data/PycharmProjects/Get3DStructures/dataStructure/protein/accession.py#91\u001B\\\u001B[2m91\u001B[0m\u001B]8;;\u001B\\\n",
      "\u001B[2;36m           \u001B[0m         Attempting second method.                    \u001B[2m               \u001B[0m\n",
      "\u001B[2;36m          \u001B[0m\u001B[2;36m \u001B[0m\u001B[31mWARNING \u001B[0m Getting features failed with first method.   \u001B]8;id=663755;file:///media/felix/ShortTerm/Data/PycharmProjects/Get3DStructures/dataStructure/protein/accession.py\u001B\\\u001B[2maccession.py\u001B[0m\u001B]8;;\u001B\\\u001B[2m:\u001B[0m\u001B]8;id=407442;file:///media/felix/ShortTerm/Data/PycharmProjects/Get3DStructures/dataStructure/protein/accession.py#91\u001B\\\u001B[2m91\u001B[0m\u001B]8;;\u001B\\\n",
      "\u001B[2;36m           \u001B[0m         Attempting second method.                    \u001B[2m               \u001B[0m\n",
      "\u001B[2;36m          \u001B[0m\u001B[2;36m \u001B[0m\u001B[31mWARNING \u001B[0m Getting features failed with first method.   \u001B]8;id=325134;file:///media/felix/ShortTerm/Data/PycharmProjects/Get3DStructures/dataStructure/protein/accession.py\u001B\\\u001B[2maccession.py\u001B[0m\u001B]8;;\u001B\\\u001B[2m:\u001B[0m\u001B]8;id=13946;file:///media/felix/ShortTerm/Data/PycharmProjects/Get3DStructures/dataStructure/protein/accession.py#91\u001B\\\u001B[2m91\u001B[0m\u001B]8;;\u001B\\\n",
      "\u001B[2;36m           \u001B[0m         Attempting second method.                    \u001B[2m               \u001B[0m\n",
      "\u001B[2;36m          \u001B[0m\u001B[2;36m \u001B[0m\u001B[34mINFO    \u001B[0m Residues of interest: \u001B[1m[\u001B[0m\u001B[1;36m62\u001B[0m, \u001B[1;36m105\u001B[0m, \u001B[1;36m106\u001B[0m, \u001B[1;36m71\u001B[0m,    \u001B]8;id=305530;file:///media/felix/ShortTerm/Data/PycharmProjects/Get3DStructures/Commands/calculate/calculate.py\u001B\\\u001B[2mcalculate.py\u001B[0m\u001B]8;;\u001B\\\u001B[2m:\u001B[0m\u001B]8;id=141515;file:///media/felix/ShortTerm/Data/PycharmProjects/Get3DStructures/Commands/calculate/calculate.py#153\u001B\\\u001B[2m153\u001B[0m\u001B]8;;\u001B\\\n",
      "\u001B[2;36m           \u001B[0m         \u001B[1;36m176\u001B[0m\u001B[1m]\u001B[0m                                        \u001B[2m                \u001B[0m\n",
      "Dijkstra took 19.77s\n",
      "MDS took 0.00s\n",
      "Dijkstra took 20.22s\n",
      "MDS took 0.00s\n",
      "Dijkstra took 20.45s\n",
      "MDS took 0.00s\n",
      "Dijkstra took 19.91s\n",
      "MDS took 0.00s\n",
      "Dijkstra took 19.55s\n",
      "MDS took 0.00s\n",
      "Dijkstra took 20.98s\n",
      "MDS took 0.00s\n",
      "Dijkstra took 20.51s\n",
      "MDS took 0.00s\n",
      "Dijkstra took 19.95s\n",
      "MDS took 0.00s\n",
      "Dijkstra took 20.21s\n",
      "MDS took 0.00s\n",
      "Dijkstra took 20.36s\n",
      "MDS took 0.00s\n",
      "Dijkstra took 20.32s\n",
      "MDS took 0.00s\n",
      "Dijkstra took 20.30s\n",
      "MDS took 0.00s\n",
      "Dijkstra took 19.53s\n",
      "MDS took 0.00s\n",
      "Dijkstra took 21.30s\n",
      "MDS took 0.00s\n",
      "Dijkstra took 20.25s\n",
      "MDS took 0.00s\n",
      "Dijkstra took 20.67s\n",
      "MDS took 0.00s\n",
      "Dijkstra took 20.84s\n",
      "MDS took 0.00s\n",
      "Dijkstra took 19.32s\n",
      "MDS took 0.00s\n",
      "Dijkstra took 21.62s\n",
      "MDS took 0.00s\n",
      "Dijkstra took 20.58s\n",
      "MDS took 0.00s\n",
      "Dijkstra took 20.44s\n",
      "MDS took 0.00s\n",
      "Dijkstra took 20.57s\n",
      "MDS took 0.00s\n",
      "Dijkstra took 20.37s\n",
      "MDS took 0.00s\n",
      "Dijkstra took 20.88s\n",
      "MDS took 0.00s\n",
      "Dijkstra took 20.50s\n",
      "MDS took 0.00s\n",
      "Dijkstra took 20.91s\n",
      "MDS took 0.00s\n",
      "Dijkstra took 20.43s\n",
      "MDS took 0.00s\n",
      "Dijkstra took 21.33s\n",
      "MDS took 0.00s\n",
      "Dijkstra took 17.71s\n",
      "MDS took 0.00s\n",
      "Dijkstra took 18.30s\n",
      "MDS took 0.00s\n",
      "Dijkstra took 14.26s\n",
      "MDS took 0.00s\n",
      "Dijkstra took 16.87s\n",
      "MDS took 0.00s\n",
      "Dijkstra took 20.65s\n",
      "MDS took 0.00s\n",
      "Dijkstra took 12.81s\n",
      "MDS took 0.00s\n",
      "Dijkstra took 19.58s\n",
      "MDS took 0.00s\n",
      "Dijkstra took 17.51s\n",
      "MDS took 0.00s\n",
      "Dijkstra took 12.37s\n",
      "MDS took 0.00s\n",
      "Dijkstra took 19.11s\n",
      "MDS took 0.00s\n",
      "Dijkstra took 16.78s\n",
      "MDS took 0.00s\n",
      "Dijkstra took 14.18s\n",
      "MDS took 0.00s\n",
      "Dijkstra took 19.45s\n",
      "MDS took 0.00s\n",
      "Dijkstra took 18.69s\n",
      "MDS took 0.00s\n",
      "Dijkstra took 12.80s\n",
      "MDS took 0.00s\n",
      "Dijkstra took 17.87s\n",
      "MDS took 0.00s\n",
      "Dijkstra took 18.45s\n",
      "MDS took 0.00s\n",
      "Dijkstra took 14.05s\n",
      "MDS took 0.00s\n",
      "Dijkstra took 19.25s\n",
      "MDS took 0.00s\n",
      "Dijkstra took 19.43s\n",
      "MDS took 0.00s\n",
      "Dijkstra took 11.85s\n",
      "MDS took 0.00s\n",
      "Dijkstra took 18.29s\n",
      "MDS took 0.00s\n",
      "Dijkstra took 19.91s\n",
      "MDS took 0.00s\n",
      "Dijkstra took 12.05s\n",
      "MDS took 0.00s\n",
      "Dijkstra took 19.21s\n",
      "MDS took 0.00s\n",
      "Dijkstra took 17.53s\n",
      "MDS took 0.00s\n",
      "Dijkstra took 13.14s\n",
      "MDS took 0.00s\n",
      "Dijkstra took 19.89s\n",
      "MDS took 0.00s\n",
      "Dijkstra took 18.34s\n",
      "MDS took 0.00s\n",
      "Dijkstra took 11.98s\n",
      "MDS took 0.00s\n",
      "Dijkstra took 19.00s\n",
      "MDS took 0.00s\n",
      "Dijkstra took 19.68s\n",
      "MDS took 0.00s\n",
      "Dijkstra took 11.20s\n",
      "MDS took 0.00s\n",
      "Dijkstra took 18.11s\n",
      "MDS took 0.00s\n",
      "Dijkstra took 19.32s\n",
      "MDS took 0.00s\n",
      "Dijkstra took 13.61s\n",
      "MDS took 0.00s\n",
      "Dijkstra took 20.13s\n",
      "MDS took 0.00s\n",
      "Dijkstra took 20.12s\n",
      "MDS took 0.00s\n",
      "Dijkstra took 10.97s\n",
      "MDS took 0.00s\n",
      "Dijkstra took 19.61s\n",
      "MDS took 0.00s\n",
      "Dijkstra took 20.18s\n",
      "MDS took 0.00s\n",
      "Dijkstra took 11.97s\n",
      "MDS took 0.00s\n",
      "Dijkstra took 19.70s\n",
      "MDS took 0.00s\n",
      "Dijkstra took 19.70s\n",
      "MDS took 0.00s\n",
      "Dijkstra took 12.01s\n",
      "MDS took 0.00s\n",
      "Dijkstra took 20.69s\n",
      "MDS took 0.00s\n",
      "Dijkstra took 19.24s\n",
      "MDS took 0.00s\n",
      "Dijkstra took 12.65s\n",
      "MDS took 0.00s\n",
      "\u001B[2;36m[14:36:11]\u001B[0m\u001B[2;36m \u001B[0m\u001B[31mWARNING \u001B[0m Getting features failed with first method.   \u001B]8;id=594692;file:///media/felix/ShortTerm/Data/PycharmProjects/Get3DStructures/dataStructure/protein/accession.py\u001B\\\u001B[2maccession.py\u001B[0m\u001B]8;;\u001B\\\u001B[2m:\u001B[0m\u001B]8;id=272237;file:///media/felix/ShortTerm/Data/PycharmProjects/Get3DStructures/dataStructure/protein/accession.py#91\u001B\\\u001B[2m91\u001B[0m\u001B]8;;\u001B\\\n",
      "\u001B[2;36m           \u001B[0m         Attempting second method.                    \u001B[2m               \u001B[0m\n",
      "\u001B[2;36m          \u001B[0m\u001B[2;36m \u001B[0m\u001B[34mINFO    \u001B[0m Residues of interest: \u001B[1m[\u001B[0m\u001B[1;36m133\u001B[0m\u001B[1m]\u001B[0m                 \u001B]8;id=93590;file:///media/felix/ShortTerm/Data/PycharmProjects/Get3DStructures/Commands/calculate/calculate.py\u001B\\\u001B[2mcalculate.py\u001B[0m\u001B]8;;\u001B\\\u001B[2m:\u001B[0m\u001B]8;id=258441;file:///media/felix/ShortTerm/Data/PycharmProjects/Get3DStructures/Commands/calculate/calculate.py#153\u001B\\\u001B[2m153\u001B[0m\u001B]8;;\u001B\\\n",
      "Dijkstra took 35.27s\n",
      "MDS took 0.00s\n",
      "Dijkstra took 35.41s\n",
      "MDS took 0.00s\n",
      "Dijkstra took 35.36s\n",
      "MDS took 0.00s\n",
      "Dijkstra took 37.73s\n",
      "MDS took 0.00s\n",
      "Dijkstra took 35.99s\n",
      "MDS took 0.00s\n",
      "Dijkstra took 36.09s\n",
      "MDS took 0.00s\n",
      "Dijkstra took 36.32s\n",
      "MDS took 0.00s\n",
      "Dijkstra took 38.44s\n",
      "MDS took 0.00s\n",
      "Dijkstra took 37.94s\n",
      "MDS took 0.00s\n",
      "Dijkstra took 38.28s\n",
      "MDS took 0.00s\n",
      "Dijkstra took 37.79s\n",
      "MDS took 0.00s\n",
      "Dijkstra took 38.10s\n",
      "MDS took 0.00s\n",
      "Dijkstra took 37.80s\n",
      "MDS took 0.00s\n",
      "Dijkstra took 37.99s\n",
      "MDS took 0.00s\n",
      "Dijkstra took 38.22s\n",
      "MDS took 0.00s\n",
      "Dijkstra took 39.08s\n",
      "MDS took 0.00s\n",
      "Dijkstra took 38.22s\n",
      "MDS took 0.00s\n",
      "Dijkstra took 37.98s\n",
      "MDS took 0.00s\n",
      "Dijkstra took 39.46s\n",
      "MDS took 0.00s\n",
      "Dijkstra took 38.69s\n",
      "MDS took 0.00s\n",
      "Dijkstra took 38.79s\n",
      "MDS took 0.00s\n",
      "Dijkstra took 38.66s\n",
      "MDS took 0.00s\n",
      "Dijkstra took 40.02s\n",
      "MDS took 0.00s\n",
      "Dijkstra took 38.55s\n",
      "MDS took 0.00s\n",
      "Dijkstra took 38.80s\n",
      "MDS took 0.00s\n",
      "Dijkstra took 39.11s\n",
      "MDS took 0.00s\n",
      "Dijkstra took 39.77s\n",
      "MDS took 0.00s\n",
      "Dijkstra took 40.54s\n",
      "MDS took 0.00s\n",
      "Dijkstra took 40.30s\n",
      "MDS took 0.00s\n",
      "Dijkstra took 33.82s\n",
      "MDS took 0.00s\n",
      "Dijkstra took 21.09s\n",
      "MDS took 0.00s\n",
      "\u001B[2;36m[14:37:27]\u001B[0m\u001B[2;36m \u001B[0m\u001B[34mINFO    \u001B[0m Copying PLDDT                             \u001B]8;id=367471;file:///media/felix/ShortTerm/Data/PycharmProjects/Get3DStructures/dataStructure/collections.py\u001B\\\u001B[2mcollections.py\u001B[0m\u001B]8;;\u001B\\\u001B[2m:\u001B[0m\u001B]8;id=142108;file:///media/felix/ShortTerm/Data/PycharmProjects/Get3DStructures/dataStructure/collections.py#138\u001B\\\u001B[2m138\u001B[0m\u001B]8;;\u001B\\\n",
      "\u001B[2;36m          \u001B[0m\u001B[2;36m \u001B[0m\u001B[34mINFO    \u001B[0m Copying PLDDT                             \u001B]8;id=18096;file:///media/felix/ShortTerm/Data/PycharmProjects/Get3DStructures/dataStructure/collections.py\u001B\\\u001B[2mcollections.py\u001B[0m\u001B]8;;\u001B\\\u001B[2m:\u001B[0m\u001B]8;id=670714;file:///media/felix/ShortTerm/Data/PycharmProjects/Get3DStructures/dataStructure/collections.py#138\u001B\\\u001B[2m138\u001B[0m\u001B]8;;\u001B\\\n",
      "\u001B[2;36m          \u001B[0m\u001B[2;36m \u001B[0m\u001B[34mINFO    \u001B[0m Copying PLDDT                             \u001B]8;id=516424;file:///media/felix/ShortTerm/Data/PycharmProjects/Get3DStructures/dataStructure/collections.py\u001B\\\u001B[2mcollections.py\u001B[0m\u001B]8;;\u001B\\\u001B[2m:\u001B[0m\u001B]8;id=519284;file:///media/felix/ShortTerm/Data/PycharmProjects/Get3DStructures/dataStructure/collections.py#138\u001B\\\u001B[2m138\u001B[0m\u001B]8;;\u001B\\\n",
      "\u001B[2;36m          \u001B[0m\u001B[2;36m \u001B[0m\u001B[34mINFO    \u001B[0m Copying PLDDT                             \u001B]8;id=538805;file:///media/felix/ShortTerm/Data/PycharmProjects/Get3DStructures/dataStructure/collections.py\u001B\\\u001B[2mcollections.py\u001B[0m\u001B]8;;\u001B\\\u001B[2m:\u001B[0m\u001B]8;id=19548;file:///media/felix/ShortTerm/Data/PycharmProjects/Get3DStructures/dataStructure/collections.py#138\u001B\\\u001B[2m138\u001B[0m\u001B]8;;\u001B\\\n",
      "\u001B[2;36m          \u001B[0m\u001B[2;36m \u001B[0m\u001B[34mINFO    \u001B[0m Copying PLDDT                             \u001B]8;id=860164;file:///media/felix/ShortTerm/Data/PycharmProjects/Get3DStructures/dataStructure/collections.py\u001B\\\u001B[2mcollections.py\u001B[0m\u001B]8;;\u001B\\\u001B[2m:\u001B[0m\u001B]8;id=69988;file:///media/felix/ShortTerm/Data/PycharmProjects/Get3DStructures/dataStructure/collections.py#138\u001B\\\u001B[2m138\u001B[0m\u001B]8;;\u001B\\\n",
      "\u001B[2;36m          \u001B[0m\u001B[2;36m \u001B[0m\u001B[34mINFO    \u001B[0m Copying PLDDT                             \u001B]8;id=433687;file:///media/felix/ShortTerm/Data/PycharmProjects/Get3DStructures/dataStructure/collections.py\u001B\\\u001B[2mcollections.py\u001B[0m\u001B]8;;\u001B\\\u001B[2m:\u001B[0m\u001B]8;id=850939;file:///media/felix/ShortTerm/Data/PycharmProjects/Get3DStructures/dataStructure/collections.py#138\u001B\\\u001B[2m138\u001B[0m\u001B]8;;\u001B\\\n",
      "\u001B[2;36m          \u001B[0m\u001B[2;36m \u001B[0m\u001B[34mINFO    \u001B[0m Copying PLDDT                             \u001B]8;id=205517;file:///media/felix/ShortTerm/Data/PycharmProjects/Get3DStructures/dataStructure/collections.py\u001B\\\u001B[2mcollections.py\u001B[0m\u001B]8;;\u001B\\\u001B[2m:\u001B[0m\u001B]8;id=116155;file:///media/felix/ShortTerm/Data/PycharmProjects/Get3DStructures/dataStructure/collections.py#138\u001B\\\u001B[2m138\u001B[0m\u001B]8;;\u001B\\\n",
      "\u001B[2;36m          \u001B[0m\u001B[2;36m \u001B[0m\u001B[34mINFO    \u001B[0m Copying PLDDT                             \u001B]8;id=181116;file:///media/felix/ShortTerm/Data/PycharmProjects/Get3DStructures/dataStructure/collections.py\u001B\\\u001B[2mcollections.py\u001B[0m\u001B]8;;\u001B\\\u001B[2m:\u001B[0m\u001B]8;id=454392;file:///media/felix/ShortTerm/Data/PycharmProjects/Get3DStructures/dataStructure/collections.py#138\u001B\\\u001B[2m138\u001B[0m\u001B]8;;\u001B\\\n",
      "\u001B[2;36m          \u001B[0m\u001B[2;36m \u001B[0m\u001B[34mINFO    \u001B[0m Copying PLDDT                             \u001B]8;id=530080;file:///media/felix/ShortTerm/Data/PycharmProjects/Get3DStructures/dataStructure/collections.py\u001B\\\u001B[2mcollections.py\u001B[0m\u001B]8;;\u001B\\\u001B[2m:\u001B[0m\u001B]8;id=605470;file:///media/felix/ShortTerm/Data/PycharmProjects/Get3DStructures/dataStructure/collections.py#138\u001B\\\u001B[2m138\u001B[0m\u001B]8;;\u001B\\\n",
      "\u001B[2;36m          \u001B[0m\u001B[2;36m \u001B[0m\u001B[34mINFO    \u001B[0m Copying PLDDT                             \u001B]8;id=455090;file:///media/felix/ShortTerm/Data/PycharmProjects/Get3DStructures/dataStructure/collections.py\u001B\\\u001B[2mcollections.py\u001B[0m\u001B]8;;\u001B\\\u001B[2m:\u001B[0m\u001B]8;id=32859;file:///media/felix/ShortTerm/Data/PycharmProjects/Get3DStructures/dataStructure/collections.py#138\u001B\\\u001B[2m138\u001B[0m\u001B]8;;\u001B\\\n",
      "\u001B[2;36m          \u001B[0m\u001B[2;36m \u001B[0m\u001B[34mINFO    \u001B[0m Copying PLDDT                             \u001B]8;id=717298;file:///media/felix/ShortTerm/Data/PycharmProjects/Get3DStructures/dataStructure/collections.py\u001B\\\u001B[2mcollections.py\u001B[0m\u001B]8;;\u001B\\\u001B[2m:\u001B[0m\u001B]8;id=820109;file:///media/felix/ShortTerm/Data/PycharmProjects/Get3DStructures/dataStructure/collections.py#138\u001B\\\u001B[2m138\u001B[0m\u001B]8;;\u001B\\\n",
      "\u001B[2;36m          \u001B[0m\u001B[2;36m \u001B[0m\u001B[34mINFO    \u001B[0m Copying PLDDT                             \u001B]8;id=88155;file:///media/felix/ShortTerm/Data/PycharmProjects/Get3DStructures/dataStructure/collections.py\u001B\\\u001B[2mcollections.py\u001B[0m\u001B]8;;\u001B\\\u001B[2m:\u001B[0m\u001B]8;id=459855;file:///media/felix/ShortTerm/Data/PycharmProjects/Get3DStructures/dataStructure/collections.py#138\u001B\\\u001B[2m138\u001B[0m\u001B]8;;\u001B\\\n",
      "\u001B[2;36m          \u001B[0m\u001B[2;36m \u001B[0m\u001B[34mINFO    \u001B[0m Copying PLDDT                             \u001B]8;id=321676;file:///media/felix/ShortTerm/Data/PycharmProjects/Get3DStructures/dataStructure/collections.py\u001B\\\u001B[2mcollections.py\u001B[0m\u001B]8;;\u001B\\\u001B[2m:\u001B[0m\u001B]8;id=221483;file:///media/felix/ShortTerm/Data/PycharmProjects/Get3DStructures/dataStructure/collections.py#138\u001B\\\u001B[2m138\u001B[0m\u001B]8;;\u001B\\\n",
      "\u001B[2;36m          \u001B[0m\u001B[2;36m \u001B[0m\u001B[34mINFO    \u001B[0m Copying PLDDT                             \u001B]8;id=201214;file:///media/felix/ShortTerm/Data/PycharmProjects/Get3DStructures/dataStructure/collections.py\u001B\\\u001B[2mcollections.py\u001B[0m\u001B]8;;\u001B\\\u001B[2m:\u001B[0m\u001B]8;id=8758;file:///media/felix/ShortTerm/Data/PycharmProjects/Get3DStructures/dataStructure/collections.py#138\u001B\\\u001B[2m138\u001B[0m\u001B]8;;\u001B\\\n",
      "\u001B[2;36m          \u001B[0m\u001B[2;36m \u001B[0m\u001B[34mINFO    \u001B[0m Copying PLDDT                             \u001B]8;id=718695;file:///media/felix/ShortTerm/Data/PycharmProjects/Get3DStructures/dataStructure/collections.py\u001B\\\u001B[2mcollections.py\u001B[0m\u001B]8;;\u001B\\\u001B[2m:\u001B[0m\u001B]8;id=461636;file:///media/felix/ShortTerm/Data/PycharmProjects/Get3DStructures/dataStructure/collections.py#138\u001B\\\u001B[2m138\u001B[0m\u001B]8;;\u001B\\\n",
      "\u001B[2;36m          \u001B[0m\u001B[2;36m \u001B[0m\u001B[34mINFO    \u001B[0m Copying PLDDT                             \u001B]8;id=828398;file:///media/felix/ShortTerm/Data/PycharmProjects/Get3DStructures/dataStructure/collections.py\u001B\\\u001B[2mcollections.py\u001B[0m\u001B]8;;\u001B\\\u001B[2m:\u001B[0m\u001B]8;id=399380;file:///media/felix/ShortTerm/Data/PycharmProjects/Get3DStructures/dataStructure/collections.py#138\u001B\\\u001B[2m138\u001B[0m\u001B]8;;\u001B\\\n",
      "\u001B[2;36m          \u001B[0m\u001B[2;36m \u001B[0m\u001B[34mINFO    \u001B[0m Copying PLDDT                             \u001B]8;id=896571;file:///media/felix/ShortTerm/Data/PycharmProjects/Get3DStructures/dataStructure/collections.py\u001B\\\u001B[2mcollections.py\u001B[0m\u001B]8;;\u001B\\\u001B[2m:\u001B[0m\u001B]8;id=140518;file:///media/felix/ShortTerm/Data/PycharmProjects/Get3DStructures/dataStructure/collections.py#138\u001B\\\u001B[2m138\u001B[0m\u001B]8;;\u001B\\\n",
      "\u001B[2;36m          \u001B[0m\u001B[2;36m \u001B[0m\u001B[34mINFO    \u001B[0m Copying PLDDT                             \u001B]8;id=920163;file:///media/felix/ShortTerm/Data/PycharmProjects/Get3DStructures/dataStructure/collections.py\u001B\\\u001B[2mcollections.py\u001B[0m\u001B]8;;\u001B\\\u001B[2m:\u001B[0m\u001B]8;id=414320;file:///media/felix/ShortTerm/Data/PycharmProjects/Get3DStructures/dataStructure/collections.py#138\u001B\\\u001B[2m138\u001B[0m\u001B]8;;\u001B\\\n",
      "\u001B[2;36m          \u001B[0m\u001B[2;36m \u001B[0m\u001B[34mINFO    \u001B[0m Copying PLDDT                             \u001B]8;id=977839;file:///media/felix/ShortTerm/Data/PycharmProjects/Get3DStructures/dataStructure/collections.py\u001B\\\u001B[2mcollections.py\u001B[0m\u001B]8;;\u001B\\\u001B[2m:\u001B[0m\u001B]8;id=716418;file:///media/felix/ShortTerm/Data/PycharmProjects/Get3DStructures/dataStructure/collections.py#138\u001B\\\u001B[2m138\u001B[0m\u001B]8;;\u001B\\\n",
      "\u001B[2;36m          \u001B[0m\u001B[2;36m \u001B[0m\u001B[34mINFO    \u001B[0m Copying PLDDT                             \u001B]8;id=811813;file:///media/felix/ShortTerm/Data/PycharmProjects/Get3DStructures/dataStructure/collections.py\u001B\\\u001B[2mcollections.py\u001B[0m\u001B]8;;\u001B\\\u001B[2m:\u001B[0m\u001B]8;id=177696;file:///media/felix/ShortTerm/Data/PycharmProjects/Get3DStructures/dataStructure/collections.py#138\u001B\\\u001B[2m138\u001B[0m\u001B]8;;\u001B\\\n",
      "\u001B[2;36m          \u001B[0m\u001B[2;36m \u001B[0m\u001B[34mINFO    \u001B[0m Copying PLDDT                             \u001B]8;id=955058;file:///media/felix/ShortTerm/Data/PycharmProjects/Get3DStructures/dataStructure/collections.py\u001B\\\u001B[2mcollections.py\u001B[0m\u001B]8;;\u001B\\\u001B[2m:\u001B[0m\u001B]8;id=587319;file:///media/felix/ShortTerm/Data/PycharmProjects/Get3DStructures/dataStructure/collections.py#138\u001B\\\u001B[2m138\u001B[0m\u001B]8;;\u001B\\\n",
      "\u001B[2;36m          \u001B[0m\u001B[2;36m \u001B[0m\u001B[34mINFO    \u001B[0m Copying PLDDT                             \u001B]8;id=805327;file:///media/felix/ShortTerm/Data/PycharmProjects/Get3DStructures/dataStructure/collections.py\u001B\\\u001B[2mcollections.py\u001B[0m\u001B]8;;\u001B\\\u001B[2m:\u001B[0m\u001B]8;id=293865;file:///media/felix/ShortTerm/Data/PycharmProjects/Get3DStructures/dataStructure/collections.py#138\u001B\\\u001B[2m138\u001B[0m\u001B]8;;\u001B\\\n",
      "\u001B[2;36m          \u001B[0m\u001B[2;36m \u001B[0m\u001B[34mINFO    \u001B[0m Copying PLDDT                             \u001B]8;id=82517;file:///media/felix/ShortTerm/Data/PycharmProjects/Get3DStructures/dataStructure/collections.py\u001B\\\u001B[2mcollections.py\u001B[0m\u001B]8;;\u001B\\\u001B[2m:\u001B[0m\u001B]8;id=937009;file:///media/felix/ShortTerm/Data/PycharmProjects/Get3DStructures/dataStructure/collections.py#138\u001B\\\u001B[2m138\u001B[0m\u001B]8;;\u001B\\\n",
      "\u001B[2;36m          \u001B[0m\u001B[2;36m \u001B[0m\u001B[34mINFO    \u001B[0m Copying PLDDT                             \u001B]8;id=314287;file:///media/felix/ShortTerm/Data/PycharmProjects/Get3DStructures/dataStructure/collections.py\u001B\\\u001B[2mcollections.py\u001B[0m\u001B]8;;\u001B\\\u001B[2m:\u001B[0m\u001B]8;id=856931;file:///media/felix/ShortTerm/Data/PycharmProjects/Get3DStructures/dataStructure/collections.py#138\u001B\\\u001B[2m138\u001B[0m\u001B]8;;\u001B\\\n",
      "\u001B[2;36m          \u001B[0m\u001B[2;36m \u001B[0m\u001B[34mINFO    \u001B[0m Copying PLDDT                             \u001B]8;id=78956;file:///media/felix/ShortTerm/Data/PycharmProjects/Get3DStructures/dataStructure/collections.py\u001B\\\u001B[2mcollections.py\u001B[0m\u001B]8;;\u001B\\\u001B[2m:\u001B[0m\u001B]8;id=314327;file:///media/felix/ShortTerm/Data/PycharmProjects/Get3DStructures/dataStructure/collections.py#138\u001B\\\u001B[2m138\u001B[0m\u001B]8;;\u001B\\\n",
      "\u001B[2;36m          \u001B[0m\u001B[2;36m \u001B[0m\u001B[34mINFO    \u001B[0m Copying PLDDT                             \u001B]8;id=178706;file:///media/felix/ShortTerm/Data/PycharmProjects/Get3DStructures/dataStructure/collections.py\u001B\\\u001B[2mcollections.py\u001B[0m\u001B]8;;\u001B\\\u001B[2m:\u001B[0m\u001B]8;id=388780;file:///media/felix/ShortTerm/Data/PycharmProjects/Get3DStructures/dataStructure/collections.py#138\u001B\\\u001B[2m138\u001B[0m\u001B]8;;\u001B\\\n",
      "\u001B[2;36m          \u001B[0m\u001B[2;36m \u001B[0m\u001B[34mINFO    \u001B[0m Copying PLDDT                             \u001B]8;id=58709;file:///media/felix/ShortTerm/Data/PycharmProjects/Get3DStructures/dataStructure/collections.py\u001B\\\u001B[2mcollections.py\u001B[0m\u001B]8;;\u001B\\\u001B[2m:\u001B[0m\u001B]8;id=449715;file:///media/felix/ShortTerm/Data/PycharmProjects/Get3DStructures/dataStructure/collections.py#138\u001B\\\u001B[2m138\u001B[0m\u001B]8;;\u001B\\\n",
      "\u001B[2;36m          \u001B[0m\u001B[2;36m \u001B[0m\u001B[34mINFO    \u001B[0m Copying PLDDT                             \u001B]8;id=741886;file:///media/felix/ShortTerm/Data/PycharmProjects/Get3DStructures/dataStructure/collections.py\u001B\\\u001B[2mcollections.py\u001B[0m\u001B]8;;\u001B\\\u001B[2m:\u001B[0m\u001B]8;id=495789;file:///media/felix/ShortTerm/Data/PycharmProjects/Get3DStructures/dataStructure/collections.py#138\u001B\\\u001B[2m138\u001B[0m\u001B]8;;\u001B\\\n",
      "\u001B[2;36m          \u001B[0m\u001B[2;36m \u001B[0m\u001B[34mINFO    \u001B[0m Copying PLDDT                             \u001B]8;id=529935;file:///media/felix/ShortTerm/Data/PycharmProjects/Get3DStructures/dataStructure/collections.py\u001B\\\u001B[2mcollections.py\u001B[0m\u001B]8;;\u001B\\\u001B[2m:\u001B[0m\u001B]8;id=22307;file:///media/felix/ShortTerm/Data/PycharmProjects/Get3DStructures/dataStructure/collections.py#138\u001B\\\u001B[2m138\u001B[0m\u001B]8;;\u001B\\\n",
      "\u001B[2;36m          \u001B[0m\u001B[2;36m \u001B[0m\u001B[34mINFO    \u001B[0m Copying PLDDT                             \u001B]8;id=363707;file:///media/felix/ShortTerm/Data/PycharmProjects/Get3DStructures/dataStructure/collections.py\u001B\\\u001B[2mcollections.py\u001B[0m\u001B]8;;\u001B\\\u001B[2m:\u001B[0m\u001B]8;id=421815;file:///media/felix/ShortTerm/Data/PycharmProjects/Get3DStructures/dataStructure/collections.py#138\u001B\\\u001B[2m138\u001B[0m\u001B]8;;\u001B\\\n",
      "\u001B[2;36m          \u001B[0m\u001B[2;36m \u001B[0m\u001B[34mINFO    \u001B[0m Copying PLDDT                             \u001B]8;id=288787;file:///media/felix/ShortTerm/Data/PycharmProjects/Get3DStructures/dataStructure/collections.py\u001B\\\u001B[2mcollections.py\u001B[0m\u001B]8;;\u001B\\\u001B[2m:\u001B[0m\u001B]8;id=897660;file:///media/felix/ShortTerm/Data/PycharmProjects/Get3DStructures/dataStructure/collections.py#138\u001B\\\u001B[2m138\u001B[0m\u001B]8;;\u001B\\\n",
      "\u001B[2;36m          \u001B[0m\u001B[2;36m \u001B[0m\u001B[34mINFO    \u001B[0m Copying PLDDT                             \u001B]8;id=881273;file:///media/felix/ShortTerm/Data/PycharmProjects/Get3DStructures/dataStructure/collections.py\u001B\\\u001B[2mcollections.py\u001B[0m\u001B]8;;\u001B\\\u001B[2m:\u001B[0m\u001B]8;id=679514;file:///media/felix/ShortTerm/Data/PycharmProjects/Get3DStructures/dataStructure/collections.py#138\u001B\\\u001B[2m138\u001B[0m\u001B]8;;\u001B\\\n",
      "\u001B[2;36m          \u001B[0m\u001B[2;36m \u001B[0m\u001B[34mINFO    \u001B[0m Copying PLDDT                             \u001B]8;id=856106;file:///media/felix/ShortTerm/Data/PycharmProjects/Get3DStructures/dataStructure/collections.py\u001B\\\u001B[2mcollections.py\u001B[0m\u001B]8;;\u001B\\\u001B[2m:\u001B[0m\u001B]8;id=104606;file:///media/felix/ShortTerm/Data/PycharmProjects/Get3DStructures/dataStructure/collections.py#138\u001B\\\u001B[2m138\u001B[0m\u001B]8;;\u001B\\\n",
      "\u001B[2;36m          \u001B[0m\u001B[2;36m \u001B[0m\u001B[34mINFO    \u001B[0m Copying PLDDT                             \u001B]8;id=639151;file:///media/felix/ShortTerm/Data/PycharmProjects/Get3DStructures/dataStructure/collections.py\u001B\\\u001B[2mcollections.py\u001B[0m\u001B]8;;\u001B\\\u001B[2m:\u001B[0m\u001B]8;id=500804;file:///media/felix/ShortTerm/Data/PycharmProjects/Get3DStructures/dataStructure/collections.py#138\u001B\\\u001B[2m138\u001B[0m\u001B]8;;\u001B\\\n",
      "\u001B[2;36m          \u001B[0m\u001B[2;36m \u001B[0m\u001B[34mINFO    \u001B[0m Copying PLDDT                             \u001B]8;id=326195;file:///media/felix/ShortTerm/Data/PycharmProjects/Get3DStructures/dataStructure/collections.py\u001B\\\u001B[2mcollections.py\u001B[0m\u001B]8;;\u001B\\\u001B[2m:\u001B[0m\u001B]8;id=714483;file:///media/felix/ShortTerm/Data/PycharmProjects/Get3DStructures/dataStructure/collections.py#138\u001B\\\u001B[2m138\u001B[0m\u001B]8;;\u001B\\\n",
      "\u001B[2;36m          \u001B[0m\u001B[2;36m \u001B[0m\u001B[34mINFO    \u001B[0m Copying PLDDT                             \u001B]8;id=494265;file:///media/felix/ShortTerm/Data/PycharmProjects/Get3DStructures/dataStructure/collections.py\u001B\\\u001B[2mcollections.py\u001B[0m\u001B]8;;\u001B\\\u001B[2m:\u001B[0m\u001B]8;id=853793;file:///media/felix/ShortTerm/Data/PycharmProjects/Get3DStructures/dataStructure/collections.py#138\u001B\\\u001B[2m138\u001B[0m\u001B]8;;\u001B\\\n",
      "\u001B[2;36m          \u001B[0m\u001B[2;36m \u001B[0m\u001B[34mINFO    \u001B[0m Copying PLDDT                             \u001B]8;id=347646;file:///media/felix/ShortTerm/Data/PycharmProjects/Get3DStructures/dataStructure/collections.py\u001B\\\u001B[2mcollections.py\u001B[0m\u001B]8;;\u001B\\\u001B[2m:\u001B[0m\u001B]8;id=186666;file:///media/felix/ShortTerm/Data/PycharmProjects/Get3DStructures/dataStructure/collections.py#138\u001B\\\u001B[2m138\u001B[0m\u001B]8;;\u001B\\\n",
      "\u001B[2;36m          \u001B[0m\u001B[2;36m \u001B[0m\u001B[34mINFO    \u001B[0m Copying PLDDT                             \u001B]8;id=867665;file:///media/felix/ShortTerm/Data/PycharmProjects/Get3DStructures/dataStructure/collections.py\u001B\\\u001B[2mcollections.py\u001B[0m\u001B]8;;\u001B\\\u001B[2m:\u001B[0m\u001B]8;id=914287;file:///media/felix/ShortTerm/Data/PycharmProjects/Get3DStructures/dataStructure/collections.py#138\u001B\\\u001B[2m138\u001B[0m\u001B]8;;\u001B\\\n",
      "\u001B[2;36m          \u001B[0m\u001B[2;36m \u001B[0m\u001B[34mINFO    \u001B[0m Copying PLDDT                             \u001B]8;id=63975;file:///media/felix/ShortTerm/Data/PycharmProjects/Get3DStructures/dataStructure/collections.py\u001B\\\u001B[2mcollections.py\u001B[0m\u001B]8;;\u001B\\\u001B[2m:\u001B[0m\u001B]8;id=561264;file:///media/felix/ShortTerm/Data/PycharmProjects/Get3DStructures/dataStructure/collections.py#138\u001B\\\u001B[2m138\u001B[0m\u001B]8;;\u001B\\\n",
      "\u001B[2;36m          \u001B[0m\u001B[2;36m \u001B[0m\u001B[34mINFO    \u001B[0m Copying PLDDT                             \u001B]8;id=373163;file:///media/felix/ShortTerm/Data/PycharmProjects/Get3DStructures/dataStructure/collections.py\u001B\\\u001B[2mcollections.py\u001B[0m\u001B]8;;\u001B\\\u001B[2m:\u001B[0m\u001B]8;id=16861;file:///media/felix/ShortTerm/Data/PycharmProjects/Get3DStructures/dataStructure/collections.py#138\u001B\\\u001B[2m138\u001B[0m\u001B]8;;\u001B\\\n",
      "\u001B[2;36m          \u001B[0m\u001B[2;36m \u001B[0m\u001B[34mINFO    \u001B[0m Copying PLDDT                             \u001B]8;id=669629;file:///media/felix/ShortTerm/Data/PycharmProjects/Get3DStructures/dataStructure/collections.py\u001B\\\u001B[2mcollections.py\u001B[0m\u001B]8;;\u001B\\\u001B[2m:\u001B[0m\u001B]8;id=898779;file:///media/felix/ShortTerm/Data/PycharmProjects/Get3DStructures/dataStructure/collections.py#138\u001B\\\u001B[2m138\u001B[0m\u001B]8;;\u001B\\\n",
      "\u001B[2;36m          \u001B[0m\u001B[2;36m \u001B[0m\u001B[34mINFO    \u001B[0m Copying PLDDT                             \u001B]8;id=443934;file:///media/felix/ShortTerm/Data/PycharmProjects/Get3DStructures/dataStructure/collections.py\u001B\\\u001B[2mcollections.py\u001B[0m\u001B]8;;\u001B\\\u001B[2m:\u001B[0m\u001B]8;id=304357;file:///media/felix/ShortTerm/Data/PycharmProjects/Get3DStructures/dataStructure/collections.py#138\u001B\\\u001B[2m138\u001B[0m\u001B]8;;\u001B\\\n",
      "\u001B[2;36m          \u001B[0m\u001B[2;36m \u001B[0m\u001B[34mINFO    \u001B[0m Copying PLDDT                             \u001B]8;id=977787;file:///media/felix/ShortTerm/Data/PycharmProjects/Get3DStructures/dataStructure/collections.py\u001B\\\u001B[2mcollections.py\u001B[0m\u001B]8;;\u001B\\\u001B[2m:\u001B[0m\u001B]8;id=649495;file:///media/felix/ShortTerm/Data/PycharmProjects/Get3DStructures/dataStructure/collections.py#138\u001B\\\u001B[2m138\u001B[0m\u001B]8;;\u001B\\\n",
      "\u001B[2;36m          \u001B[0m\u001B[2;36m \u001B[0m\u001B[34mINFO    \u001B[0m Copying PLDDT                             \u001B]8;id=378149;file:///media/felix/ShortTerm/Data/PycharmProjects/Get3DStructures/dataStructure/collections.py\u001B\\\u001B[2mcollections.py\u001B[0m\u001B]8;;\u001B\\\u001B[2m:\u001B[0m\u001B]8;id=629451;file:///media/felix/ShortTerm/Data/PycharmProjects/Get3DStructures/dataStructure/collections.py#138\u001B\\\u001B[2m138\u001B[0m\u001B]8;;\u001B\\\n",
      "\u001B[2;36m          \u001B[0m\u001B[2;36m \u001B[0m\u001B[34mINFO    \u001B[0m Copying PLDDT                             \u001B]8;id=932822;file:///media/felix/ShortTerm/Data/PycharmProjects/Get3DStructures/dataStructure/collections.py\u001B\\\u001B[2mcollections.py\u001B[0m\u001B]8;;\u001B\\\u001B[2m:\u001B[0m\u001B]8;id=66234;file:///media/felix/ShortTerm/Data/PycharmProjects/Get3DStructures/dataStructure/collections.py#138\u001B\\\u001B[2m138\u001B[0m\u001B]8;;\u001B\\\n",
      "\u001B[2;36m          \u001B[0m\u001B[2;36m \u001B[0m\u001B[34mINFO    \u001B[0m Copying PLDDT                             \u001B]8;id=832706;file:///media/felix/ShortTerm/Data/PycharmProjects/Get3DStructures/dataStructure/collections.py\u001B\\\u001B[2mcollections.py\u001B[0m\u001B]8;;\u001B\\\u001B[2m:\u001B[0m\u001B]8;id=374708;file:///media/felix/ShortTerm/Data/PycharmProjects/Get3DStructures/dataStructure/collections.py#138\u001B\\\u001B[2m138\u001B[0m\u001B]8;;\u001B\\\n",
      "\u001B[2;36m          \u001B[0m\u001B[2;36m \u001B[0m\u001B[34mINFO    \u001B[0m Copying PLDDT                             \u001B]8;id=365676;file:///media/felix/ShortTerm/Data/PycharmProjects/Get3DStructures/dataStructure/collections.py\u001B\\\u001B[2mcollections.py\u001B[0m\u001B]8;;\u001B\\\u001B[2m:\u001B[0m\u001B]8;id=974129;file:///media/felix/ShortTerm/Data/PycharmProjects/Get3DStructures/dataStructure/collections.py#138\u001B\\\u001B[2m138\u001B[0m\u001B]8;;\u001B\\\n",
      "\u001B[2;36m          \u001B[0m\u001B[2;36m \u001B[0m\u001B[34mINFO    \u001B[0m Copying PLDDT                             \u001B]8;id=722086;file:///media/felix/ShortTerm/Data/PycharmProjects/Get3DStructures/dataStructure/collections.py\u001B\\\u001B[2mcollections.py\u001B[0m\u001B]8;;\u001B\\\u001B[2m:\u001B[0m\u001B]8;id=999858;file:///media/felix/ShortTerm/Data/PycharmProjects/Get3DStructures/dataStructure/collections.py#138\u001B\\\u001B[2m138\u001B[0m\u001B]8;;\u001B\\\n",
      "\u001B[2;36m          \u001B[0m\u001B[2;36m \u001B[0m\u001B[34mINFO    \u001B[0m Copying PLDDT                             \u001B]8;id=897346;file:///media/felix/ShortTerm/Data/PycharmProjects/Get3DStructures/dataStructure/collections.py\u001B\\\u001B[2mcollections.py\u001B[0m\u001B]8;;\u001B\\\u001B[2m:\u001B[0m\u001B]8;id=601475;file:///media/felix/ShortTerm/Data/PycharmProjects/Get3DStructures/dataStructure/collections.py#138\u001B\\\u001B[2m138\u001B[0m\u001B]8;;\u001B\\\n",
      "\u001B[2;36m          \u001B[0m\u001B[2;36m \u001B[0m\u001B[34mINFO    \u001B[0m Copying PLDDT                             \u001B]8;id=634489;file:///media/felix/ShortTerm/Data/PycharmProjects/Get3DStructures/dataStructure/collections.py\u001B\\\u001B[2mcollections.py\u001B[0m\u001B]8;;\u001B\\\u001B[2m:\u001B[0m\u001B]8;id=956291;file:///media/felix/ShortTerm/Data/PycharmProjects/Get3DStructures/dataStructure/collections.py#138\u001B\\\u001B[2m138\u001B[0m\u001B]8;;\u001B\\\n",
      "\u001B[2;36m          \u001B[0m\u001B[2;36m \u001B[0m\u001B[34mINFO    \u001B[0m Copying PLDDT                             \u001B]8;id=987821;file:///media/felix/ShortTerm/Data/PycharmProjects/Get3DStructures/dataStructure/collections.py\u001B\\\u001B[2mcollections.py\u001B[0m\u001B]8;;\u001B\\\u001B[2m:\u001B[0m\u001B]8;id=36845;file:///media/felix/ShortTerm/Data/PycharmProjects/Get3DStructures/dataStructure/collections.py#138\u001B\\\u001B[2m138\u001B[0m\u001B]8;;\u001B\\\n",
      "\u001B[2;36m          \u001B[0m\u001B[2;36m \u001B[0m\u001B[34mINFO    \u001B[0m Copying PLDDT                             \u001B]8;id=447614;file:///media/felix/ShortTerm/Data/PycharmProjects/Get3DStructures/dataStructure/collections.py\u001B\\\u001B[2mcollections.py\u001B[0m\u001B]8;;\u001B\\\u001B[2m:\u001B[0m\u001B]8;id=1784;file:///media/felix/ShortTerm/Data/PycharmProjects/Get3DStructures/dataStructure/collections.py#138\u001B\\\u001B[2m138\u001B[0m\u001B]8;;\u001B\\\n",
      "\u001B[2;36m          \u001B[0m\u001B[2;36m \u001B[0m\u001B[34mINFO    \u001B[0m Copying PLDDT                             \u001B]8;id=137227;file:///media/felix/ShortTerm/Data/PycharmProjects/Get3DStructures/dataStructure/collections.py\u001B\\\u001B[2mcollections.py\u001B[0m\u001B]8;;\u001B\\\u001B[2m:\u001B[0m\u001B]8;id=777225;file:///media/felix/ShortTerm/Data/PycharmProjects/Get3DStructures/dataStructure/collections.py#138\u001B\\\u001B[2m138\u001B[0m\u001B]8;;\u001B\\\n",
      "\u001B[2;36m          \u001B[0m\u001B[2;36m \u001B[0m\u001B[34mINFO    \u001B[0m Copying PLDDT                             \u001B]8;id=336598;file:///media/felix/ShortTerm/Data/PycharmProjects/Get3DStructures/dataStructure/collections.py\u001B\\\u001B[2mcollections.py\u001B[0m\u001B]8;;\u001B\\\u001B[2m:\u001B[0m\u001B]8;id=130213;file:///media/felix/ShortTerm/Data/PycharmProjects/Get3DStructures/dataStructure/collections.py#138\u001B\\\u001B[2m138\u001B[0m\u001B]8;;\u001B\\\n",
      "\u001B[2;36m          \u001B[0m\u001B[2;36m \u001B[0m\u001B[34mINFO    \u001B[0m Copying PLDDT                             \u001B]8;id=47086;file:///media/felix/ShortTerm/Data/PycharmProjects/Get3DStructures/dataStructure/collections.py\u001B\\\u001B[2mcollections.py\u001B[0m\u001B]8;;\u001B\\\u001B[2m:\u001B[0m\u001B]8;id=344243;file:///media/felix/ShortTerm/Data/PycharmProjects/Get3DStructures/dataStructure/collections.py#138\u001B\\\u001B[2m138\u001B[0m\u001B]8;;\u001B\\\n",
      "\u001B[2;36m          \u001B[0m\u001B[2;36m \u001B[0m\u001B[34mINFO    \u001B[0m Copying PLDDT                             \u001B]8;id=911363;file:///media/felix/ShortTerm/Data/PycharmProjects/Get3DStructures/dataStructure/collections.py\u001B\\\u001B[2mcollections.py\u001B[0m\u001B]8;;\u001B\\\u001B[2m:\u001B[0m\u001B]8;id=208235;file:///media/felix/ShortTerm/Data/PycharmProjects/Get3DStructures/dataStructure/collections.py#138\u001B\\\u001B[2m138\u001B[0m\u001B]8;;\u001B\\\n",
      "\u001B[2;36m          \u001B[0m\u001B[2;36m \u001B[0m\u001B[34mINFO    \u001B[0m Copying PLDDT                             \u001B]8;id=649675;file:///media/felix/ShortTerm/Data/PycharmProjects/Get3DStructures/dataStructure/collections.py\u001B\\\u001B[2mcollections.py\u001B[0m\u001B]8;;\u001B\\\u001B[2m:\u001B[0m\u001B]8;id=332718;file:///media/felix/ShortTerm/Data/PycharmProjects/Get3DStructures/dataStructure/collections.py#138\u001B\\\u001B[2m138\u001B[0m\u001B]8;;\u001B\\\n",
      "\u001B[2;36m          \u001B[0m\u001B[2;36m \u001B[0m\u001B[34mINFO    \u001B[0m Copying PLDDT                             \u001B]8;id=577656;file:///media/felix/ShortTerm/Data/PycharmProjects/Get3DStructures/dataStructure/collections.py\u001B\\\u001B[2mcollections.py\u001B[0m\u001B]8;;\u001B\\\u001B[2m:\u001B[0m\u001B]8;id=207660;file:///media/felix/ShortTerm/Data/PycharmProjects/Get3DStructures/dataStructure/collections.py#138\u001B\\\u001B[2m138\u001B[0m\u001B]8;;\u001B\\\n",
      "\u001B[2;36m          \u001B[0m\u001B[2;36m \u001B[0m\u001B[34mINFO    \u001B[0m Copying PLDDT                             \u001B]8;id=427112;file:///media/felix/ShortTerm/Data/PycharmProjects/Get3DStructures/dataStructure/collections.py\u001B\\\u001B[2mcollections.py\u001B[0m\u001B]8;;\u001B\\\u001B[2m:\u001B[0m\u001B]8;id=321229;file:///media/felix/ShortTerm/Data/PycharmProjects/Get3DStructures/dataStructure/collections.py#138\u001B\\\u001B[2m138\u001B[0m\u001B]8;;\u001B\\\n",
      "\u001B[2;36m          \u001B[0m\u001B[2;36m \u001B[0m\u001B[34mINFO    \u001B[0m Copying PLDDT                             \u001B]8;id=891443;file:///media/felix/ShortTerm/Data/PycharmProjects/Get3DStructures/dataStructure/collections.py\u001B\\\u001B[2mcollections.py\u001B[0m\u001B]8;;\u001B\\\u001B[2m:\u001B[0m\u001B]8;id=903163;file:///media/felix/ShortTerm/Data/PycharmProjects/Get3DStructures/dataStructure/collections.py#138\u001B\\\u001B[2m138\u001B[0m\u001B]8;;\u001B\\\n",
      "\u001B[2;36m[14:37:28]\u001B[0m\u001B[2;36m \u001B[0m\u001B[31mWARNING \u001B[0m Getting features failed with first method.   \u001B]8;id=121410;file:///media/felix/ShortTerm/Data/PycharmProjects/Get3DStructures/dataStructure/protein/accession.py\u001B\\\u001B[2maccession.py\u001B[0m\u001B]8;;\u001B\\\u001B[2m:\u001B[0m\u001B]8;id=712832;file:///media/felix/ShortTerm/Data/PycharmProjects/Get3DStructures/dataStructure/protein/accession.py#91\u001B\\\u001B[2m91\u001B[0m\u001B]8;;\u001B\\\n",
      "\u001B[2;36m           \u001B[0m         Attempting second method.                    \u001B[2m               \u001B[0m\n",
      "\u001B[2;36m          \u001B[0m\u001B[2;36m \u001B[0m\u001B[31mWARNING \u001B[0m Getting features failed with first method.   \u001B]8;id=275537;file:///media/felix/ShortTerm/Data/PycharmProjects/Get3DStructures/dataStructure/protein/accession.py\u001B\\\u001B[2maccession.py\u001B[0m\u001B]8;;\u001B\\\u001B[2m:\u001B[0m\u001B]8;id=821457;file:///media/felix/ShortTerm/Data/PycharmProjects/Get3DStructures/dataStructure/protein/accession.py#91\u001B\\\u001B[2m91\u001B[0m\u001B]8;;\u001B\\\n",
      "\u001B[2;36m           \u001B[0m         Attempting second method.                    \u001B[2m               \u001B[0m\n",
      "\u001B[2;36m          \u001B[0m\u001B[2;36m \u001B[0m\u001B[34mINFO    \u001B[0m Residues of interest: \u001B[1m[\u001B[0m\u001B[1;36m189\u001B[0m, \u001B[1;36m272\u001B[0m, \u001B[1;36m273\u001B[0m\u001B[1m]\u001B[0m       \u001B]8;id=71975;file:///media/felix/ShortTerm/Data/PycharmProjects/Get3DStructures/Commands/calculate/calculate.py\u001B\\\u001B[2mcalculate.py\u001B[0m\u001B]8;;\u001B\\\u001B[2m:\u001B[0m\u001B]8;id=78100;file:///media/felix/ShortTerm/Data/PycharmProjects/Get3DStructures/Commands/calculate/calculate.py#153\u001B\\\u001B[2m153\u001B[0m\u001B]8;;\u001B\\\n",
      "Dijkstra took 34.01s\n",
      "MDS took 0.00s\n",
      "Dijkstra took 28.91s\n",
      "MDS took 0.00s\n",
      "Dijkstra took 35.04s\n",
      "MDS took 0.00s\n",
      "Dijkstra took 27.76s\n",
      "MDS took 0.00s\n",
      "Dijkstra took 31.27s\n",
      "MDS took 0.00s\n",
      "Dijkstra took 36.10s\n",
      "MDS took 0.00s\n",
      "Dijkstra took 29.80s\n",
      "MDS took 0.00s\n",
      "Dijkstra took 36.26s\n",
      "MDS took 0.00s\n",
      "Dijkstra took 31.39s\n",
      "MDS took 0.00s\n",
      "Dijkstra took 35.45s\n",
      "MDS took 0.00s\n",
      "Dijkstra took 32.46s\n",
      "MDS took 0.00s\n",
      "Dijkstra took 33.89s\n",
      "MDS took 0.00s\n",
      "Dijkstra took 33.15s\n",
      "MDS took 0.00s\n",
      "Dijkstra took 33.82s\n",
      "MDS took 0.00s\n",
      "Dijkstra took 31.82s\n",
      "MDS took 0.00s\n",
      "Dijkstra took 35.40s\n",
      "MDS took 0.00s\n",
      "Dijkstra took 35.56s\n",
      "MDS took 0.00s\n",
      "Dijkstra took 31.82s\n",
      "MDS took 0.00s\n",
      "Dijkstra took 35.39s\n",
      "MDS took 0.00s\n",
      "Dijkstra took 34.09s\n",
      "MDS took 0.00s\n",
      "Dijkstra took 35.62s\n",
      "MDS took 0.00s\n",
      "Dijkstra took 33.80s\n",
      "MDS took 0.00s\n",
      "Dijkstra took 33.44s\n",
      "MDS took 0.00s\n",
      "Dijkstra took 35.57s\n",
      "MDS took 0.00s\n",
      "Dijkstra took 35.91s\n",
      "MDS took 0.00s\n",
      "Dijkstra took 33.47s\n",
      "MDS took 0.00s\n",
      "Dijkstra took 33.77s\n",
      "MDS took 0.00s\n",
      "Dijkstra took 35.80s\n",
      "MDS took 0.00s\n",
      "Dijkstra took 35.15s\n",
      "MDS took 0.00s\n",
      "Dijkstra took 35.86s\n",
      "MDS took 0.00s\n",
      "Dijkstra took 35.34s\n",
      "MDS took 0.00s\n",
      "Dijkstra took 34.57s\n",
      "MDS took 0.00s\n",
      "Dijkstra took 35.93s\n",
      "MDS took 0.00s\n",
      "Dijkstra took 34.95s\n",
      "MDS took 0.00s\n",
      "Dijkstra took 35.64s\n",
      "MDS took 0.00s\n",
      "Dijkstra took 34.51s\n",
      "MDS took 0.00s\n",
      "Dijkstra took 34.85s\n",
      "MDS took 0.00s\n",
      "Dijkstra took 35.26s\n",
      "MDS took 0.00s\n",
      "Dijkstra took 34.63s\n",
      "MDS took 0.00s\n",
      "Dijkstra took 35.65s\n",
      "MDS took 0.00s\n",
      "Dijkstra took 35.45s\n",
      "MDS took 0.00s\n",
      "Dijkstra took 35.43s\n",
      "MDS took 0.00s\n",
      "Dijkstra took 35.83s\n",
      "MDS took 0.00s\n",
      "Dijkstra took 34.60s\n",
      "MDS took 0.00s\n",
      "Dijkstra took 35.13s\n",
      "MDS took 0.00s\n",
      "Dijkstra took 36.12s\n",
      "MDS took 0.00s\n",
      "Dijkstra took 33.49s\n",
      "MDS took 0.00s\n",
      "Dijkstra took 36.59s\n",
      "MDS took 0.00s\n",
      "Dijkstra took 35.08s\n",
      "MDS took 0.00s\n",
      "Dijkstra took 36.65s\n",
      "MDS took 0.00s\n",
      "Dijkstra took 34.99s\n",
      "MDS took 0.00s\n",
      "Dijkstra took 36.13s\n",
      "MDS took 0.00s\n",
      "Dijkstra took 35.42s\n",
      "MDS took 0.00s\n",
      "Dijkstra took 35.43s\n",
      "MDS took 0.00s\n",
      "Dijkstra took 36.52s\n",
      "MDS took 0.00s\n",
      "Dijkstra took 36.11s\n",
      "MDS took 0.00s\n",
      "Dijkstra took 35.61s\n",
      "MDS took 0.00s\n",
      "Dijkstra took 36.17s\n",
      "MDS took 0.00s\n",
      "Dijkstra took 35.92s\n",
      "MDS took 0.00s\n",
      "Dijkstra took 37.33s\n",
      "MDS took 0.00s\n",
      "\u001B[2;36m[14:39:07]\u001B[0m\u001B[2;36m \u001B[0m\u001B[34mINFO    \u001B[0m Copying PLDDT                             \u001B]8;id=261712;file:///media/felix/ShortTerm/Data/PycharmProjects/Get3DStructures/dataStructure/collections.py\u001B\\\u001B[2mcollections.py\u001B[0m\u001B]8;;\u001B\\\u001B[2m:\u001B[0m\u001B]8;id=640093;file:///media/felix/ShortTerm/Data/PycharmProjects/Get3DStructures/dataStructure/collections.py#138\u001B\\\u001B[2m138\u001B[0m\u001B]8;;\u001B\\\n",
      "\u001B[2;36m          \u001B[0m\u001B[2;36m \u001B[0m\u001B[34mINFO    \u001B[0m Copying PLDDT                             \u001B]8;id=989151;file:///media/felix/ShortTerm/Data/PycharmProjects/Get3DStructures/dataStructure/collections.py\u001B\\\u001B[2mcollections.py\u001B[0m\u001B]8;;\u001B\\\u001B[2m:\u001B[0m\u001B]8;id=405939;file:///media/felix/ShortTerm/Data/PycharmProjects/Get3DStructures/dataStructure/collections.py#138\u001B\\\u001B[2m138\u001B[0m\u001B]8;;\u001B\\\n",
      "\u001B[2;36m          \u001B[0m\u001B[2;36m \u001B[0m\u001B[34mINFO    \u001B[0m Copying PLDDT                             \u001B]8;id=952880;file:///media/felix/ShortTerm/Data/PycharmProjects/Get3DStructures/dataStructure/collections.py\u001B\\\u001B[2mcollections.py\u001B[0m\u001B]8;;\u001B\\\u001B[2m:\u001B[0m\u001B]8;id=953154;file:///media/felix/ShortTerm/Data/PycharmProjects/Get3DStructures/dataStructure/collections.py#138\u001B\\\u001B[2m138\u001B[0m\u001B]8;;\u001B\\\n",
      "\u001B[2;36m          \u001B[0m\u001B[2;36m \u001B[0m\u001B[34mINFO    \u001B[0m Copying PLDDT                             \u001B]8;id=575240;file:///media/felix/ShortTerm/Data/PycharmProjects/Get3DStructures/dataStructure/collections.py\u001B\\\u001B[2mcollections.py\u001B[0m\u001B]8;;\u001B\\\u001B[2m:\u001B[0m\u001B]8;id=39185;file:///media/felix/ShortTerm/Data/PycharmProjects/Get3DStructures/dataStructure/collections.py#138\u001B\\\u001B[2m138\u001B[0m\u001B]8;;\u001B\\\n",
      "\u001B[2;36m[14:39:08]\u001B[0m\u001B[2;36m \u001B[0m\u001B[34mINFO    \u001B[0m Copying PLDDT                             \u001B]8;id=442524;file:///media/felix/ShortTerm/Data/PycharmProjects/Get3DStructures/dataStructure/collections.py\u001B\\\u001B[2mcollections.py\u001B[0m\u001B]8;;\u001B\\\u001B[2m:\u001B[0m\u001B]8;id=534301;file:///media/felix/ShortTerm/Data/PycharmProjects/Get3DStructures/dataStructure/collections.py#138\u001B\\\u001B[2m138\u001B[0m\u001B]8;;\u001B\\\n",
      "\u001B[2;36m          \u001B[0m\u001B[2;36m \u001B[0m\u001B[34mINFO    \u001B[0m Copying PLDDT                             \u001B]8;id=473086;file:///media/felix/ShortTerm/Data/PycharmProjects/Get3DStructures/dataStructure/collections.py\u001B\\\u001B[2mcollections.py\u001B[0m\u001B]8;;\u001B\\\u001B[2m:\u001B[0m\u001B]8;id=851786;file:///media/felix/ShortTerm/Data/PycharmProjects/Get3DStructures/dataStructure/collections.py#138\u001B\\\u001B[2m138\u001B[0m\u001B]8;;\u001B\\\n",
      "\u001B[2;36m          \u001B[0m\u001B[2;36m \u001B[0m\u001B[34mINFO    \u001B[0m Copying PLDDT                             \u001B]8;id=148146;file:///media/felix/ShortTerm/Data/PycharmProjects/Get3DStructures/dataStructure/collections.py\u001B\\\u001B[2mcollections.py\u001B[0m\u001B]8;;\u001B\\\u001B[2m:\u001B[0m\u001B]8;id=180451;file:///media/felix/ShortTerm/Data/PycharmProjects/Get3DStructures/dataStructure/collections.py#138\u001B\\\u001B[2m138\u001B[0m\u001B]8;;\u001B\\\n",
      "\u001B[2;36m          \u001B[0m\u001B[2;36m \u001B[0m\u001B[34mINFO    \u001B[0m Copying PLDDT                             \u001B]8;id=133857;file:///media/felix/ShortTerm/Data/PycharmProjects/Get3DStructures/dataStructure/collections.py\u001B\\\u001B[2mcollections.py\u001B[0m\u001B]8;;\u001B\\\u001B[2m:\u001B[0m\u001B]8;id=650025;file:///media/felix/ShortTerm/Data/PycharmProjects/Get3DStructures/dataStructure/collections.py#138\u001B\\\u001B[2m138\u001B[0m\u001B]8;;\u001B\\\n",
      "\u001B[2;36m          \u001B[0m\u001B[2;36m \u001B[0m\u001B[34mINFO    \u001B[0m Copying PLDDT                             \u001B]8;id=646376;file:///media/felix/ShortTerm/Data/PycharmProjects/Get3DStructures/dataStructure/collections.py\u001B\\\u001B[2mcollections.py\u001B[0m\u001B]8;;\u001B\\\u001B[2m:\u001B[0m\u001B]8;id=873757;file:///media/felix/ShortTerm/Data/PycharmProjects/Get3DStructures/dataStructure/collections.py#138\u001B\\\u001B[2m138\u001B[0m\u001B]8;;\u001B\\\n",
      "\u001B[2;36m          \u001B[0m\u001B[2;36m \u001B[0m\u001B[34mINFO    \u001B[0m Copying PLDDT                             \u001B]8;id=225247;file:///media/felix/ShortTerm/Data/PycharmProjects/Get3DStructures/dataStructure/collections.py\u001B\\\u001B[2mcollections.py\u001B[0m\u001B]8;;\u001B\\\u001B[2m:\u001B[0m\u001B]8;id=917901;file:///media/felix/ShortTerm/Data/PycharmProjects/Get3DStructures/dataStructure/collections.py#138\u001B\\\u001B[2m138\u001B[0m\u001B]8;;\u001B\\\n",
      "\u001B[2;36m          \u001B[0m\u001B[2;36m \u001B[0m\u001B[34mINFO    \u001B[0m Copying PLDDT                             \u001B]8;id=450828;file:///media/felix/ShortTerm/Data/PycharmProjects/Get3DStructures/dataStructure/collections.py\u001B\\\u001B[2mcollections.py\u001B[0m\u001B]8;;\u001B\\\u001B[2m:\u001B[0m\u001B]8;id=616222;file:///media/felix/ShortTerm/Data/PycharmProjects/Get3DStructures/dataStructure/collections.py#138\u001B\\\u001B[2m138\u001B[0m\u001B]8;;\u001B\\\n",
      "\u001B[2;36m          \u001B[0m\u001B[2;36m \u001B[0m\u001B[34mINFO    \u001B[0m Copying PLDDT                             \u001B]8;id=124813;file:///media/felix/ShortTerm/Data/PycharmProjects/Get3DStructures/dataStructure/collections.py\u001B\\\u001B[2mcollections.py\u001B[0m\u001B]8;;\u001B\\\u001B[2m:\u001B[0m\u001B]8;id=715403;file:///media/felix/ShortTerm/Data/PycharmProjects/Get3DStructures/dataStructure/collections.py#138\u001B\\\u001B[2m138\u001B[0m\u001B]8;;\u001B\\\n",
      "\u001B[2;36m          \u001B[0m\u001B[2;36m \u001B[0m\u001B[34mINFO    \u001B[0m Copying PLDDT                             \u001B]8;id=61588;file:///media/felix/ShortTerm/Data/PycharmProjects/Get3DStructures/dataStructure/collections.py\u001B\\\u001B[2mcollections.py\u001B[0m\u001B]8;;\u001B\\\u001B[2m:\u001B[0m\u001B]8;id=273073;file:///media/felix/ShortTerm/Data/PycharmProjects/Get3DStructures/dataStructure/collections.py#138\u001B\\\u001B[2m138\u001B[0m\u001B]8;;\u001B\\\n",
      "\u001B[2;36m          \u001B[0m\u001B[2;36m \u001B[0m\u001B[34mINFO    \u001B[0m Copying PLDDT                             \u001B]8;id=592839;file:///media/felix/ShortTerm/Data/PycharmProjects/Get3DStructures/dataStructure/collections.py\u001B\\\u001B[2mcollections.py\u001B[0m\u001B]8;;\u001B\\\u001B[2m:\u001B[0m\u001B]8;id=439359;file:///media/felix/ShortTerm/Data/PycharmProjects/Get3DStructures/dataStructure/collections.py#138\u001B\\\u001B[2m138\u001B[0m\u001B]8;;\u001B\\\n",
      "\u001B[2;36m          \u001B[0m\u001B[2;36m \u001B[0m\u001B[34mINFO    \u001B[0m Copying PLDDT                             \u001B]8;id=844919;file:///media/felix/ShortTerm/Data/PycharmProjects/Get3DStructures/dataStructure/collections.py\u001B\\\u001B[2mcollections.py\u001B[0m\u001B]8;;\u001B\\\u001B[2m:\u001B[0m\u001B]8;id=296499;file:///media/felix/ShortTerm/Data/PycharmProjects/Get3DStructures/dataStructure/collections.py#138\u001B\\\u001B[2m138\u001B[0m\u001B]8;;\u001B\\\n",
      "\u001B[2;36m          \u001B[0m\u001B[2;36m \u001B[0m\u001B[34mINFO    \u001B[0m Copying PLDDT                             \u001B]8;id=596854;file:///media/felix/ShortTerm/Data/PycharmProjects/Get3DStructures/dataStructure/collections.py\u001B\\\u001B[2mcollections.py\u001B[0m\u001B]8;;\u001B\\\u001B[2m:\u001B[0m\u001B]8;id=875745;file:///media/felix/ShortTerm/Data/PycharmProjects/Get3DStructures/dataStructure/collections.py#138\u001B\\\u001B[2m138\u001B[0m\u001B]8;;\u001B\\\n",
      "\u001B[2;36m          \u001B[0m\u001B[2;36m \u001B[0m\u001B[34mINFO    \u001B[0m Copying PLDDT                             \u001B]8;id=508278;file:///media/felix/ShortTerm/Data/PycharmProjects/Get3DStructures/dataStructure/collections.py\u001B\\\u001B[2mcollections.py\u001B[0m\u001B]8;;\u001B\\\u001B[2m:\u001B[0m\u001B]8;id=419962;file:///media/felix/ShortTerm/Data/PycharmProjects/Get3DStructures/dataStructure/collections.py#138\u001B\\\u001B[2m138\u001B[0m\u001B]8;;\u001B\\\n",
      "\u001B[2;36m          \u001B[0m\u001B[2;36m \u001B[0m\u001B[34mINFO    \u001B[0m Copying PLDDT                             \u001B]8;id=786097;file:///media/felix/ShortTerm/Data/PycharmProjects/Get3DStructures/dataStructure/collections.py\u001B\\\u001B[2mcollections.py\u001B[0m\u001B]8;;\u001B\\\u001B[2m:\u001B[0m\u001B]8;id=797643;file:///media/felix/ShortTerm/Data/PycharmProjects/Get3DStructures/dataStructure/collections.py#138\u001B\\\u001B[2m138\u001B[0m\u001B]8;;\u001B\\\n",
      "\u001B[2;36m          \u001B[0m\u001B[2;36m \u001B[0m\u001B[34mINFO    \u001B[0m Copying PLDDT                             \u001B]8;id=284957;file:///media/felix/ShortTerm/Data/PycharmProjects/Get3DStructures/dataStructure/collections.py\u001B\\\u001B[2mcollections.py\u001B[0m\u001B]8;;\u001B\\\u001B[2m:\u001B[0m\u001B]8;id=371302;file:///media/felix/ShortTerm/Data/PycharmProjects/Get3DStructures/dataStructure/collections.py#138\u001B\\\u001B[2m138\u001B[0m\u001B]8;;\u001B\\\n",
      "\u001B[2;36m          \u001B[0m\u001B[2;36m \u001B[0m\u001B[31mWARNING \u001B[0m Getting features failed with first method.   \u001B]8;id=821635;file:///media/felix/ShortTerm/Data/PycharmProjects/Get3DStructures/dataStructure/protein/accession.py\u001B\\\u001B[2maccession.py\u001B[0m\u001B]8;;\u001B\\\u001B[2m:\u001B[0m\u001B]8;id=745913;file:///media/felix/ShortTerm/Data/PycharmProjects/Get3DStructures/dataStructure/protein/accession.py#91\u001B\\\u001B[2m91\u001B[0m\u001B]8;;\u001B\\\n",
      "\u001B[2;36m           \u001B[0m         Attempting second method.                    \u001B[2m               \u001B[0m\n",
      "\u001B[2;36m          \u001B[0m\u001B[2;36m \u001B[0m\u001B[34mINFO    \u001B[0m Residues of interest: \u001B[1m[\u001B[0m\u001B[1;36m101\u001B[0m, \u001B[1;36m102\u001B[0m\u001B[1m]\u001B[0m            \u001B]8;id=621171;file:///media/felix/ShortTerm/Data/PycharmProjects/Get3DStructures/Commands/calculate/calculate.py\u001B\\\u001B[2mcalculate.py\u001B[0m\u001B]8;;\u001B\\\u001B[2m:\u001B[0m\u001B]8;id=576722;file:///media/felix/ShortTerm/Data/PycharmProjects/Get3DStructures/Commands/calculate/calculate.py#153\u001B\\\u001B[2m153\u001B[0m\u001B]8;;\u001B\\\n",
      "Dijkstra took 7.59s\n",
      "MDS took 0.00s\n",
      "Dijkstra took 7.96s\n",
      "MDS took 0.00s\n",
      "Dijkstra took 7.93s\n",
      "MDS took 0.00s\n",
      "Dijkstra took 7.96s\n",
      "MDS took 0.00s\n",
      "Dijkstra took 8.03s\n",
      "MDS took 0.00s\n",
      "Dijkstra took 7.99s\n",
      "MDS took 0.00s\n",
      "Dijkstra took 8.40s\n",
      "MDS took 0.00s\n",
      "Dijkstra took 8.36s\n",
      "MDS took 0.00s\n",
      "Dijkstra took 8.14s\n",
      "MDS took 0.00s\n",
      "Dijkstra took 8.38s\n",
      "MDS took 0.00s\n",
      "Dijkstra took 8.73s\n",
      "MDS took 0.00s\n",
      "Dijkstra took 8.74s\n",
      "MDS took 0.00s\n",
      "Dijkstra took 9.08s\n",
      "MDS took 0.00s\n",
      "Dijkstra took 10.95s\n",
      "MDS took 0.00s\n",
      "Dijkstra took 12.26s\n",
      "MDS took 0.00s\n",
      "Dijkstra took 12.22s\n",
      "MDS took 0.00s\n",
      "Dijkstra took 12.56s\n",
      "MDS took 0.00s\n",
      "Dijkstra took 12.53s\n",
      "MDS took 0.00s\n",
      "Dijkstra took 12.56s\n",
      "MDS took 0.00s\n",
      "\u001B[2;36m[14:39:28]\u001B[0m\u001B[2;36m \u001B[0m\u001B[31mWARNING \u001B[0m Getting features failed with first method.   \u001B]8;id=105020;file:///media/felix/ShortTerm/Data/PycharmProjects/Get3DStructures/dataStructure/protein/accession.py\u001B\\\u001B[2maccession.py\u001B[0m\u001B]8;;\u001B\\\u001B[2m:\u001B[0m\u001B]8;id=177416;file:///media/felix/ShortTerm/Data/PycharmProjects/Get3DStructures/dataStructure/protein/accession.py#91\u001B\\\u001B[2m91\u001B[0m\u001B]8;;\u001B\\\n",
      "\u001B[2;36m           \u001B[0m         Attempting second method.                    \u001B[2m               \u001B[0m\n",
      "\u001B[2;36m          \u001B[0m\u001B[2;36m \u001B[0m\u001B[31mWARNING \u001B[0m Getting features failed with first method.   \u001B]8;id=961402;file:///media/felix/ShortTerm/Data/PycharmProjects/Get3DStructures/dataStructure/protein/accession.py\u001B\\\u001B[2maccession.py\u001B[0m\u001B]8;;\u001B\\\u001B[2m:\u001B[0m\u001B]8;id=258385;file:///media/felix/ShortTerm/Data/PycharmProjects/Get3DStructures/dataStructure/protein/accession.py#91\u001B\\\u001B[2m91\u001B[0m\u001B]8;;\u001B\\\n",
      "\u001B[2;36m           \u001B[0m         Attempting second method.                    \u001B[2m               \u001B[0m\n",
      "\u001B[2;36m          \u001B[0m\u001B[2;36m \u001B[0m\u001B[31mWARNING \u001B[0m Getting features failed with first method.   \u001B]8;id=173043;file:///media/felix/ShortTerm/Data/PycharmProjects/Get3DStructures/dataStructure/protein/accession.py\u001B\\\u001B[2maccession.py\u001B[0m\u001B]8;;\u001B\\\u001B[2m:\u001B[0m\u001B]8;id=101091;file:///media/felix/ShortTerm/Data/PycharmProjects/Get3DStructures/dataStructure/protein/accession.py#91\u001B\\\u001B[2m91\u001B[0m\u001B]8;;\u001B\\\n",
      "\u001B[2;36m           \u001B[0m         Attempting second method.                    \u001B[2m               \u001B[0m\n",
      "\u001B[2;36m          \u001B[0m\u001B[2;36m \u001B[0m\u001B[31mWARNING \u001B[0m Getting features failed with first method.   \u001B]8;id=621674;file:///media/felix/ShortTerm/Data/PycharmProjects/Get3DStructures/dataStructure/protein/accession.py\u001B\\\u001B[2maccession.py\u001B[0m\u001B]8;;\u001B\\\u001B[2m:\u001B[0m\u001B]8;id=531598;file:///media/felix/ShortTerm/Data/PycharmProjects/Get3DStructures/dataStructure/protein/accession.py#91\u001B\\\u001B[2m91\u001B[0m\u001B]8;;\u001B\\\n",
      "\u001B[2;36m           \u001B[0m         Attempting second method.                    \u001B[2m               \u001B[0m\n",
      "\u001B[2;36m          \u001B[0m\u001B[2;36m \u001B[0m\u001B[31mWARNING \u001B[0m Getting features failed with first method.   \u001B]8;id=237651;file:///media/felix/ShortTerm/Data/PycharmProjects/Get3DStructures/dataStructure/protein/accession.py\u001B\\\u001B[2maccession.py\u001B[0m\u001B]8;;\u001B\\\u001B[2m:\u001B[0m\u001B]8;id=914170;file:///media/felix/ShortTerm/Data/PycharmProjects/Get3DStructures/dataStructure/protein/accession.py#91\u001B\\\u001B[2m91\u001B[0m\u001B]8;;\u001B\\\n",
      "\u001B[2;36m           \u001B[0m         Attempting second method.                    \u001B[2m               \u001B[0m\n",
      "\u001B[2;36m          \u001B[0m\u001B[2;36m \u001B[0m\u001B[31mWARNING \u001B[0m Getting features failed with first method.   \u001B]8;id=531916;file:///media/felix/ShortTerm/Data/PycharmProjects/Get3DStructures/dataStructure/protein/accession.py\u001B\\\u001B[2maccession.py\u001B[0m\u001B]8;;\u001B\\\u001B[2m:\u001B[0m\u001B]8;id=973703;file:///media/felix/ShortTerm/Data/PycharmProjects/Get3DStructures/dataStructure/protein/accession.py#91\u001B\\\u001B[2m91\u001B[0m\u001B]8;;\u001B\\\n",
      "\u001B[2;36m           \u001B[0m         Attempting second method.                    \u001B[2m               \u001B[0m\n",
      "\u001B[2;36m          \u001B[0m\u001B[2;36m \u001B[0m\u001B[31mWARNING \u001B[0m Getting features failed with first method.   \u001B]8;id=40759;file:///media/felix/ShortTerm/Data/PycharmProjects/Get3DStructures/dataStructure/protein/accession.py\u001B\\\u001B[2maccession.py\u001B[0m\u001B]8;;\u001B\\\u001B[2m:\u001B[0m\u001B]8;id=540785;file:///media/felix/ShortTerm/Data/PycharmProjects/Get3DStructures/dataStructure/protein/accession.py#91\u001B\\\u001B[2m91\u001B[0m\u001B]8;;\u001B\\\n",
      "\u001B[2;36m           \u001B[0m         Attempting second method.                    \u001B[2m               \u001B[0m\n",
      "\u001B[2;36m          \u001B[0m\u001B[2;36m \u001B[0m\u001B[34mINFO    \u001B[0m Residues of interest: \u001B[1m[\u001B[0m\u001B[1;36m103\u001B[0m, \u001B[1;36m109\u001B[0m, \u001B[1;36m124\u001B[0m, \u001B[1;36m131\u001B[0m,  \u001B]8;id=165157;file:///media/felix/ShortTerm/Data/PycharmProjects/Get3DStructures/Commands/calculate/calculate.py\u001B\\\u001B[2mcalculate.py\u001B[0m\u001B]8;;\u001B\\\u001B[2m:\u001B[0m\u001B]8;id=365285;file:///media/felix/ShortTerm/Data/PycharmProjects/Get3DStructures/Commands/calculate/calculate.py#153\u001B\\\u001B[2m153\u001B[0m\u001B]8;;\u001B\\\n",
      "\u001B[2;36m           \u001B[0m         \u001B[1;36m174\u001B[0m, \u001B[1;36m194\u001B[0m, \u001B[1;36m198\u001B[0m\u001B[1m]\u001B[0m                              \u001B[2m                \u001B[0m\n",
      "Dijkstra took 27.27s\n",
      "MDS took 0.00s\n",
      "Dijkstra took 27.06s\n",
      "MDS took 0.00s\n",
      "Dijkstra took 27.77s\n",
      "MDS took 0.00s\n",
      "Dijkstra took 27.58s\n",
      "MDS took 0.00s\n",
      "Dijkstra took 27.65s\n",
      "MDS took 0.00s\n",
      "Dijkstra took 27.84s\n",
      "MDS took 0.00s\n",
      "Dijkstra took 27.80s\n",
      "MDS took 0.00s\n",
      "Dijkstra took 28.16s\n",
      "MDS took 0.00s\n",
      "Dijkstra took 27.79s\n",
      "MDS took 0.00s\n",
      "Dijkstra took 28.62s\n",
      "MDS took 0.00s\n",
      "Dijkstra took 28.01s\n",
      "MDS took 0.00s\n",
      "Dijkstra took 29.10s\n",
      "MDS took 0.00s\n",
      "Dijkstra took 22.98s\n",
      "MDS took 0.00s\n",
      "Dijkstra took 16.85s\n",
      "MDS took 0.00s\n",
      "Dijkstra took 22.69s\n",
      "MDS took 0.00s\n",
      "Dijkstra took 17.80s\n",
      "MDS took 0.00s\n",
      "Dijkstra took 19.51s\n",
      "MDS took 0.00s\n",
      "Dijkstra took 21.77s\n",
      "MDS took 0.00s\n",
      "Dijkstra took 24.29s\n",
      "MDS took 0.00s\n",
      "Dijkstra took 16.11s\n",
      "MDS took 0.00s\n",
      "Dijkstra took 25.17s\n",
      "MDS took 0.00s\n",
      "Dijkstra took 16.11s\n",
      "MDS took 0.00s\n",
      "Dijkstra took 23.74s\n",
      "MDS took 0.00s\n",
      "Dijkstra took 18.41s\n",
      "MDS took 0.00s\n",
      "Dijkstra took 24.22s\n",
      "MDS took 0.00s\n",
      "Dijkstra took 18.94s\n",
      "MDS took 0.00s\n",
      "Dijkstra took 25.46s\n",
      "MDS took 0.00s\n",
      "Dijkstra took 17.10s\n",
      "MDS took 0.00s\n",
      "Dijkstra took 25.04s\n",
      "MDS took 0.00s\n",
      "Dijkstra took 17.32s\n",
      "MDS took 0.00s\n",
      "Dijkstra took 26.81s\n",
      "MDS took 0.00s\n",
      "Dijkstra took 16.33s\n",
      "MDS took 0.00s\n",
      "Dijkstra took 25.94s\n",
      "MDS took 0.00s\n",
      "Dijkstra took 17.25s\n",
      "MDS took 0.00s\n",
      "Dijkstra took 23.10s\n",
      "MDS took 0.00s\n",
      "Dijkstra took 21.45s\n",
      "MDS took 0.00s\n",
      "Dijkstra took 25.26s\n",
      "MDS took 0.00s\n",
      "Dijkstra took 19.25s\n",
      "MDS took 0.00s\n",
      "Dijkstra took 26.80s\n",
      "MDS took 0.00s\n",
      "Dijkstra took 17.62s\n",
      "MDS took 0.00s\n",
      "Dijkstra took 24.79s\n",
      "MDS took 0.00s\n",
      "Dijkstra took 20.61s\n",
      "MDS took 0.00s\n",
      "Dijkstra took 25.49s\n",
      "MDS took 0.00s\n",
      "Dijkstra took 18.84s\n",
      "MDS took 0.00s\n",
      "Dijkstra took 27.25s\n",
      "MDS took 0.00s\n",
      "Dijkstra took 19.63s\n",
      "MDS took 0.00s\n",
      "Dijkstra took 27.02s\n",
      "MDS took 0.00s\n",
      "Dijkstra took 21.84s\n",
      "MDS took 0.00s\n"
     ]
    }
   ],
   "source": [
    "import os\n",
    "excute_command = '/home/felix/anaconda3/envs/Get3DStructuresFixed/bin/python /media/felix/ShortTerm/Data/PycharmProjects/Get3DStructures/main.py'\n",
    "for cluster_name in os.listdir('/media/felix/ShortTerm/uniref90_clusters_with_binding_site/done/'):\n",
    "    \n",
    "    #os.system(f\"{excute_command} /media/felix/ShortTerm/uniref90_clusters_with_binding_site/job1/'{cluster_name}'/ pdb repair /media/felix/ShortTerm/uniref90_clusters_with_binding_site/job1/{cluster_name} \")\n",
    "    \n",
    "   # try:\n",
    "   #     os.mkdir(f'/media/felix/ShortTerm/uniref90_clusters_with_binding_site/job1/{cluster_name}/aligned')\n",
    "   # except:\n",
    "   #     print(\"already here\")\n",
    "   # os.system(f'{excute_command} /media/felix/ShortTerm/uniref90_clusters_with_binding_site/job1/{cluster_name}/  pdb calculate align-data full homology-structure backbone /media/felix/ShortTerm/uniref90_clusters_with_binding_site/job1/{cluster_name}/aligned/')\n",
    "   # os.system(f'{excute_command} /media/felix/ShortTerm/uniref90_clusters_with_binding_site/job1/{cluster_name}/aligned/  pdb calculate get-mesh full homology-structure backbone /media/felix/ShortTerm/uniref90_clusters_with_binding_site/job1/{cluster_name}/aligned/')\n",
    "    os.system(f'{excute_command} /media/felix/ShortTerm/uniref90_clusters_with_binding_site/done/{cluster_name}/aligned/  pdb calculate molecular-partition full homology-structures backbone /media/felix/ShortTerm/uniref90_clusters_with_binding_site/done/{cluster_name}/aligned/')\n",
    "    \n",
    "    \n",
    "    "
   ],
   "metadata": {
    "collapsed": true,
    "ExecuteTime": {
     "end_time": "2024-09-17T19:40:31.177283Z",
     "start_time": "2024-09-17T19:33:47.909220Z"
    }
   },
   "id": "initial_id",
   "execution_count": 2
  },
  {
   "cell_type": "code",
   "outputs": [],
   "source": [
    "from scipy.spatial.distance import cdist\n",
    "import numpy as np\n",
    "def build_set_comparison(reference, target):\n",
    "    reference  = np.unique(reference,axis=0)\n",
    "    target = np.unique(target,axis=0)\n",
    "    #if len(reference) > len(target):\n",
    "    #    reference, target = target, reference\n",
    "    distance_matrix = cdist(reference[:,[4,5,6]], target[:,[4,5,6]])\n",
    "    minimum_distance_index = np.argmin(distance_matrix,axis=1)\n",
    "    hits, counts = np.unique(minimum_distance_index, return_counts=True)\n",
    "    counts_indx = np.where(counts>1)[0]\n",
    "    neighbors = np.ones(shape=(reference.shape[0]),dtype=int,)\n",
    "    neighbors = neighbors*-1\n",
    "    exaustive_check_count =0\n",
    "    while(len(counts_indx) > 0 and exaustive_check_count < 5):\n",
    "        dups= hits[counts_indx]\n",
    "        for duplicate in  dups:\n",
    "            dups_indx = np.where(duplicate == minimum_distance_index)[0]\n",
    "            indx_to_increase_value = np.delete(dups_indx , np.argmin(distance_matrix[dups_indx, duplicate]))\n",
    "            distance_matrix[indx_to_increase_value, duplicate ] +=1000\n",
    "        minimum_distance_index = np.argmin(distance_matrix,axis=1)\n",
    "        hits, counts = np.unique(minimum_distance_index, return_counts=True)\n",
    "        counts_indx = np.where(counts>1)[0]\n",
    "        exaustive_check_count +=1\n",
    "    \n",
    "    indx = np.array([i for i in range(reference.shape[0])])\n",
    "    restriction = distance_matrix[indx, minimum_distance_index] < 2\n",
    "    restriction_indx = np.where(restriction == True)\n",
    "    neighbors[restriction_indx] = minimum_distance_index[restriction_indx]\n",
    "    no_match_indx= np.where(neighbors == -1)[0] \n",
    "    matches = target[neighbors.T].reshape(neighbors.T.shape[0],\n",
    "                                                                   1 * 10)\n",
    "    matches[no_match_indx] = [-10, -10, -10, -10, -10, -10, -10, -10, -10, -10] #reference[no_match_indx]\n",
    "    feature = np.concatenate((reference[indx], matches), axis=1)\n",
    "    return feature"
   ],
   "metadata": {
    "collapsed": false,
    "ExecuteTime": {
     "end_time": "2024-09-25T18:04:14.162914Z",
     "start_time": "2024-09-25T18:04:14.059710Z"
    }
   },
   "id": "5b32ba632b31f456",
   "execution_count": 1
  },
  {
   "cell_type": "code",
   "outputs": [],
   "source": [
    "def structural_high_dimension_space_l2(reference, query_patch):\n",
    "    reference_comparison = build_set_comparison(reference, query_patch)\n",
    "    res = np.linalg.norm(reference_comparison[:,[0,1,2,3]] - reference_comparison[:,[10,11,12,13]], axis=1)\n",
    "    return res"
   ],
   "metadata": {
    "collapsed": false,
    "ExecuteTime": {
     "end_time": "2024-09-25T18:04:15.261101Z",
     "start_time": "2024-09-25T18:04:15.257580Z"
    }
   },
   "id": "e1631ea6b18a7c9a",
   "execution_count": 2
  },
  {
   "cell_type": "code",
   "outputs": [],
   "source": [
    "def jaccard_similarity(ref, target):\n",
    "    \n",
    "    comparison = build_set_comparison(ref, target)\n",
    "    a_intersection_b = np.count_nonzero(np.linalg.norm(comparison[:,[0,1,2,3]] - comparison[:,[10,11,12,13]], axis=1)<=1)\n",
    "    #print(a_intersection_b)\n",
    "    a_or_b = np.unique(ref,axis=0).shape[0]+ np.unique(target,axis=0).shape[0] - a_intersection_b\n",
    "    jaccrad_sim = a_intersection_b/a_or_b\n",
    "    return jaccrad_sim"
   ],
   "metadata": {
    "collapsed": false,
    "ExecuteTime": {
     "end_time": "2024-09-25T18:04:16.775739Z",
     "start_time": "2024-09-25T18:04:16.772537Z"
    }
   },
   "id": "46c457d3cd086739",
   "execution_count": 3
  },
  {
   "cell_type": "code",
   "outputs": [
    {
     "data": {
      "application/vnd.plotly.v1+json": {
       "data": [
        {
         "hovertemplate": "FunSoC=Non-FunSoC<br>Name=%{x}<br>Similarity=%{y}<extra></extra>",
         "legendgroup": "Non-FunSoC",
         "marker": {
          "color": "#636efa",
          "symbol": "circle"
         },
         "mode": "markers",
         "name": "Non-FunSoC",
         "orientation": "v",
         "showlegend": true,
         "x": [
          "Q6VA99",
          "Q1EFP4",
          "Q6R7Y5",
          "Q6VA88",
          "Q6RD63",
          "D2E1D3",
          "Q5DIC4",
          "Q6RD52",
          "Q6VA77",
          "Q6RCY6",
          "D2E1E8",
          "A0A3G5BIY0",
          "Q1T6X5",
          "Q6RCX5",
          "Q1EFN1",
          "Q6RD08",
          "D3KDM6",
          "Q6RD41",
          "Q5Y186",
          "B8Q8Q4",
          "D2E236",
          "Q3S2C4",
          "Q6JH45",
          "Q6JH37",
          "J9TC74",
          "D2E266",
          "Q6RCZ7",
          "Q6RD19",
          "Q6WGN2",
          "Q6RCW4"
         ],
         "xaxis": "x",
         "y": [
          0.806949806949807,
          0.7266666666666667,
          0.8390804597701149,
          0.7442748091603053,
          0.8627450980392157,
          0.6730038022813688,
          0.5515873015873016,
          0.8255813953488372,
          0.7414448669201521,
          0.8294573643410853,
          0.544,
          0.8521400778210116,
          0.813953488372093,
          0.8301886792452831,
          0.8384615384615385,
          0.8346153846153846,
          0.8185328185328186,
          0.740484429065744,
          0.5795918367346938,
          0.6394052044609665,
          0.5691056910569106,
          0.7303370786516854,
          0.8143939393939394,
          0.6754716981132075,
          0.8543307086614174,
          0.8938775510204081,
          0.7925925925925926,
          0.844,
          0.8250950570342205,
          0.8210116731517509
         ],
         "yaxis": "y",
         "type": "scatter"
        },
        {
         "hovertemplate": "FunSoC=FunSoC<br>Name=%{x}<br>Similarity=%{y}<extra></extra>",
         "legendgroup": "FunSoC",
         "marker": {
          "color": "#EF553B",
          "symbol": "circle"
         },
         "mode": "markers",
         "name": "FunSoC",
         "orientation": "v",
         "showlegend": true,
         "x": [
          "P59632"
         ],
         "xaxis": "x",
         "y": [
          1.0
         ],
         "yaxis": "y",
         "type": "scatter"
        }
       ],
       "layout": {
        "template": {
         "data": {
          "histogram2dcontour": [
           {
            "type": "histogram2dcontour",
            "colorbar": {
             "outlinewidth": 0,
             "ticks": ""
            },
            "colorscale": [
             [
              0.0,
              "#0d0887"
             ],
             [
              0.1111111111111111,
              "#46039f"
             ],
             [
              0.2222222222222222,
              "#7201a8"
             ],
             [
              0.3333333333333333,
              "#9c179e"
             ],
             [
              0.4444444444444444,
              "#bd3786"
             ],
             [
              0.5555555555555556,
              "#d8576b"
             ],
             [
              0.6666666666666666,
              "#ed7953"
             ],
             [
              0.7777777777777778,
              "#fb9f3a"
             ],
             [
              0.8888888888888888,
              "#fdca26"
             ],
             [
              1.0,
              "#f0f921"
             ]
            ]
           }
          ],
          "choropleth": [
           {
            "type": "choropleth",
            "colorbar": {
             "outlinewidth": 0,
             "ticks": ""
            }
           }
          ],
          "histogram2d": [
           {
            "type": "histogram2d",
            "colorbar": {
             "outlinewidth": 0,
             "ticks": ""
            },
            "colorscale": [
             [
              0.0,
              "#0d0887"
             ],
             [
              0.1111111111111111,
              "#46039f"
             ],
             [
              0.2222222222222222,
              "#7201a8"
             ],
             [
              0.3333333333333333,
              "#9c179e"
             ],
             [
              0.4444444444444444,
              "#bd3786"
             ],
             [
              0.5555555555555556,
              "#d8576b"
             ],
             [
              0.6666666666666666,
              "#ed7953"
             ],
             [
              0.7777777777777778,
              "#fb9f3a"
             ],
             [
              0.8888888888888888,
              "#fdca26"
             ],
             [
              1.0,
              "#f0f921"
             ]
            ]
           }
          ],
          "heatmap": [
           {
            "type": "heatmap",
            "colorbar": {
             "outlinewidth": 0,
             "ticks": ""
            },
            "colorscale": [
             [
              0.0,
              "#0d0887"
             ],
             [
              0.1111111111111111,
              "#46039f"
             ],
             [
              0.2222222222222222,
              "#7201a8"
             ],
             [
              0.3333333333333333,
              "#9c179e"
             ],
             [
              0.4444444444444444,
              "#bd3786"
             ],
             [
              0.5555555555555556,
              "#d8576b"
             ],
             [
              0.6666666666666666,
              "#ed7953"
             ],
             [
              0.7777777777777778,
              "#fb9f3a"
             ],
             [
              0.8888888888888888,
              "#fdca26"
             ],
             [
              1.0,
              "#f0f921"
             ]
            ]
           }
          ],
          "heatmapgl": [
           {
            "type": "heatmapgl",
            "colorbar": {
             "outlinewidth": 0,
             "ticks": ""
            },
            "colorscale": [
             [
              0.0,
              "#0d0887"
             ],
             [
              0.1111111111111111,
              "#46039f"
             ],
             [
              0.2222222222222222,
              "#7201a8"
             ],
             [
              0.3333333333333333,
              "#9c179e"
             ],
             [
              0.4444444444444444,
              "#bd3786"
             ],
             [
              0.5555555555555556,
              "#d8576b"
             ],
             [
              0.6666666666666666,
              "#ed7953"
             ],
             [
              0.7777777777777778,
              "#fb9f3a"
             ],
             [
              0.8888888888888888,
              "#fdca26"
             ],
             [
              1.0,
              "#f0f921"
             ]
            ]
           }
          ],
          "contourcarpet": [
           {
            "type": "contourcarpet",
            "colorbar": {
             "outlinewidth": 0,
             "ticks": ""
            }
           }
          ],
          "contour": [
           {
            "type": "contour",
            "colorbar": {
             "outlinewidth": 0,
             "ticks": ""
            },
            "colorscale": [
             [
              0.0,
              "#0d0887"
             ],
             [
              0.1111111111111111,
              "#46039f"
             ],
             [
              0.2222222222222222,
              "#7201a8"
             ],
             [
              0.3333333333333333,
              "#9c179e"
             ],
             [
              0.4444444444444444,
              "#bd3786"
             ],
             [
              0.5555555555555556,
              "#d8576b"
             ],
             [
              0.6666666666666666,
              "#ed7953"
             ],
             [
              0.7777777777777778,
              "#fb9f3a"
             ],
             [
              0.8888888888888888,
              "#fdca26"
             ],
             [
              1.0,
              "#f0f921"
             ]
            ]
           }
          ],
          "surface": [
           {
            "type": "surface",
            "colorbar": {
             "outlinewidth": 0,
             "ticks": ""
            },
            "colorscale": [
             [
              0.0,
              "#0d0887"
             ],
             [
              0.1111111111111111,
              "#46039f"
             ],
             [
              0.2222222222222222,
              "#7201a8"
             ],
             [
              0.3333333333333333,
              "#9c179e"
             ],
             [
              0.4444444444444444,
              "#bd3786"
             ],
             [
              0.5555555555555556,
              "#d8576b"
             ],
             [
              0.6666666666666666,
              "#ed7953"
             ],
             [
              0.7777777777777778,
              "#fb9f3a"
             ],
             [
              0.8888888888888888,
              "#fdca26"
             ],
             [
              1.0,
              "#f0f921"
             ]
            ]
           }
          ],
          "mesh3d": [
           {
            "type": "mesh3d",
            "colorbar": {
             "outlinewidth": 0,
             "ticks": ""
            }
           }
          ],
          "scatter": [
           {
            "fillpattern": {
             "fillmode": "overlay",
             "size": 10,
             "solidity": 0.2
            },
            "type": "scatter"
           }
          ],
          "parcoords": [
           {
            "type": "parcoords",
            "line": {
             "colorbar": {
              "outlinewidth": 0,
              "ticks": ""
             }
            }
           }
          ],
          "scatterpolargl": [
           {
            "type": "scatterpolargl",
            "marker": {
             "colorbar": {
              "outlinewidth": 0,
              "ticks": ""
             }
            }
           }
          ],
          "bar": [
           {
            "error_x": {
             "color": "#2a3f5f"
            },
            "error_y": {
             "color": "#2a3f5f"
            },
            "marker": {
             "line": {
              "color": "#E5ECF6",
              "width": 0.5
             },
             "pattern": {
              "fillmode": "overlay",
              "size": 10,
              "solidity": 0.2
             }
            },
            "type": "bar"
           }
          ],
          "scattergeo": [
           {
            "type": "scattergeo",
            "marker": {
             "colorbar": {
              "outlinewidth": 0,
              "ticks": ""
             }
            }
           }
          ],
          "scatterpolar": [
           {
            "type": "scatterpolar",
            "marker": {
             "colorbar": {
              "outlinewidth": 0,
              "ticks": ""
             }
            }
           }
          ],
          "histogram": [
           {
            "marker": {
             "pattern": {
              "fillmode": "overlay",
              "size": 10,
              "solidity": 0.2
             }
            },
            "type": "histogram"
           }
          ],
          "scattergl": [
           {
            "type": "scattergl",
            "marker": {
             "colorbar": {
              "outlinewidth": 0,
              "ticks": ""
             }
            }
           }
          ],
          "scatter3d": [
           {
            "type": "scatter3d",
            "line": {
             "colorbar": {
              "outlinewidth": 0,
              "ticks": ""
             }
            },
            "marker": {
             "colorbar": {
              "outlinewidth": 0,
              "ticks": ""
             }
            }
           }
          ],
          "scattermapbox": [
           {
            "type": "scattermapbox",
            "marker": {
             "colorbar": {
              "outlinewidth": 0,
              "ticks": ""
             }
            }
           }
          ],
          "scatterternary": [
           {
            "type": "scatterternary",
            "marker": {
             "colorbar": {
              "outlinewidth": 0,
              "ticks": ""
             }
            }
           }
          ],
          "scattercarpet": [
           {
            "type": "scattercarpet",
            "marker": {
             "colorbar": {
              "outlinewidth": 0,
              "ticks": ""
             }
            }
           }
          ],
          "carpet": [
           {
            "aaxis": {
             "endlinecolor": "#2a3f5f",
             "gridcolor": "white",
             "linecolor": "white",
             "minorgridcolor": "white",
             "startlinecolor": "#2a3f5f"
            },
            "baxis": {
             "endlinecolor": "#2a3f5f",
             "gridcolor": "white",
             "linecolor": "white",
             "minorgridcolor": "white",
             "startlinecolor": "#2a3f5f"
            },
            "type": "carpet"
           }
          ],
          "table": [
           {
            "cells": {
             "fill": {
              "color": "#EBF0F8"
             },
             "line": {
              "color": "white"
             }
            },
            "header": {
             "fill": {
              "color": "#C8D4E3"
             },
             "line": {
              "color": "white"
             }
            },
            "type": "table"
           }
          ],
          "barpolar": [
           {
            "marker": {
             "line": {
              "color": "#E5ECF6",
              "width": 0.5
             },
             "pattern": {
              "fillmode": "overlay",
              "size": 10,
              "solidity": 0.2
             }
            },
            "type": "barpolar"
           }
          ],
          "pie": [
           {
            "automargin": true,
            "type": "pie"
           }
          ]
         },
         "layout": {
          "autotypenumbers": "strict",
          "colorway": [
           "#636efa",
           "#EF553B",
           "#00cc96",
           "#ab63fa",
           "#FFA15A",
           "#19d3f3",
           "#FF6692",
           "#B6E880",
           "#FF97FF",
           "#FECB52"
          ],
          "font": {
           "color": "#2a3f5f"
          },
          "hovermode": "closest",
          "hoverlabel": {
           "align": "left"
          },
          "paper_bgcolor": "white",
          "plot_bgcolor": "#E5ECF6",
          "polar": {
           "bgcolor": "#E5ECF6",
           "angularaxis": {
            "gridcolor": "white",
            "linecolor": "white",
            "ticks": ""
           },
           "radialaxis": {
            "gridcolor": "white",
            "linecolor": "white",
            "ticks": ""
           }
          },
          "ternary": {
           "bgcolor": "#E5ECF6",
           "aaxis": {
            "gridcolor": "white",
            "linecolor": "white",
            "ticks": ""
           },
           "baxis": {
            "gridcolor": "white",
            "linecolor": "white",
            "ticks": ""
           },
           "caxis": {
            "gridcolor": "white",
            "linecolor": "white",
            "ticks": ""
           }
          },
          "coloraxis": {
           "colorbar": {
            "outlinewidth": 0,
            "ticks": ""
           }
          },
          "colorscale": {
           "sequential": [
            [
             0.0,
             "#0d0887"
            ],
            [
             0.1111111111111111,
             "#46039f"
            ],
            [
             0.2222222222222222,
             "#7201a8"
            ],
            [
             0.3333333333333333,
             "#9c179e"
            ],
            [
             0.4444444444444444,
             "#bd3786"
            ],
            [
             0.5555555555555556,
             "#d8576b"
            ],
            [
             0.6666666666666666,
             "#ed7953"
            ],
            [
             0.7777777777777778,
             "#fb9f3a"
            ],
            [
             0.8888888888888888,
             "#fdca26"
            ],
            [
             1.0,
             "#f0f921"
            ]
           ],
           "sequentialminus": [
            [
             0.0,
             "#0d0887"
            ],
            [
             0.1111111111111111,
             "#46039f"
            ],
            [
             0.2222222222222222,
             "#7201a8"
            ],
            [
             0.3333333333333333,
             "#9c179e"
            ],
            [
             0.4444444444444444,
             "#bd3786"
            ],
            [
             0.5555555555555556,
             "#d8576b"
            ],
            [
             0.6666666666666666,
             "#ed7953"
            ],
            [
             0.7777777777777778,
             "#fb9f3a"
            ],
            [
             0.8888888888888888,
             "#fdca26"
            ],
            [
             1.0,
             "#f0f921"
            ]
           ],
           "diverging": [
            [
             0,
             "#8e0152"
            ],
            [
             0.1,
             "#c51b7d"
            ],
            [
             0.2,
             "#de77ae"
            ],
            [
             0.3,
             "#f1b6da"
            ],
            [
             0.4,
             "#fde0ef"
            ],
            [
             0.5,
             "#f7f7f7"
            ],
            [
             0.6,
             "#e6f5d0"
            ],
            [
             0.7,
             "#b8e186"
            ],
            [
             0.8,
             "#7fbc41"
            ],
            [
             0.9,
             "#4d9221"
            ],
            [
             1,
             "#276419"
            ]
           ]
          },
          "xaxis": {
           "gridcolor": "white",
           "linecolor": "white",
           "ticks": "",
           "title": {
            "standoff": 15
           },
           "zerolinecolor": "white",
           "automargin": true,
           "zerolinewidth": 2
          },
          "yaxis": {
           "gridcolor": "white",
           "linecolor": "white",
           "ticks": "",
           "title": {
            "standoff": 15
           },
           "zerolinecolor": "white",
           "automargin": true,
           "zerolinewidth": 2
          },
          "scene": {
           "xaxis": {
            "backgroundcolor": "#E5ECF6",
            "gridcolor": "white",
            "linecolor": "white",
            "showbackground": true,
            "ticks": "",
            "zerolinecolor": "white",
            "gridwidth": 2
           },
           "yaxis": {
            "backgroundcolor": "#E5ECF6",
            "gridcolor": "white",
            "linecolor": "white",
            "showbackground": true,
            "ticks": "",
            "zerolinecolor": "white",
            "gridwidth": 2
           },
           "zaxis": {
            "backgroundcolor": "#E5ECF6",
            "gridcolor": "white",
            "linecolor": "white",
            "showbackground": true,
            "ticks": "",
            "zerolinecolor": "white",
            "gridwidth": 2
           }
          },
          "shapedefaults": {
           "line": {
            "color": "#2a3f5f"
           }
          },
          "annotationdefaults": {
           "arrowcolor": "#2a3f5f",
           "arrowhead": 0,
           "arrowwidth": 1
          },
          "geo": {
           "bgcolor": "white",
           "landcolor": "#E5ECF6",
           "subunitcolor": "white",
           "showland": true,
           "showlakes": true,
           "lakecolor": "white"
          },
          "title": {
           "x": 0.05
          },
          "mapbox": {
           "style": "light"
          }
         }
        },
        "xaxis": {
         "anchor": "y",
         "domain": [
          0.0,
          1.0
         ],
         "title": {
          "text": "Name"
         }
        },
        "yaxis": {
         "anchor": "x",
         "domain": [
          0.0,
          1.0
         ],
         "title": {
          "text": "Similarity"
         }
        },
        "legend": {
         "title": {
          "text": "FunSoC"
         },
         "tracegroupgap": 0
        },
        "title": {
         "text": "Jaccard Similarity of Vertex Aligned Structures Of cluster_P59632"
        }
       },
       "config": {
        "plotlyServerURL": "https://plot.ly"
       }
      },
      "text/html": "<div>                            <div id=\"6f715fb8-b02f-4060-8003-63e5e5b88c8d\" class=\"plotly-graph-div\" style=\"height:525px; width:100%;\"></div>            <script type=\"text/javascript\">                require([\"plotly\"], function(Plotly) {                    window.PLOTLYENV=window.PLOTLYENV || {};                                    if (document.getElementById(\"6f715fb8-b02f-4060-8003-63e5e5b88c8d\")) {                    Plotly.newPlot(                        \"6f715fb8-b02f-4060-8003-63e5e5b88c8d\",                        [{\"hovertemplate\":\"FunSoC=Non-FunSoC\\u003cbr\\u003eName=%{x}\\u003cbr\\u003eSimilarity=%{y}\\u003cextra\\u003e\\u003c\\u002fextra\\u003e\",\"legendgroup\":\"Non-FunSoC\",\"marker\":{\"color\":\"#636efa\",\"symbol\":\"circle\"},\"mode\":\"markers\",\"name\":\"Non-FunSoC\",\"orientation\":\"v\",\"showlegend\":true,\"x\":[\"Q6VA99\",\"Q1EFP4\",\"Q6R7Y5\",\"Q6VA88\",\"Q6RD63\",\"D2E1D3\",\"Q5DIC4\",\"Q6RD52\",\"Q6VA77\",\"Q6RCY6\",\"D2E1E8\",\"A0A3G5BIY0\",\"Q1T6X5\",\"Q6RCX5\",\"Q1EFN1\",\"Q6RD08\",\"D3KDM6\",\"Q6RD41\",\"Q5Y186\",\"B8Q8Q4\",\"D2E236\",\"Q3S2C4\",\"Q6JH45\",\"Q6JH37\",\"J9TC74\",\"D2E266\",\"Q6RCZ7\",\"Q6RD19\",\"Q6WGN2\",\"Q6RCW4\"],\"xaxis\":\"x\",\"y\":[0.806949806949807,0.7266666666666667,0.8390804597701149,0.7442748091603053,0.8627450980392157,0.6730038022813688,0.5515873015873016,0.8255813953488372,0.7414448669201521,0.8294573643410853,0.544,0.8521400778210116,0.813953488372093,0.8301886792452831,0.8384615384615385,0.8346153846153846,0.8185328185328186,0.740484429065744,0.5795918367346938,0.6394052044609665,0.5691056910569106,0.7303370786516854,0.8143939393939394,0.6754716981132075,0.8543307086614174,0.8938775510204081,0.7925925925925926,0.844,0.8250950570342205,0.8210116731517509],\"yaxis\":\"y\",\"type\":\"scatter\"},{\"hovertemplate\":\"FunSoC=FunSoC\\u003cbr\\u003eName=%{x}\\u003cbr\\u003eSimilarity=%{y}\\u003cextra\\u003e\\u003c\\u002fextra\\u003e\",\"legendgroup\":\"FunSoC\",\"marker\":{\"color\":\"#EF553B\",\"symbol\":\"circle\"},\"mode\":\"markers\",\"name\":\"FunSoC\",\"orientation\":\"v\",\"showlegend\":true,\"x\":[\"P59632\"],\"xaxis\":\"x\",\"y\":[1.0],\"yaxis\":\"y\",\"type\":\"scatter\"}],                        {\"template\":{\"data\":{\"histogram2dcontour\":[{\"type\":\"histogram2dcontour\",\"colorbar\":{\"outlinewidth\":0,\"ticks\":\"\"},\"colorscale\":[[0.0,\"#0d0887\"],[0.1111111111111111,\"#46039f\"],[0.2222222222222222,\"#7201a8\"],[0.3333333333333333,\"#9c179e\"],[0.4444444444444444,\"#bd3786\"],[0.5555555555555556,\"#d8576b\"],[0.6666666666666666,\"#ed7953\"],[0.7777777777777778,\"#fb9f3a\"],[0.8888888888888888,\"#fdca26\"],[1.0,\"#f0f921\"]]}],\"choropleth\":[{\"type\":\"choropleth\",\"colorbar\":{\"outlinewidth\":0,\"ticks\":\"\"}}],\"histogram2d\":[{\"type\":\"histogram2d\",\"colorbar\":{\"outlinewidth\":0,\"ticks\":\"\"},\"colorscale\":[[0.0,\"#0d0887\"],[0.1111111111111111,\"#46039f\"],[0.2222222222222222,\"#7201a8\"],[0.3333333333333333,\"#9c179e\"],[0.4444444444444444,\"#bd3786\"],[0.5555555555555556,\"#d8576b\"],[0.6666666666666666,\"#ed7953\"],[0.7777777777777778,\"#fb9f3a\"],[0.8888888888888888,\"#fdca26\"],[1.0,\"#f0f921\"]]}],\"heatmap\":[{\"type\":\"heatmap\",\"colorbar\":{\"outlinewidth\":0,\"ticks\":\"\"},\"colorscale\":[[0.0,\"#0d0887\"],[0.1111111111111111,\"#46039f\"],[0.2222222222222222,\"#7201a8\"],[0.3333333333333333,\"#9c179e\"],[0.4444444444444444,\"#bd3786\"],[0.5555555555555556,\"#d8576b\"],[0.6666666666666666,\"#ed7953\"],[0.7777777777777778,\"#fb9f3a\"],[0.8888888888888888,\"#fdca26\"],[1.0,\"#f0f921\"]]}],\"heatmapgl\":[{\"type\":\"heatmapgl\",\"colorbar\":{\"outlinewidth\":0,\"ticks\":\"\"},\"colorscale\":[[0.0,\"#0d0887\"],[0.1111111111111111,\"#46039f\"],[0.2222222222222222,\"#7201a8\"],[0.3333333333333333,\"#9c179e\"],[0.4444444444444444,\"#bd3786\"],[0.5555555555555556,\"#d8576b\"],[0.6666666666666666,\"#ed7953\"],[0.7777777777777778,\"#fb9f3a\"],[0.8888888888888888,\"#fdca26\"],[1.0,\"#f0f921\"]]}],\"contourcarpet\":[{\"type\":\"contourcarpet\",\"colorbar\":{\"outlinewidth\":0,\"ticks\":\"\"}}],\"contour\":[{\"type\":\"contour\",\"colorbar\":{\"outlinewidth\":0,\"ticks\":\"\"},\"colorscale\":[[0.0,\"#0d0887\"],[0.1111111111111111,\"#46039f\"],[0.2222222222222222,\"#7201a8\"],[0.3333333333333333,\"#9c179e\"],[0.4444444444444444,\"#bd3786\"],[0.5555555555555556,\"#d8576b\"],[0.6666666666666666,\"#ed7953\"],[0.7777777777777778,\"#fb9f3a\"],[0.8888888888888888,\"#fdca26\"],[1.0,\"#f0f921\"]]}],\"surface\":[{\"type\":\"surface\",\"colorbar\":{\"outlinewidth\":0,\"ticks\":\"\"},\"colorscale\":[[0.0,\"#0d0887\"],[0.1111111111111111,\"#46039f\"],[0.2222222222222222,\"#7201a8\"],[0.3333333333333333,\"#9c179e\"],[0.4444444444444444,\"#bd3786\"],[0.5555555555555556,\"#d8576b\"],[0.6666666666666666,\"#ed7953\"],[0.7777777777777778,\"#fb9f3a\"],[0.8888888888888888,\"#fdca26\"],[1.0,\"#f0f921\"]]}],\"mesh3d\":[{\"type\":\"mesh3d\",\"colorbar\":{\"outlinewidth\":0,\"ticks\":\"\"}}],\"scatter\":[{\"fillpattern\":{\"fillmode\":\"overlay\",\"size\":10,\"solidity\":0.2},\"type\":\"scatter\"}],\"parcoords\":[{\"type\":\"parcoords\",\"line\":{\"colorbar\":{\"outlinewidth\":0,\"ticks\":\"\"}}}],\"scatterpolargl\":[{\"type\":\"scatterpolargl\",\"marker\":{\"colorbar\":{\"outlinewidth\":0,\"ticks\":\"\"}}}],\"bar\":[{\"error_x\":{\"color\":\"#2a3f5f\"},\"error_y\":{\"color\":\"#2a3f5f\"},\"marker\":{\"line\":{\"color\":\"#E5ECF6\",\"width\":0.5},\"pattern\":{\"fillmode\":\"overlay\",\"size\":10,\"solidity\":0.2}},\"type\":\"bar\"}],\"scattergeo\":[{\"type\":\"scattergeo\",\"marker\":{\"colorbar\":{\"outlinewidth\":0,\"ticks\":\"\"}}}],\"scatterpolar\":[{\"type\":\"scatterpolar\",\"marker\":{\"colorbar\":{\"outlinewidth\":0,\"ticks\":\"\"}}}],\"histogram\":[{\"marker\":{\"pattern\":{\"fillmode\":\"overlay\",\"size\":10,\"solidity\":0.2}},\"type\":\"histogram\"}],\"scattergl\":[{\"type\":\"scattergl\",\"marker\":{\"colorbar\":{\"outlinewidth\":0,\"ticks\":\"\"}}}],\"scatter3d\":[{\"type\":\"scatter3d\",\"line\":{\"colorbar\":{\"outlinewidth\":0,\"ticks\":\"\"}},\"marker\":{\"colorbar\":{\"outlinewidth\":0,\"ticks\":\"\"}}}],\"scattermapbox\":[{\"type\":\"scattermapbox\",\"marker\":{\"colorbar\":{\"outlinewidth\":0,\"ticks\":\"\"}}}],\"scatterternary\":[{\"type\":\"scatterternary\",\"marker\":{\"colorbar\":{\"outlinewidth\":0,\"ticks\":\"\"}}}],\"scattercarpet\":[{\"type\":\"scattercarpet\",\"marker\":{\"colorbar\":{\"outlinewidth\":0,\"ticks\":\"\"}}}],\"carpet\":[{\"aaxis\":{\"endlinecolor\":\"#2a3f5f\",\"gridcolor\":\"white\",\"linecolor\":\"white\",\"minorgridcolor\":\"white\",\"startlinecolor\":\"#2a3f5f\"},\"baxis\":{\"endlinecolor\":\"#2a3f5f\",\"gridcolor\":\"white\",\"linecolor\":\"white\",\"minorgridcolor\":\"white\",\"startlinecolor\":\"#2a3f5f\"},\"type\":\"carpet\"}],\"table\":[{\"cells\":{\"fill\":{\"color\":\"#EBF0F8\"},\"line\":{\"color\":\"white\"}},\"header\":{\"fill\":{\"color\":\"#C8D4E3\"},\"line\":{\"color\":\"white\"}},\"type\":\"table\"}],\"barpolar\":[{\"marker\":{\"line\":{\"color\":\"#E5ECF6\",\"width\":0.5},\"pattern\":{\"fillmode\":\"overlay\",\"size\":10,\"solidity\":0.2}},\"type\":\"barpolar\"}],\"pie\":[{\"automargin\":true,\"type\":\"pie\"}]},\"layout\":{\"autotypenumbers\":\"strict\",\"colorway\":[\"#636efa\",\"#EF553B\",\"#00cc96\",\"#ab63fa\",\"#FFA15A\",\"#19d3f3\",\"#FF6692\",\"#B6E880\",\"#FF97FF\",\"#FECB52\"],\"font\":{\"color\":\"#2a3f5f\"},\"hovermode\":\"closest\",\"hoverlabel\":{\"align\":\"left\"},\"paper_bgcolor\":\"white\",\"plot_bgcolor\":\"#E5ECF6\",\"polar\":{\"bgcolor\":\"#E5ECF6\",\"angularaxis\":{\"gridcolor\":\"white\",\"linecolor\":\"white\",\"ticks\":\"\"},\"radialaxis\":{\"gridcolor\":\"white\",\"linecolor\":\"white\",\"ticks\":\"\"}},\"ternary\":{\"bgcolor\":\"#E5ECF6\",\"aaxis\":{\"gridcolor\":\"white\",\"linecolor\":\"white\",\"ticks\":\"\"},\"baxis\":{\"gridcolor\":\"white\",\"linecolor\":\"white\",\"ticks\":\"\"},\"caxis\":{\"gridcolor\":\"white\",\"linecolor\":\"white\",\"ticks\":\"\"}},\"coloraxis\":{\"colorbar\":{\"outlinewidth\":0,\"ticks\":\"\"}},\"colorscale\":{\"sequential\":[[0.0,\"#0d0887\"],[0.1111111111111111,\"#46039f\"],[0.2222222222222222,\"#7201a8\"],[0.3333333333333333,\"#9c179e\"],[0.4444444444444444,\"#bd3786\"],[0.5555555555555556,\"#d8576b\"],[0.6666666666666666,\"#ed7953\"],[0.7777777777777778,\"#fb9f3a\"],[0.8888888888888888,\"#fdca26\"],[1.0,\"#f0f921\"]],\"sequentialminus\":[[0.0,\"#0d0887\"],[0.1111111111111111,\"#46039f\"],[0.2222222222222222,\"#7201a8\"],[0.3333333333333333,\"#9c179e\"],[0.4444444444444444,\"#bd3786\"],[0.5555555555555556,\"#d8576b\"],[0.6666666666666666,\"#ed7953\"],[0.7777777777777778,\"#fb9f3a\"],[0.8888888888888888,\"#fdca26\"],[1.0,\"#f0f921\"]],\"diverging\":[[0,\"#8e0152\"],[0.1,\"#c51b7d\"],[0.2,\"#de77ae\"],[0.3,\"#f1b6da\"],[0.4,\"#fde0ef\"],[0.5,\"#f7f7f7\"],[0.6,\"#e6f5d0\"],[0.7,\"#b8e186\"],[0.8,\"#7fbc41\"],[0.9,\"#4d9221\"],[1,\"#276419\"]]},\"xaxis\":{\"gridcolor\":\"white\",\"linecolor\":\"white\",\"ticks\":\"\",\"title\":{\"standoff\":15},\"zerolinecolor\":\"white\",\"automargin\":true,\"zerolinewidth\":2},\"yaxis\":{\"gridcolor\":\"white\",\"linecolor\":\"white\",\"ticks\":\"\",\"title\":{\"standoff\":15},\"zerolinecolor\":\"white\",\"automargin\":true,\"zerolinewidth\":2},\"scene\":{\"xaxis\":{\"backgroundcolor\":\"#E5ECF6\",\"gridcolor\":\"white\",\"linecolor\":\"white\",\"showbackground\":true,\"ticks\":\"\",\"zerolinecolor\":\"white\",\"gridwidth\":2},\"yaxis\":{\"backgroundcolor\":\"#E5ECF6\",\"gridcolor\":\"white\",\"linecolor\":\"white\",\"showbackground\":true,\"ticks\":\"\",\"zerolinecolor\":\"white\",\"gridwidth\":2},\"zaxis\":{\"backgroundcolor\":\"#E5ECF6\",\"gridcolor\":\"white\",\"linecolor\":\"white\",\"showbackground\":true,\"ticks\":\"\",\"zerolinecolor\":\"white\",\"gridwidth\":2}},\"shapedefaults\":{\"line\":{\"color\":\"#2a3f5f\"}},\"annotationdefaults\":{\"arrowcolor\":\"#2a3f5f\",\"arrowhead\":0,\"arrowwidth\":1},\"geo\":{\"bgcolor\":\"white\",\"landcolor\":\"#E5ECF6\",\"subunitcolor\":\"white\",\"showland\":true,\"showlakes\":true,\"lakecolor\":\"white\"},\"title\":{\"x\":0.05},\"mapbox\":{\"style\":\"light\"}}},\"xaxis\":{\"anchor\":\"y\",\"domain\":[0.0,1.0],\"title\":{\"text\":\"Name\"}},\"yaxis\":{\"anchor\":\"x\",\"domain\":[0.0,1.0],\"title\":{\"text\":\"Similarity\"}},\"legend\":{\"title\":{\"text\":\"FunSoC\"},\"tracegroupgap\":0},\"title\":{\"text\":\"Jaccard Similarity of Vertex Aligned Structures Of cluster_P59632\"}},                        {\"responsive\": true}                    ).then(function(){\n                            \nvar gd = document.getElementById('6f715fb8-b02f-4060-8003-63e5e5b88c8d');\nvar x = new MutationObserver(function (mutations, observer) {{\n        var display = window.getComputedStyle(gd).display;\n        if (!display || display === 'none') {{\n            console.log([gd, 'removed!']);\n            Plotly.purge(gd);\n            observer.disconnect();\n        }}\n}});\n\n// Listen for the removal of the full notebook cells\nvar notebookContainer = gd.closest('#notebook-container');\nif (notebookContainer) {{\n    x.observe(notebookContainer, {childList: true});\n}}\n\n// Listen for the clearing of the current output cell\nvar outputEl = gd.closest('.output');\nif (outputEl) {{\n    x.observe(outputEl, {childList: true});\n}}\n\n                        })                };                });            </script>        </div>"
     },
     "metadata": {},
     "output_type": "display_data"
    }
   ],
   "source": [
    "import numpy as np\n",
    "import plotly.express as plt\n",
    "import pandas as pd\n",
    "\n",
    "vecs = []\n",
    "ids = []\n",
    "sims = []\n",
    "included_set = []\n",
    "excluded_set = []\n",
    "ignored_set = []\n",
    "from dataStructure.collections import Collection, HomologyStructureFetcher\n",
    "from pathlib import Path\n",
    "\n",
    "database_path = Path(\n",
    "    '/media/felix/ShortTerm/universal_makers/non_redundant_B7LSS5/aligned/')\n",
    "my_collection = Collection(database_path, HomologyStructureFetcher())\n",
    "representative_patches = np.load('/media/felix/ShortTerm/universal_makers/non_redundant_B7LSS5/aligned/P59632/sp_P59632_AP3A_SARS_ORF3a_protein_OS_Severe_acute_respiratory_syndrome_coronavirus_OX_694009_GN_3a_PE_1_SV_1_relaxed_rank_001_alphafold2_ptm_model_3_seed_000-full-patches-with-vertex-pos.npy')\n",
    "funsocDB = open('/media/felix/ShortTerm/experemental_verified_funsocs/accession_list.txt','r')\n",
    "funsocEntires = funsocDB.read().splitlines()\n",
    "funsoc = \"\"\n",
    "for structures in my_collection.protein_structure_results.values():\n",
    "    for structure in structures.all_structures:\n",
    "        ids.append(structure.id)\n",
    "        target = np.load(structure.path.parent.joinpath(structure.path.name.split(\".\")[0] + \"-full-patches-with-vertex-pos.npy\"))\n",
    "        similarity = jaccard_similarity(representative_patches, target)\n",
    "        sims.append(similarity)\n",
    "        if structure.id in ['P03407']:\n",
    "            swiss_prot = 'Swiss-prot'\n",
    "        else:\n",
    "            swiss_prot = 'Non Swiss-prot'\n",
    "        if structure.id in funsocEntires:\n",
    "            funsoc = \"FunSoC\"\n",
    "        else:\n",
    "            funsoc=\"Non-FunSoC\"\n",
    "\n",
    "        included_set.append((swiss_prot ,structure.id, similarity, funsoc))\n",
    "df = pd.DataFrame(included_set, columns=['Dataset', 'Name','Similarity', \"FunSoC\"])\n",
    "fig = plt.scatter(df, x='Name' ,y='Similarity',title=\"Jaccard Similarity of Vertex Aligned Structures Of cluster_P59632\",color='FunSoC',)\n",
    "fig.show()\n"
   ],
   "metadata": {
    "collapsed": false,
    "ExecuteTime": {
     "end_time": "2024-09-18T18:15:09.963025Z",
     "start_time": "2024-09-18T18:15:09.502002Z"
    }
   },
   "id": "8ebbcea596689ddd",
   "execution_count": 32
  },
  {
   "cell_type": "code",
   "outputs": [
    {
     "name": "stdout",
     "output_type": "stream",
     "text": [
      "[]\n"
     ]
    },
    {
     "data": {
      "application/vnd.plotly.v1+json": {
       "data": [
        {
         "hovertemplate": "embedding0=%{x}<br>embedding1=%{y}<br>Similarity=%{marker.color}<extra></extra>",
         "legendgroup": "",
         "marker": {
          "color": [
           0.806949806949807,
           0.7266666666666667,
           0.8390804597701149,
           0.7442748091603053,
           0.8627450980392157,
           0.6730038022813688,
           0.5515873015873016,
           0.8255813953488372,
           0.7414448669201521,
           0.8294573643410853,
           0.544,
           0.8521400778210116,
           0.813953488372093,
           0.8301886792452831,
           0.8384615384615385,
           0.8346153846153846,
           0.8185328185328186,
           0.740484429065744,
           0.5795918367346938,
           0.6394052044609665,
           0.5691056910569106,
           0.7303370786516854,
           0.8143939393939394,
           0.6754716981132075,
           0.8543307086614174,
           0.8938775510204081,
           0.7925925925925926,
           0.844,
           0.8250950570342205,
           1.0,
           0.8210116731517509
          ],
          "coloraxis": "coloraxis",
          "symbol": "circle"
         },
         "mode": "markers",
         "name": "",
         "orientation": "v",
         "showlegend": false,
         "x": [
          -22.95323121137003,
          -24.084570187681464,
          -20.879185734191733,
          -31.237431995517287,
          -23.215714141479282,
          13.312797931731753,
          140.27563136279807,
          -30.01562291143769,
          -23.484322700349654,
          -33.48677543672877,
          138.67068547595616,
          -26.031001366299684,
          -22.199696835186362,
          -27.649698166013312,
          -22.817267346234274,
          -32.195951712808174,
          -31.149011719373533,
          -24.060388471765677,
          139.5443620984664,
          25.542685730619745,
          139.34573940687923,
          18.318600155089673,
          -31.233738045045495,
          13.791733712524644,
          -35.08805987682263,
          -29.778943600451388,
          -23.66190539306053,
          -23.292435528337187,
          -27.04162101493131,
          -35.92303592959111,
          -27.32262654938928
         ],
         "xaxis": "x",
         "y": [
          4.963936059000374,
          -18.108392577928072,
          -18.77646686076598,
          53.675816708152766,
          -19.613733033272787,
          83.96779086433301,
          -16.279221343364593,
          4.087147151549347,
          50.90211368195227,
          -6.9693620984875775,
          -4.228971645516356,
          -33.07981783892547,
          -0.9866519411639928,
          -18.08837056040796,
          -9.847499270761771,
          -26.924688153541297,
          -12.156689957609656,
          -16.95910633873727,
          -25.281556280515012,
          84.00416833562741,
          -29.66791751766323,
          24.600704593440163,
          -19.403934032522272,
          83.47775396404553,
          -20.65460568109118,
          -19.94924444389756,
          -0.4772600922339682,
          -29.610791542754065,
          -9.692863588817078,
          -24.35114319468039,
          -8.571143363443113
         ],
         "yaxis": "y",
         "type": "scatter"
        }
       ],
       "layout": {
        "template": {
         "data": {
          "histogram2dcontour": [
           {
            "type": "histogram2dcontour",
            "colorbar": {
             "outlinewidth": 0,
             "ticks": ""
            },
            "colorscale": [
             [
              0.0,
              "#0d0887"
             ],
             [
              0.1111111111111111,
              "#46039f"
             ],
             [
              0.2222222222222222,
              "#7201a8"
             ],
             [
              0.3333333333333333,
              "#9c179e"
             ],
             [
              0.4444444444444444,
              "#bd3786"
             ],
             [
              0.5555555555555556,
              "#d8576b"
             ],
             [
              0.6666666666666666,
              "#ed7953"
             ],
             [
              0.7777777777777778,
              "#fb9f3a"
             ],
             [
              0.8888888888888888,
              "#fdca26"
             ],
             [
              1.0,
              "#f0f921"
             ]
            ]
           }
          ],
          "choropleth": [
           {
            "type": "choropleth",
            "colorbar": {
             "outlinewidth": 0,
             "ticks": ""
            }
           }
          ],
          "histogram2d": [
           {
            "type": "histogram2d",
            "colorbar": {
             "outlinewidth": 0,
             "ticks": ""
            },
            "colorscale": [
             [
              0.0,
              "#0d0887"
             ],
             [
              0.1111111111111111,
              "#46039f"
             ],
             [
              0.2222222222222222,
              "#7201a8"
             ],
             [
              0.3333333333333333,
              "#9c179e"
             ],
             [
              0.4444444444444444,
              "#bd3786"
             ],
             [
              0.5555555555555556,
              "#d8576b"
             ],
             [
              0.6666666666666666,
              "#ed7953"
             ],
             [
              0.7777777777777778,
              "#fb9f3a"
             ],
             [
              0.8888888888888888,
              "#fdca26"
             ],
             [
              1.0,
              "#f0f921"
             ]
            ]
           }
          ],
          "heatmap": [
           {
            "type": "heatmap",
            "colorbar": {
             "outlinewidth": 0,
             "ticks": ""
            },
            "colorscale": [
             [
              0.0,
              "#0d0887"
             ],
             [
              0.1111111111111111,
              "#46039f"
             ],
             [
              0.2222222222222222,
              "#7201a8"
             ],
             [
              0.3333333333333333,
              "#9c179e"
             ],
             [
              0.4444444444444444,
              "#bd3786"
             ],
             [
              0.5555555555555556,
              "#d8576b"
             ],
             [
              0.6666666666666666,
              "#ed7953"
             ],
             [
              0.7777777777777778,
              "#fb9f3a"
             ],
             [
              0.8888888888888888,
              "#fdca26"
             ],
             [
              1.0,
              "#f0f921"
             ]
            ]
           }
          ],
          "heatmapgl": [
           {
            "type": "heatmapgl",
            "colorbar": {
             "outlinewidth": 0,
             "ticks": ""
            },
            "colorscale": [
             [
              0.0,
              "#0d0887"
             ],
             [
              0.1111111111111111,
              "#46039f"
             ],
             [
              0.2222222222222222,
              "#7201a8"
             ],
             [
              0.3333333333333333,
              "#9c179e"
             ],
             [
              0.4444444444444444,
              "#bd3786"
             ],
             [
              0.5555555555555556,
              "#d8576b"
             ],
             [
              0.6666666666666666,
              "#ed7953"
             ],
             [
              0.7777777777777778,
              "#fb9f3a"
             ],
             [
              0.8888888888888888,
              "#fdca26"
             ],
             [
              1.0,
              "#f0f921"
             ]
            ]
           }
          ],
          "contourcarpet": [
           {
            "type": "contourcarpet",
            "colorbar": {
             "outlinewidth": 0,
             "ticks": ""
            }
           }
          ],
          "contour": [
           {
            "type": "contour",
            "colorbar": {
             "outlinewidth": 0,
             "ticks": ""
            },
            "colorscale": [
             [
              0.0,
              "#0d0887"
             ],
             [
              0.1111111111111111,
              "#46039f"
             ],
             [
              0.2222222222222222,
              "#7201a8"
             ],
             [
              0.3333333333333333,
              "#9c179e"
             ],
             [
              0.4444444444444444,
              "#bd3786"
             ],
             [
              0.5555555555555556,
              "#d8576b"
             ],
             [
              0.6666666666666666,
              "#ed7953"
             ],
             [
              0.7777777777777778,
              "#fb9f3a"
             ],
             [
              0.8888888888888888,
              "#fdca26"
             ],
             [
              1.0,
              "#f0f921"
             ]
            ]
           }
          ],
          "surface": [
           {
            "type": "surface",
            "colorbar": {
             "outlinewidth": 0,
             "ticks": ""
            },
            "colorscale": [
             [
              0.0,
              "#0d0887"
             ],
             [
              0.1111111111111111,
              "#46039f"
             ],
             [
              0.2222222222222222,
              "#7201a8"
             ],
             [
              0.3333333333333333,
              "#9c179e"
             ],
             [
              0.4444444444444444,
              "#bd3786"
             ],
             [
              0.5555555555555556,
              "#d8576b"
             ],
             [
              0.6666666666666666,
              "#ed7953"
             ],
             [
              0.7777777777777778,
              "#fb9f3a"
             ],
             [
              0.8888888888888888,
              "#fdca26"
             ],
             [
              1.0,
              "#f0f921"
             ]
            ]
           }
          ],
          "mesh3d": [
           {
            "type": "mesh3d",
            "colorbar": {
             "outlinewidth": 0,
             "ticks": ""
            }
           }
          ],
          "scatter": [
           {
            "fillpattern": {
             "fillmode": "overlay",
             "size": 10,
             "solidity": 0.2
            },
            "type": "scatter"
           }
          ],
          "parcoords": [
           {
            "type": "parcoords",
            "line": {
             "colorbar": {
              "outlinewidth": 0,
              "ticks": ""
             }
            }
           }
          ],
          "scatterpolargl": [
           {
            "type": "scatterpolargl",
            "marker": {
             "colorbar": {
              "outlinewidth": 0,
              "ticks": ""
             }
            }
           }
          ],
          "bar": [
           {
            "error_x": {
             "color": "#2a3f5f"
            },
            "error_y": {
             "color": "#2a3f5f"
            },
            "marker": {
             "line": {
              "color": "#E5ECF6",
              "width": 0.5
             },
             "pattern": {
              "fillmode": "overlay",
              "size": 10,
              "solidity": 0.2
             }
            },
            "type": "bar"
           }
          ],
          "scattergeo": [
           {
            "type": "scattergeo",
            "marker": {
             "colorbar": {
              "outlinewidth": 0,
              "ticks": ""
             }
            }
           }
          ],
          "scatterpolar": [
           {
            "type": "scatterpolar",
            "marker": {
             "colorbar": {
              "outlinewidth": 0,
              "ticks": ""
             }
            }
           }
          ],
          "histogram": [
           {
            "marker": {
             "pattern": {
              "fillmode": "overlay",
              "size": 10,
              "solidity": 0.2
             }
            },
            "type": "histogram"
           }
          ],
          "scattergl": [
           {
            "type": "scattergl",
            "marker": {
             "colorbar": {
              "outlinewidth": 0,
              "ticks": ""
             }
            }
           }
          ],
          "scatter3d": [
           {
            "type": "scatter3d",
            "line": {
             "colorbar": {
              "outlinewidth": 0,
              "ticks": ""
             }
            },
            "marker": {
             "colorbar": {
              "outlinewidth": 0,
              "ticks": ""
             }
            }
           }
          ],
          "scattermapbox": [
           {
            "type": "scattermapbox",
            "marker": {
             "colorbar": {
              "outlinewidth": 0,
              "ticks": ""
             }
            }
           }
          ],
          "scatterternary": [
           {
            "type": "scatterternary",
            "marker": {
             "colorbar": {
              "outlinewidth": 0,
              "ticks": ""
             }
            }
           }
          ],
          "scattercarpet": [
           {
            "type": "scattercarpet",
            "marker": {
             "colorbar": {
              "outlinewidth": 0,
              "ticks": ""
             }
            }
           }
          ],
          "carpet": [
           {
            "aaxis": {
             "endlinecolor": "#2a3f5f",
             "gridcolor": "white",
             "linecolor": "white",
             "minorgridcolor": "white",
             "startlinecolor": "#2a3f5f"
            },
            "baxis": {
             "endlinecolor": "#2a3f5f",
             "gridcolor": "white",
             "linecolor": "white",
             "minorgridcolor": "white",
             "startlinecolor": "#2a3f5f"
            },
            "type": "carpet"
           }
          ],
          "table": [
           {
            "cells": {
             "fill": {
              "color": "#EBF0F8"
             },
             "line": {
              "color": "white"
             }
            },
            "header": {
             "fill": {
              "color": "#C8D4E3"
             },
             "line": {
              "color": "white"
             }
            },
            "type": "table"
           }
          ],
          "barpolar": [
           {
            "marker": {
             "line": {
              "color": "#E5ECF6",
              "width": 0.5
             },
             "pattern": {
              "fillmode": "overlay",
              "size": 10,
              "solidity": 0.2
             }
            },
            "type": "barpolar"
           }
          ],
          "pie": [
           {
            "automargin": true,
            "type": "pie"
           }
          ]
         },
         "layout": {
          "autotypenumbers": "strict",
          "colorway": [
           "#636efa",
           "#EF553B",
           "#00cc96",
           "#ab63fa",
           "#FFA15A",
           "#19d3f3",
           "#FF6692",
           "#B6E880",
           "#FF97FF",
           "#FECB52"
          ],
          "font": {
           "color": "#2a3f5f"
          },
          "hovermode": "closest",
          "hoverlabel": {
           "align": "left"
          },
          "paper_bgcolor": "white",
          "plot_bgcolor": "#E5ECF6",
          "polar": {
           "bgcolor": "#E5ECF6",
           "angularaxis": {
            "gridcolor": "white",
            "linecolor": "white",
            "ticks": ""
           },
           "radialaxis": {
            "gridcolor": "white",
            "linecolor": "white",
            "ticks": ""
           }
          },
          "ternary": {
           "bgcolor": "#E5ECF6",
           "aaxis": {
            "gridcolor": "white",
            "linecolor": "white",
            "ticks": ""
           },
           "baxis": {
            "gridcolor": "white",
            "linecolor": "white",
            "ticks": ""
           },
           "caxis": {
            "gridcolor": "white",
            "linecolor": "white",
            "ticks": ""
           }
          },
          "coloraxis": {
           "colorbar": {
            "outlinewidth": 0,
            "ticks": ""
           }
          },
          "colorscale": {
           "sequential": [
            [
             0.0,
             "#0d0887"
            ],
            [
             0.1111111111111111,
             "#46039f"
            ],
            [
             0.2222222222222222,
             "#7201a8"
            ],
            [
             0.3333333333333333,
             "#9c179e"
            ],
            [
             0.4444444444444444,
             "#bd3786"
            ],
            [
             0.5555555555555556,
             "#d8576b"
            ],
            [
             0.6666666666666666,
             "#ed7953"
            ],
            [
             0.7777777777777778,
             "#fb9f3a"
            ],
            [
             0.8888888888888888,
             "#fdca26"
            ],
            [
             1.0,
             "#f0f921"
            ]
           ],
           "sequentialminus": [
            [
             0.0,
             "#0d0887"
            ],
            [
             0.1111111111111111,
             "#46039f"
            ],
            [
             0.2222222222222222,
             "#7201a8"
            ],
            [
             0.3333333333333333,
             "#9c179e"
            ],
            [
             0.4444444444444444,
             "#bd3786"
            ],
            [
             0.5555555555555556,
             "#d8576b"
            ],
            [
             0.6666666666666666,
             "#ed7953"
            ],
            [
             0.7777777777777778,
             "#fb9f3a"
            ],
            [
             0.8888888888888888,
             "#fdca26"
            ],
            [
             1.0,
             "#f0f921"
            ]
           ],
           "diverging": [
            [
             0,
             "#8e0152"
            ],
            [
             0.1,
             "#c51b7d"
            ],
            [
             0.2,
             "#de77ae"
            ],
            [
             0.3,
             "#f1b6da"
            ],
            [
             0.4,
             "#fde0ef"
            ],
            [
             0.5,
             "#f7f7f7"
            ],
            [
             0.6,
             "#e6f5d0"
            ],
            [
             0.7,
             "#b8e186"
            ],
            [
             0.8,
             "#7fbc41"
            ],
            [
             0.9,
             "#4d9221"
            ],
            [
             1,
             "#276419"
            ]
           ]
          },
          "xaxis": {
           "gridcolor": "white",
           "linecolor": "white",
           "ticks": "",
           "title": {
            "standoff": 15
           },
           "zerolinecolor": "white",
           "automargin": true,
           "zerolinewidth": 2
          },
          "yaxis": {
           "gridcolor": "white",
           "linecolor": "white",
           "ticks": "",
           "title": {
            "standoff": 15
           },
           "zerolinecolor": "white",
           "automargin": true,
           "zerolinewidth": 2
          },
          "scene": {
           "xaxis": {
            "backgroundcolor": "#E5ECF6",
            "gridcolor": "white",
            "linecolor": "white",
            "showbackground": true,
            "ticks": "",
            "zerolinecolor": "white",
            "gridwidth": 2
           },
           "yaxis": {
            "backgroundcolor": "#E5ECF6",
            "gridcolor": "white",
            "linecolor": "white",
            "showbackground": true,
            "ticks": "",
            "zerolinecolor": "white",
            "gridwidth": 2
           },
           "zaxis": {
            "backgroundcolor": "#E5ECF6",
            "gridcolor": "white",
            "linecolor": "white",
            "showbackground": true,
            "ticks": "",
            "zerolinecolor": "white",
            "gridwidth": 2
           }
          },
          "shapedefaults": {
           "line": {
            "color": "#2a3f5f"
           }
          },
          "annotationdefaults": {
           "arrowcolor": "#2a3f5f",
           "arrowhead": 0,
           "arrowwidth": 1
          },
          "geo": {
           "bgcolor": "white",
           "landcolor": "#E5ECF6",
           "subunitcolor": "white",
           "showland": true,
           "showlakes": true,
           "lakecolor": "white"
          },
          "title": {
           "x": 0.05
          },
          "mapbox": {
           "style": "light"
          }
         }
        },
        "xaxis": {
         "anchor": "y",
         "domain": [
          0.0,
          1.0
         ],
         "title": {
          "text": "embedding0"
         }
        },
        "yaxis": {
         "anchor": "x",
         "domain": [
          0.0,
          1.0
         ],
         "title": {
          "text": "embedding1"
         }
        },
        "coloraxis": {
         "colorbar": {
          "title": {
           "text": "Similarity"
          }
         },
         "colorscale": [
          [
           0.0,
           "rgb(150,0,90)"
          ],
          [
           0.125,
           "rgb(0,0,200)"
          ],
          [
           0.25,
           "rgb(0,25,255)"
          ],
          [
           0.375,
           "rgb(0,152,255)"
          ],
          [
           0.5,
           "rgb(44,255,150)"
          ],
          [
           0.625,
           "rgb(151,255,0)"
          ],
          [
           0.75,
           "rgb(255,234,0)"
          ],
          [
           0.875,
           "rgb(255,111,0)"
          ],
          [
           1.0,
           "rgb(255,0,0)"
          ]
         ]
        },
        "legend": {
         "tracegroupgap": 0
        },
        "title": {
         "text": "PCA of L2 Distance of Vertex Features from cluster_P59632."
        }
       },
       "config": {
        "plotlyServerURL": "https://plot.ly"
       }
      },
      "text/html": "<div>                            <div id=\"332edaff-b21d-4853-83d4-857e2f7cb669\" class=\"plotly-graph-div\" style=\"height:525px; width:100%;\"></div>            <script type=\"text/javascript\">                require([\"plotly\"], function(Plotly) {                    window.PLOTLYENV=window.PLOTLYENV || {};                                    if (document.getElementById(\"332edaff-b21d-4853-83d4-857e2f7cb669\")) {                    Plotly.newPlot(                        \"332edaff-b21d-4853-83d4-857e2f7cb669\",                        [{\"hovertemplate\":\"embedding0=%{x}\\u003cbr\\u003eembedding1=%{y}\\u003cbr\\u003eSimilarity=%{marker.color}\\u003cextra\\u003e\\u003c\\u002fextra\\u003e\",\"legendgroup\":\"\",\"marker\":{\"color\":[0.806949806949807,0.7266666666666667,0.8390804597701149,0.7442748091603053,0.8627450980392157,0.6730038022813688,0.5515873015873016,0.8255813953488372,0.7414448669201521,0.8294573643410853,0.544,0.8521400778210116,0.813953488372093,0.8301886792452831,0.8384615384615385,0.8346153846153846,0.8185328185328186,0.740484429065744,0.5795918367346938,0.6394052044609665,0.5691056910569106,0.7303370786516854,0.8143939393939394,0.6754716981132075,0.8543307086614174,0.8938775510204081,0.7925925925925926,0.844,0.8250950570342205,1.0,0.8210116731517509],\"coloraxis\":\"coloraxis\",\"symbol\":\"circle\"},\"mode\":\"markers\",\"name\":\"\",\"orientation\":\"v\",\"showlegend\":false,\"x\":[-22.95323121137003,-24.084570187681464,-20.879185734191733,-31.237431995517287,-23.215714141479282,13.312797931731753,140.27563136279807,-30.01562291143769,-23.484322700349654,-33.48677543672877,138.67068547595616,-26.031001366299684,-22.199696835186362,-27.649698166013312,-22.817267346234274,-32.195951712808174,-31.149011719373533,-24.060388471765677,139.5443620984664,25.542685730619745,139.34573940687923,18.318600155089673,-31.233738045045495,13.791733712524644,-35.08805987682263,-29.778943600451388,-23.66190539306053,-23.292435528337187,-27.04162101493131,-35.92303592959111,-27.32262654938928],\"xaxis\":\"x\",\"y\":[4.963936059000374,-18.108392577928072,-18.77646686076598,53.675816708152766,-19.613733033272787,83.96779086433301,-16.279221343364593,4.087147151549347,50.90211368195227,-6.9693620984875775,-4.228971645516356,-33.07981783892547,-0.9866519411639928,-18.08837056040796,-9.847499270761771,-26.924688153541297,-12.156689957609656,-16.95910633873727,-25.281556280515012,84.00416833562741,-29.66791751766323,24.600704593440163,-19.403934032522272,83.47775396404553,-20.65460568109118,-19.94924444389756,-0.4772600922339682,-29.610791542754065,-9.692863588817078,-24.35114319468039,-8.571143363443113],\"yaxis\":\"y\",\"type\":\"scatter\"}],                        {\"template\":{\"data\":{\"histogram2dcontour\":[{\"type\":\"histogram2dcontour\",\"colorbar\":{\"outlinewidth\":0,\"ticks\":\"\"},\"colorscale\":[[0.0,\"#0d0887\"],[0.1111111111111111,\"#46039f\"],[0.2222222222222222,\"#7201a8\"],[0.3333333333333333,\"#9c179e\"],[0.4444444444444444,\"#bd3786\"],[0.5555555555555556,\"#d8576b\"],[0.6666666666666666,\"#ed7953\"],[0.7777777777777778,\"#fb9f3a\"],[0.8888888888888888,\"#fdca26\"],[1.0,\"#f0f921\"]]}],\"choropleth\":[{\"type\":\"choropleth\",\"colorbar\":{\"outlinewidth\":0,\"ticks\":\"\"}}],\"histogram2d\":[{\"type\":\"histogram2d\",\"colorbar\":{\"outlinewidth\":0,\"ticks\":\"\"},\"colorscale\":[[0.0,\"#0d0887\"],[0.1111111111111111,\"#46039f\"],[0.2222222222222222,\"#7201a8\"],[0.3333333333333333,\"#9c179e\"],[0.4444444444444444,\"#bd3786\"],[0.5555555555555556,\"#d8576b\"],[0.6666666666666666,\"#ed7953\"],[0.7777777777777778,\"#fb9f3a\"],[0.8888888888888888,\"#fdca26\"],[1.0,\"#f0f921\"]]}],\"heatmap\":[{\"type\":\"heatmap\",\"colorbar\":{\"outlinewidth\":0,\"ticks\":\"\"},\"colorscale\":[[0.0,\"#0d0887\"],[0.1111111111111111,\"#46039f\"],[0.2222222222222222,\"#7201a8\"],[0.3333333333333333,\"#9c179e\"],[0.4444444444444444,\"#bd3786\"],[0.5555555555555556,\"#d8576b\"],[0.6666666666666666,\"#ed7953\"],[0.7777777777777778,\"#fb9f3a\"],[0.8888888888888888,\"#fdca26\"],[1.0,\"#f0f921\"]]}],\"heatmapgl\":[{\"type\":\"heatmapgl\",\"colorbar\":{\"outlinewidth\":0,\"ticks\":\"\"},\"colorscale\":[[0.0,\"#0d0887\"],[0.1111111111111111,\"#46039f\"],[0.2222222222222222,\"#7201a8\"],[0.3333333333333333,\"#9c179e\"],[0.4444444444444444,\"#bd3786\"],[0.5555555555555556,\"#d8576b\"],[0.6666666666666666,\"#ed7953\"],[0.7777777777777778,\"#fb9f3a\"],[0.8888888888888888,\"#fdca26\"],[1.0,\"#f0f921\"]]}],\"contourcarpet\":[{\"type\":\"contourcarpet\",\"colorbar\":{\"outlinewidth\":0,\"ticks\":\"\"}}],\"contour\":[{\"type\":\"contour\",\"colorbar\":{\"outlinewidth\":0,\"ticks\":\"\"},\"colorscale\":[[0.0,\"#0d0887\"],[0.1111111111111111,\"#46039f\"],[0.2222222222222222,\"#7201a8\"],[0.3333333333333333,\"#9c179e\"],[0.4444444444444444,\"#bd3786\"],[0.5555555555555556,\"#d8576b\"],[0.6666666666666666,\"#ed7953\"],[0.7777777777777778,\"#fb9f3a\"],[0.8888888888888888,\"#fdca26\"],[1.0,\"#f0f921\"]]}],\"surface\":[{\"type\":\"surface\",\"colorbar\":{\"outlinewidth\":0,\"ticks\":\"\"},\"colorscale\":[[0.0,\"#0d0887\"],[0.1111111111111111,\"#46039f\"],[0.2222222222222222,\"#7201a8\"],[0.3333333333333333,\"#9c179e\"],[0.4444444444444444,\"#bd3786\"],[0.5555555555555556,\"#d8576b\"],[0.6666666666666666,\"#ed7953\"],[0.7777777777777778,\"#fb9f3a\"],[0.8888888888888888,\"#fdca26\"],[1.0,\"#f0f921\"]]}],\"mesh3d\":[{\"type\":\"mesh3d\",\"colorbar\":{\"outlinewidth\":0,\"ticks\":\"\"}}],\"scatter\":[{\"fillpattern\":{\"fillmode\":\"overlay\",\"size\":10,\"solidity\":0.2},\"type\":\"scatter\"}],\"parcoords\":[{\"type\":\"parcoords\",\"line\":{\"colorbar\":{\"outlinewidth\":0,\"ticks\":\"\"}}}],\"scatterpolargl\":[{\"type\":\"scatterpolargl\",\"marker\":{\"colorbar\":{\"outlinewidth\":0,\"ticks\":\"\"}}}],\"bar\":[{\"error_x\":{\"color\":\"#2a3f5f\"},\"error_y\":{\"color\":\"#2a3f5f\"},\"marker\":{\"line\":{\"color\":\"#E5ECF6\",\"width\":0.5},\"pattern\":{\"fillmode\":\"overlay\",\"size\":10,\"solidity\":0.2}},\"type\":\"bar\"}],\"scattergeo\":[{\"type\":\"scattergeo\",\"marker\":{\"colorbar\":{\"outlinewidth\":0,\"ticks\":\"\"}}}],\"scatterpolar\":[{\"type\":\"scatterpolar\",\"marker\":{\"colorbar\":{\"outlinewidth\":0,\"ticks\":\"\"}}}],\"histogram\":[{\"marker\":{\"pattern\":{\"fillmode\":\"overlay\",\"size\":10,\"solidity\":0.2}},\"type\":\"histogram\"}],\"scattergl\":[{\"type\":\"scattergl\",\"marker\":{\"colorbar\":{\"outlinewidth\":0,\"ticks\":\"\"}}}],\"scatter3d\":[{\"type\":\"scatter3d\",\"line\":{\"colorbar\":{\"outlinewidth\":0,\"ticks\":\"\"}},\"marker\":{\"colorbar\":{\"outlinewidth\":0,\"ticks\":\"\"}}}],\"scattermapbox\":[{\"type\":\"scattermapbox\",\"marker\":{\"colorbar\":{\"outlinewidth\":0,\"ticks\":\"\"}}}],\"scatterternary\":[{\"type\":\"scatterternary\",\"marker\":{\"colorbar\":{\"outlinewidth\":0,\"ticks\":\"\"}}}],\"scattercarpet\":[{\"type\":\"scattercarpet\",\"marker\":{\"colorbar\":{\"outlinewidth\":0,\"ticks\":\"\"}}}],\"carpet\":[{\"aaxis\":{\"endlinecolor\":\"#2a3f5f\",\"gridcolor\":\"white\",\"linecolor\":\"white\",\"minorgridcolor\":\"white\",\"startlinecolor\":\"#2a3f5f\"},\"baxis\":{\"endlinecolor\":\"#2a3f5f\",\"gridcolor\":\"white\",\"linecolor\":\"white\",\"minorgridcolor\":\"white\",\"startlinecolor\":\"#2a3f5f\"},\"type\":\"carpet\"}],\"table\":[{\"cells\":{\"fill\":{\"color\":\"#EBF0F8\"},\"line\":{\"color\":\"white\"}},\"header\":{\"fill\":{\"color\":\"#C8D4E3\"},\"line\":{\"color\":\"white\"}},\"type\":\"table\"}],\"barpolar\":[{\"marker\":{\"line\":{\"color\":\"#E5ECF6\",\"width\":0.5},\"pattern\":{\"fillmode\":\"overlay\",\"size\":10,\"solidity\":0.2}},\"type\":\"barpolar\"}],\"pie\":[{\"automargin\":true,\"type\":\"pie\"}]},\"layout\":{\"autotypenumbers\":\"strict\",\"colorway\":[\"#636efa\",\"#EF553B\",\"#00cc96\",\"#ab63fa\",\"#FFA15A\",\"#19d3f3\",\"#FF6692\",\"#B6E880\",\"#FF97FF\",\"#FECB52\"],\"font\":{\"color\":\"#2a3f5f\"},\"hovermode\":\"closest\",\"hoverlabel\":{\"align\":\"left\"},\"paper_bgcolor\":\"white\",\"plot_bgcolor\":\"#E5ECF6\",\"polar\":{\"bgcolor\":\"#E5ECF6\",\"angularaxis\":{\"gridcolor\":\"white\",\"linecolor\":\"white\",\"ticks\":\"\"},\"radialaxis\":{\"gridcolor\":\"white\",\"linecolor\":\"white\",\"ticks\":\"\"}},\"ternary\":{\"bgcolor\":\"#E5ECF6\",\"aaxis\":{\"gridcolor\":\"white\",\"linecolor\":\"white\",\"ticks\":\"\"},\"baxis\":{\"gridcolor\":\"white\",\"linecolor\":\"white\",\"ticks\":\"\"},\"caxis\":{\"gridcolor\":\"white\",\"linecolor\":\"white\",\"ticks\":\"\"}},\"coloraxis\":{\"colorbar\":{\"outlinewidth\":0,\"ticks\":\"\"}},\"colorscale\":{\"sequential\":[[0.0,\"#0d0887\"],[0.1111111111111111,\"#46039f\"],[0.2222222222222222,\"#7201a8\"],[0.3333333333333333,\"#9c179e\"],[0.4444444444444444,\"#bd3786\"],[0.5555555555555556,\"#d8576b\"],[0.6666666666666666,\"#ed7953\"],[0.7777777777777778,\"#fb9f3a\"],[0.8888888888888888,\"#fdca26\"],[1.0,\"#f0f921\"]],\"sequentialminus\":[[0.0,\"#0d0887\"],[0.1111111111111111,\"#46039f\"],[0.2222222222222222,\"#7201a8\"],[0.3333333333333333,\"#9c179e\"],[0.4444444444444444,\"#bd3786\"],[0.5555555555555556,\"#d8576b\"],[0.6666666666666666,\"#ed7953\"],[0.7777777777777778,\"#fb9f3a\"],[0.8888888888888888,\"#fdca26\"],[1.0,\"#f0f921\"]],\"diverging\":[[0,\"#8e0152\"],[0.1,\"#c51b7d\"],[0.2,\"#de77ae\"],[0.3,\"#f1b6da\"],[0.4,\"#fde0ef\"],[0.5,\"#f7f7f7\"],[0.6,\"#e6f5d0\"],[0.7,\"#b8e186\"],[0.8,\"#7fbc41\"],[0.9,\"#4d9221\"],[1,\"#276419\"]]},\"xaxis\":{\"gridcolor\":\"white\",\"linecolor\":\"white\",\"ticks\":\"\",\"title\":{\"standoff\":15},\"zerolinecolor\":\"white\",\"automargin\":true,\"zerolinewidth\":2},\"yaxis\":{\"gridcolor\":\"white\",\"linecolor\":\"white\",\"ticks\":\"\",\"title\":{\"standoff\":15},\"zerolinecolor\":\"white\",\"automargin\":true,\"zerolinewidth\":2},\"scene\":{\"xaxis\":{\"backgroundcolor\":\"#E5ECF6\",\"gridcolor\":\"white\",\"linecolor\":\"white\",\"showbackground\":true,\"ticks\":\"\",\"zerolinecolor\":\"white\",\"gridwidth\":2},\"yaxis\":{\"backgroundcolor\":\"#E5ECF6\",\"gridcolor\":\"white\",\"linecolor\":\"white\",\"showbackground\":true,\"ticks\":\"\",\"zerolinecolor\":\"white\",\"gridwidth\":2},\"zaxis\":{\"backgroundcolor\":\"#E5ECF6\",\"gridcolor\":\"white\",\"linecolor\":\"white\",\"showbackground\":true,\"ticks\":\"\",\"zerolinecolor\":\"white\",\"gridwidth\":2}},\"shapedefaults\":{\"line\":{\"color\":\"#2a3f5f\"}},\"annotationdefaults\":{\"arrowcolor\":\"#2a3f5f\",\"arrowhead\":0,\"arrowwidth\":1},\"geo\":{\"bgcolor\":\"white\",\"landcolor\":\"#E5ECF6\",\"subunitcolor\":\"white\",\"showland\":true,\"showlakes\":true,\"lakecolor\":\"white\"},\"title\":{\"x\":0.05},\"mapbox\":{\"style\":\"light\"}}},\"xaxis\":{\"anchor\":\"y\",\"domain\":[0.0,1.0],\"title\":{\"text\":\"embedding0\"}},\"yaxis\":{\"anchor\":\"x\",\"domain\":[0.0,1.0],\"title\":{\"text\":\"embedding1\"}},\"coloraxis\":{\"colorbar\":{\"title\":{\"text\":\"Similarity\"}},\"colorscale\":[[0.0,\"rgb(150,0,90)\"],[0.125,\"rgb(0,0,200)\"],[0.25,\"rgb(0,25,255)\"],[0.375,\"rgb(0,152,255)\"],[0.5,\"rgb(44,255,150)\"],[0.625,\"rgb(151,255,0)\"],[0.75,\"rgb(255,234,0)\"],[0.875,\"rgb(255,111,0)\"],[1.0,\"rgb(255,0,0)\"]]},\"legend\":{\"tracegroupgap\":0},\"title\":{\"text\":\"PCA of L2 Distance of Vertex Features from cluster_P59632.\"}},                        {\"responsive\": true}                    ).then(function(){\n                            \nvar gd = document.getElementById('332edaff-b21d-4853-83d4-857e2f7cb669');\nvar x = new MutationObserver(function (mutations, observer) {{\n        var display = window.getComputedStyle(gd).display;\n        if (!display || display === 'none') {{\n            console.log([gd, 'removed!']);\n            Plotly.purge(gd);\n            observer.disconnect();\n        }}\n}});\n\n// Listen for the removal of the full notebook cells\nvar notebookContainer = gd.closest('#notebook-container');\nif (notebookContainer) {{\n    x.observe(notebookContainer, {childList: true});\n}}\n\n// Listen for the clearing of the current output cell\nvar outputEl = gd.closest('.output');\nif (outputEl) {{\n    x.observe(outputEl, {childList: true});\n}}\n\n                        })                };                });            </script>        </div>"
     },
     "metadata": {},
     "output_type": "display_data"
    }
   ],
   "source": [
    "from Bio import pairwise2, Align\n",
    "import numpy as np\n",
    "from sklearn.manifold import TSNE\n",
    "from sklearn.decomposition import PCA\n",
    "import plotly.express as plt\n",
    "matrix = Align.substitution_matrices.load(\"BLOSUM62\")\n",
    "vecs = []\n",
    "ids = []\n",
    "swiss = []\n",
    "enties = []\n",
    "seq_ids = []\n",
    "for structures in my_collection.protein_structure_results.values():\n",
    "    for structure in structures.all_structures:\n",
    "        ids.append(structure.id)\n",
    "        target = np.load(structure.path.parent.joinpath(structure.path.name.split(\".\")[0] + \"-full-patches-with-vertex-pos.npy\"))\n",
    "        vecs.append(structural_high_dimension_space_l2(representative_patches, target))\n",
    "        if structure.id in ['P77335', 'Q9REB3', 'Q8Z727','Q93RR6']:\n",
    "            swiss.append('Swiss-prot')\n",
    "        else:\n",
    "            swiss.append('Non Swiss-prot')\n",
    "tsne = TSNE()\n",
    "pca = PCA()\n",
    "print(seq_ids)\n",
    "ids = np.array(ids)\n",
    "embedding = pca.fit_transform(np.array(vecs))\n",
    "df['embedding0'] = embedding[:,0] \n",
    "df['embedding1']=embedding[:,1]\n",
    "#print(df)\n",
    "#print(df['embedding0'])x='Name' ,y='Similarity'\n",
    "fig=plt.scatter(df, x='embedding0'  , y='embedding1', labels=['Similarity'], title=\"PCA of L2 Distance of Vertex Features from cluster_P59632.\", color='Similarity',color_continuous_scale='rainbow')\n",
    "\n",
    "fig.show()\n",
    "fig.write_image('/home/felix/cluster_P59632_pca.png')"
   ],
   "metadata": {
    "collapsed": false,
    "ExecuteTime": {
     "end_time": "2024-09-18T18:16:40.475022Z",
     "start_time": "2024-09-18T18:16:40.259009Z"
    }
   },
   "id": "26fb6470b5beee8f",
   "execution_count": 35
  }
 ],
 "metadata": {
  "kernelspec": {
   "display_name": "Python 3",
   "language": "python",
   "name": "python3"
  },
  "language_info": {
   "codemirror_mode": {
    "name": "ipython",
    "version": 2
   },
   "file_extension": ".py",
   "mimetype": "text/x-python",
   "name": "python",
   "nbconvert_exporter": "python",
   "pygments_lexer": "ipython2",
   "version": "2.7.6"
  }
 },
 "nbformat": 4,
 "nbformat_minor": 5
}
