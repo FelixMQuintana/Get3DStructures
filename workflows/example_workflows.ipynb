{
 "cells": [
  {
   "cell_type": "markdown",
   "source": [
    "Workflow of Calculating Surface"
   ],
   "metadata": {
    "collapsed": false
   },
   "id": "cf17fc379d938783"
  },
  {
   "cell_type": "code",
   "outputs": [],
   "source": [
    "from Commands.calculate.calculate import CalculateSurfaceOfInterest\n",
    "from pathlib import Path\n"
   ],
   "metadata": {
    "collapsed": true
   },
   "id": "initial_id",
   "execution_count": 0
  },
  {
   "cell_type": "code",
   "outputs": [],
   "source": [
    "specified_path = \"\"\n",
    "\n",
    "CalculateSurfaceOfInterest(Path(''))"
   ],
   "metadata": {
    "collapsed": false,
    "ExecuteTime": {
     "end_time": "2024-09-03T01:18:51.025007Z",
     "start_time": "2024-09-03T01:18:51.022878Z"
    }
   },
   "id": "8846dee41436e879",
   "execution_count": 2
  },
  {
   "cell_type": "code",
   "outputs": [],
   "source": [
    "import os \n",
    "from pathlib import Path\n",
    "count=0\n",
    "for file in os.listdir(Path('/media/felix/ShortTerm/clusters_with_sites')):\n",
    "    count+=1\n",
    "    os.system('mv /media/felix/ShortTerm/clusters_with_sites/'+file + \" /media/felix/ShortTerm/clusters_with_sites/\"+str(count))\n",
    "\n"
   ],
   "metadata": {
    "collapsed": false,
    "ExecuteTime": {
     "end_time": "2024-09-06T15:29:13.429997Z",
     "start_time": "2024-09-06T15:29:13.039507Z"
    }
   },
   "id": "8599e9ffc18e4f09",
   "execution_count": 9
  },
  {
   "cell_type": "code",
   "outputs": [],
   "source": [],
   "metadata": {
    "collapsed": false
   },
   "id": "2dfaa45677080821"
  }
 ],
 "metadata": {
  "kernelspec": {
   "display_name": "Python 3",
   "language": "python",
   "name": "python3"
  },
  "language_info": {
   "codemirror_mode": {
    "name": "ipython",
    "version": 2
   },
   "file_extension": ".py",
   "mimetype": "text/x-python",
   "name": "python",
   "nbconvert_exporter": "python",
   "pygments_lexer": "ipython2",
   "version": "2.7.6"
  }
 },
 "nbformat": 4,
 "nbformat_minor": 5
}
