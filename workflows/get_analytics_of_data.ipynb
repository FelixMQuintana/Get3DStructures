{
 "cells": [
  {
   "cell_type": "markdown",
   "source": [
    "This workflow is meant to display the statistics on what clusters I have and with what amount of data."
   ],
   "metadata": {
    "collapsed": false
   },
   "id": "38aaf16cb1c38b57"
  },
  {
   "cell_type": "code",
   "execution_count": 1,
   "id": "initial_id",
   "metadata": {
    "collapsed": true,
    "ExecuteTime": {
     "end_time": "2024-09-15T19:47:24.796460Z",
     "start_time": "2024-09-15T19:47:22.808761Z"
    }
   },
   "outputs": [],
   "source": [
    "import os\n",
    "from dataStructure.collections import Collection, UniProtAcessionFetcher,UniProtFastaFetcher, AnalyzeCollection\n",
    "from lib.func import Annotations\n",
    "from pathlib import Path"
   ]
  },
  {
   "cell_type": "code",
   "outputs": [],
   "source": [
    "total_dataset_size = []\n",
    "funsoc_counts = []\n",
    "names = []\n",
    "for directory in  os.listdir('/media/felix/ShortTerm/experemental_verified_funsocs/clusters_v2/clusters_with_sites'):\n",
    "\n",
    "    my_collection = Collection(Path(str(os.path.join('/media/felix/ShortTerm/experemental_verified_funsocs/clusters_v2/clusters_with_sites', directory))),UniProtAcessionFetcher(), UniProtFastaFetcher())\n",
    "    for key in my_collection.protein_structure_results.keys():\n",
    "        my_collection.protein_structure_results[key].add_metric(Annotations)\n",
    "    my_collection.remove_redundant_proteins()\n",
    "    if len(my_collection.protein_structure_results.values()) < 2:\n",
    "        continue\n",
    "    if len(my_collection.protein_structure_results.values()) == AnalyzeCollection.get_counts_of_annotation(my_collection,'FunSoC'):\n",
    "        continue\n",
    "    \n",
    "    funsoc_counts.append(AnalyzeCollection.get_counts_of_annotation(my_collection,'FunSoC'))\n",
    "    total_dataset_size.append(len(my_collection.protein_structure_results.values()))\n",
    "    names.append(directory)\n",
    "    os.mkdir(Path('/media/felix/ShortTerm/uniref90_clusters_with_binding_site/').joinpath(directory))\n",
    "    my_collection.write_collection_to_db(Path('/media/felix/ShortTerm/uniref90_clusters_with_binding_site/').joinpath(directory))\n",
    "#my_collection = Collection(Path('/media/felix/ShortTerm/clusters_with_sites/138/'), UniProtAcessionFetcher(),UniProtFastaFetcher() )\n"
   ],
   "metadata": {
    "collapsed": false,
    "ExecuteTime": {
     "end_time": "2024-09-15T19:48:03.197385Z",
     "start_time": "2024-09-15T19:47:32.441036Z"
    }
   },
   "id": "81e43f76a4bb8873",
   "execution_count": 3
  },
  {
   "cell_type": "code",
   "outputs": [
    {
     "data": {
      "application/vnd.plotly.v1+json": {
       "data": [
        {
         "name": "FunSoC Hits",
         "x": [
          "cluster_P01501",
          "cluster_A4GCL7",
          "cluster_Q0P7J4",
          "cluster_P17387",
          "cluster_Q7WFT9",
          "cluster_P59594",
          "cluster_P03186",
          "cluster_P04324",
          "cluster_P10952",
          "cluster_P14756",
          "cluster_P04610",
          "cluster_P03230",
          "cluster_P0DTC1",
          "cluster_Q45894",
          "cluster_P03217",
          "cluster_P08026",
          "cluster_P0C0J1",
          "cluster_Q7BCK4",
          "cluster_Q7BSW5",
          "cluster_P0DTD1",
          "cluster_Q9QBY1",
          "cluster_D0NBV3",
          "cluster_Q1A242",
          "cluster_P0DTC2",
          "cluster_P03211",
          "cluster_Q8ZR06",
          "cluster_P00588",
          "cluster_P04608",
          "cluster_P0C2E9",
          "cluster_Q06241",
          "cluster_Q45340",
          "cluster_Q47692",
          "cluster_P09992",
          "cluster_Q2FZL3",
          "cluster_P03206",
          "cluster_P59632",
          "cluster_P20867",
          "cluster_Q8FDW4",
          "cluster_Q05320",
          "cluster_P0DTC9",
          "cluster_P18094",
          "cluster_P0DPI0",
          "cluster_P09385",
          "cluster_P06935",
          "cluster_P13699",
          "cluster_P09545",
          "cluster_P18177",
          "cluster_P68261",
          "cluster_O68900",
          "cluster_P01136",
          "cluster_Q7BS42",
          "cluster_P06821",
          "cluster_Q7WD07",
          "cluster_Q9KS12",
          "cluster_O52623",
          "cluster_P18378",
          "cluster_P15879",
          "cluster_Q6LAD6",
          "cluster_P03452",
          "cluster_P69697",
          "cluster_P0C6X7"
         ],
         "y": [
          1,
          1,
          1,
          1,
          1,
          3,
          1,
          2,
          1,
          2,
          1,
          1,
          1,
          1,
          1,
          2,
          2,
          1,
          2,
          1,
          1,
          1,
          1,
          1,
          1,
          4,
          2,
          1,
          1,
          1,
          1,
          2,
          1,
          1,
          1,
          1,
          1,
          1,
          1,
          1,
          1,
          2,
          1,
          2,
          1,
          1,
          1,
          1,
          1,
          1,
          2,
          1,
          1,
          1,
          6,
          1,
          1,
          1,
          1,
          1,
          2
         ],
         "type": "bar"
        },
        {
         "name": "Total Unique Proteins",
         "x": [
          "cluster_P01501",
          "cluster_A4GCL7",
          "cluster_Q0P7J4",
          "cluster_P17387",
          "cluster_Q7WFT9",
          "cluster_P59594",
          "cluster_P03186",
          "cluster_P04324",
          "cluster_P10952",
          "cluster_P14756",
          "cluster_P04610",
          "cluster_P03230",
          "cluster_P0DTC1",
          "cluster_Q45894",
          "cluster_P03217",
          "cluster_P08026",
          "cluster_P0C0J1",
          "cluster_Q7BCK4",
          "cluster_Q7BSW5",
          "cluster_P0DTD1",
          "cluster_Q9QBY1",
          "cluster_D0NBV3",
          "cluster_Q1A242",
          "cluster_P0DTC2",
          "cluster_P03211",
          "cluster_Q8ZR06",
          "cluster_P00588",
          "cluster_P04608",
          "cluster_P0C2E9",
          "cluster_Q06241",
          "cluster_Q45340",
          "cluster_Q47692",
          "cluster_P09992",
          "cluster_Q2FZL3",
          "cluster_P03206",
          "cluster_P59632",
          "cluster_P20867",
          "cluster_Q8FDW4",
          "cluster_Q05320",
          "cluster_P0DTC9",
          "cluster_P18094",
          "cluster_P0DPI0",
          "cluster_P09385",
          "cluster_P06935",
          "cluster_P13699",
          "cluster_P09545",
          "cluster_P18177",
          "cluster_P68261",
          "cluster_O68900",
          "cluster_P01136",
          "cluster_Q7BS42",
          "cluster_P06821",
          "cluster_Q7WD07",
          "cluster_Q9KS12",
          "cluster_O52623",
          "cluster_P18378",
          "cluster_P15879",
          "cluster_Q6LAD6",
          "cluster_P03452",
          "cluster_P69697",
          "cluster_P0C6X7"
         ],
         "y": [
          3,
          3,
          6,
          3,
          3,
          30,
          2,
          3,
          4,
          8,
          2,
          2,
          3,
          2,
          2,
          38,
          6,
          4,
          12,
          3,
          2,
          2,
          2,
          3,
          2,
          76,
          6,
          2,
          3,
          11,
          4,
          4,
          3,
          5,
          2,
          31,
          2,
          2,
          3,
          5,
          2,
          3,
          61,
          3,
          3,
          4,
          3,
          19,
          2,
          2,
          8,
          11,
          4,
          3,
          49,
          2,
          4,
          2,
          9,
          3,
          14
         ],
         "type": "bar"
        }
       ],
       "layout": {
        "template": {
         "data": {
          "histogram2dcontour": [
           {
            "type": "histogram2dcontour",
            "colorbar": {
             "outlinewidth": 0,
             "ticks": ""
            },
            "colorscale": [
             [
              0.0,
              "#0d0887"
             ],
             [
              0.1111111111111111,
              "#46039f"
             ],
             [
              0.2222222222222222,
              "#7201a8"
             ],
             [
              0.3333333333333333,
              "#9c179e"
             ],
             [
              0.4444444444444444,
              "#bd3786"
             ],
             [
              0.5555555555555556,
              "#d8576b"
             ],
             [
              0.6666666666666666,
              "#ed7953"
             ],
             [
              0.7777777777777778,
              "#fb9f3a"
             ],
             [
              0.8888888888888888,
              "#fdca26"
             ],
             [
              1.0,
              "#f0f921"
             ]
            ]
           }
          ],
          "choropleth": [
           {
            "type": "choropleth",
            "colorbar": {
             "outlinewidth": 0,
             "ticks": ""
            }
           }
          ],
          "histogram2d": [
           {
            "type": "histogram2d",
            "colorbar": {
             "outlinewidth": 0,
             "ticks": ""
            },
            "colorscale": [
             [
              0.0,
              "#0d0887"
             ],
             [
              0.1111111111111111,
              "#46039f"
             ],
             [
              0.2222222222222222,
              "#7201a8"
             ],
             [
              0.3333333333333333,
              "#9c179e"
             ],
             [
              0.4444444444444444,
              "#bd3786"
             ],
             [
              0.5555555555555556,
              "#d8576b"
             ],
             [
              0.6666666666666666,
              "#ed7953"
             ],
             [
              0.7777777777777778,
              "#fb9f3a"
             ],
             [
              0.8888888888888888,
              "#fdca26"
             ],
             [
              1.0,
              "#f0f921"
             ]
            ]
           }
          ],
          "heatmap": [
           {
            "type": "heatmap",
            "colorbar": {
             "outlinewidth": 0,
             "ticks": ""
            },
            "colorscale": [
             [
              0.0,
              "#0d0887"
             ],
             [
              0.1111111111111111,
              "#46039f"
             ],
             [
              0.2222222222222222,
              "#7201a8"
             ],
             [
              0.3333333333333333,
              "#9c179e"
             ],
             [
              0.4444444444444444,
              "#bd3786"
             ],
             [
              0.5555555555555556,
              "#d8576b"
             ],
             [
              0.6666666666666666,
              "#ed7953"
             ],
             [
              0.7777777777777778,
              "#fb9f3a"
             ],
             [
              0.8888888888888888,
              "#fdca26"
             ],
             [
              1.0,
              "#f0f921"
             ]
            ]
           }
          ],
          "heatmapgl": [
           {
            "type": "heatmapgl",
            "colorbar": {
             "outlinewidth": 0,
             "ticks": ""
            },
            "colorscale": [
             [
              0.0,
              "#0d0887"
             ],
             [
              0.1111111111111111,
              "#46039f"
             ],
             [
              0.2222222222222222,
              "#7201a8"
             ],
             [
              0.3333333333333333,
              "#9c179e"
             ],
             [
              0.4444444444444444,
              "#bd3786"
             ],
             [
              0.5555555555555556,
              "#d8576b"
             ],
             [
              0.6666666666666666,
              "#ed7953"
             ],
             [
              0.7777777777777778,
              "#fb9f3a"
             ],
             [
              0.8888888888888888,
              "#fdca26"
             ],
             [
              1.0,
              "#f0f921"
             ]
            ]
           }
          ],
          "contourcarpet": [
           {
            "type": "contourcarpet",
            "colorbar": {
             "outlinewidth": 0,
             "ticks": ""
            }
           }
          ],
          "contour": [
           {
            "type": "contour",
            "colorbar": {
             "outlinewidth": 0,
             "ticks": ""
            },
            "colorscale": [
             [
              0.0,
              "#0d0887"
             ],
             [
              0.1111111111111111,
              "#46039f"
             ],
             [
              0.2222222222222222,
              "#7201a8"
             ],
             [
              0.3333333333333333,
              "#9c179e"
             ],
             [
              0.4444444444444444,
              "#bd3786"
             ],
             [
              0.5555555555555556,
              "#d8576b"
             ],
             [
              0.6666666666666666,
              "#ed7953"
             ],
             [
              0.7777777777777778,
              "#fb9f3a"
             ],
             [
              0.8888888888888888,
              "#fdca26"
             ],
             [
              1.0,
              "#f0f921"
             ]
            ]
           }
          ],
          "surface": [
           {
            "type": "surface",
            "colorbar": {
             "outlinewidth": 0,
             "ticks": ""
            },
            "colorscale": [
             [
              0.0,
              "#0d0887"
             ],
             [
              0.1111111111111111,
              "#46039f"
             ],
             [
              0.2222222222222222,
              "#7201a8"
             ],
             [
              0.3333333333333333,
              "#9c179e"
             ],
             [
              0.4444444444444444,
              "#bd3786"
             ],
             [
              0.5555555555555556,
              "#d8576b"
             ],
             [
              0.6666666666666666,
              "#ed7953"
             ],
             [
              0.7777777777777778,
              "#fb9f3a"
             ],
             [
              0.8888888888888888,
              "#fdca26"
             ],
             [
              1.0,
              "#f0f921"
             ]
            ]
           }
          ],
          "mesh3d": [
           {
            "type": "mesh3d",
            "colorbar": {
             "outlinewidth": 0,
             "ticks": ""
            }
           }
          ],
          "scatter": [
           {
            "fillpattern": {
             "fillmode": "overlay",
             "size": 10,
             "solidity": 0.2
            },
            "type": "scatter"
           }
          ],
          "parcoords": [
           {
            "type": "parcoords",
            "line": {
             "colorbar": {
              "outlinewidth": 0,
              "ticks": ""
             }
            }
           }
          ],
          "scatterpolargl": [
           {
            "type": "scatterpolargl",
            "marker": {
             "colorbar": {
              "outlinewidth": 0,
              "ticks": ""
             }
            }
           }
          ],
          "bar": [
           {
            "error_x": {
             "color": "#2a3f5f"
            },
            "error_y": {
             "color": "#2a3f5f"
            },
            "marker": {
             "line": {
              "color": "#E5ECF6",
              "width": 0.5
             },
             "pattern": {
              "fillmode": "overlay",
              "size": 10,
              "solidity": 0.2
             }
            },
            "type": "bar"
           }
          ],
          "scattergeo": [
           {
            "type": "scattergeo",
            "marker": {
             "colorbar": {
              "outlinewidth": 0,
              "ticks": ""
             }
            }
           }
          ],
          "scatterpolar": [
           {
            "type": "scatterpolar",
            "marker": {
             "colorbar": {
              "outlinewidth": 0,
              "ticks": ""
             }
            }
           }
          ],
          "histogram": [
           {
            "marker": {
             "pattern": {
              "fillmode": "overlay",
              "size": 10,
              "solidity": 0.2
             }
            },
            "type": "histogram"
           }
          ],
          "scattergl": [
           {
            "type": "scattergl",
            "marker": {
             "colorbar": {
              "outlinewidth": 0,
              "ticks": ""
             }
            }
           }
          ],
          "scatter3d": [
           {
            "type": "scatter3d",
            "line": {
             "colorbar": {
              "outlinewidth": 0,
              "ticks": ""
             }
            },
            "marker": {
             "colorbar": {
              "outlinewidth": 0,
              "ticks": ""
             }
            }
           }
          ],
          "scattermapbox": [
           {
            "type": "scattermapbox",
            "marker": {
             "colorbar": {
              "outlinewidth": 0,
              "ticks": ""
             }
            }
           }
          ],
          "scatterternary": [
           {
            "type": "scatterternary",
            "marker": {
             "colorbar": {
              "outlinewidth": 0,
              "ticks": ""
             }
            }
           }
          ],
          "scattercarpet": [
           {
            "type": "scattercarpet",
            "marker": {
             "colorbar": {
              "outlinewidth": 0,
              "ticks": ""
             }
            }
           }
          ],
          "carpet": [
           {
            "aaxis": {
             "endlinecolor": "#2a3f5f",
             "gridcolor": "white",
             "linecolor": "white",
             "minorgridcolor": "white",
             "startlinecolor": "#2a3f5f"
            },
            "baxis": {
             "endlinecolor": "#2a3f5f",
             "gridcolor": "white",
             "linecolor": "white",
             "minorgridcolor": "white",
             "startlinecolor": "#2a3f5f"
            },
            "type": "carpet"
           }
          ],
          "table": [
           {
            "cells": {
             "fill": {
              "color": "#EBF0F8"
             },
             "line": {
              "color": "white"
             }
            },
            "header": {
             "fill": {
              "color": "#C8D4E3"
             },
             "line": {
              "color": "white"
             }
            },
            "type": "table"
           }
          ],
          "barpolar": [
           {
            "marker": {
             "line": {
              "color": "#E5ECF6",
              "width": 0.5
             },
             "pattern": {
              "fillmode": "overlay",
              "size": 10,
              "solidity": 0.2
             }
            },
            "type": "barpolar"
           }
          ],
          "pie": [
           {
            "automargin": true,
            "type": "pie"
           }
          ]
         },
         "layout": {
          "autotypenumbers": "strict",
          "colorway": [
           "#636efa",
           "#EF553B",
           "#00cc96",
           "#ab63fa",
           "#FFA15A",
           "#19d3f3",
           "#FF6692",
           "#B6E880",
           "#FF97FF",
           "#FECB52"
          ],
          "font": {
           "color": "#2a3f5f"
          },
          "hovermode": "closest",
          "hoverlabel": {
           "align": "left"
          },
          "paper_bgcolor": "white",
          "plot_bgcolor": "#E5ECF6",
          "polar": {
           "bgcolor": "#E5ECF6",
           "angularaxis": {
            "gridcolor": "white",
            "linecolor": "white",
            "ticks": ""
           },
           "radialaxis": {
            "gridcolor": "white",
            "linecolor": "white",
            "ticks": ""
           }
          },
          "ternary": {
           "bgcolor": "#E5ECF6",
           "aaxis": {
            "gridcolor": "white",
            "linecolor": "white",
            "ticks": ""
           },
           "baxis": {
            "gridcolor": "white",
            "linecolor": "white",
            "ticks": ""
           },
           "caxis": {
            "gridcolor": "white",
            "linecolor": "white",
            "ticks": ""
           }
          },
          "coloraxis": {
           "colorbar": {
            "outlinewidth": 0,
            "ticks": ""
           }
          },
          "colorscale": {
           "sequential": [
            [
             0.0,
             "#0d0887"
            ],
            [
             0.1111111111111111,
             "#46039f"
            ],
            [
             0.2222222222222222,
             "#7201a8"
            ],
            [
             0.3333333333333333,
             "#9c179e"
            ],
            [
             0.4444444444444444,
             "#bd3786"
            ],
            [
             0.5555555555555556,
             "#d8576b"
            ],
            [
             0.6666666666666666,
             "#ed7953"
            ],
            [
             0.7777777777777778,
             "#fb9f3a"
            ],
            [
             0.8888888888888888,
             "#fdca26"
            ],
            [
             1.0,
             "#f0f921"
            ]
           ],
           "sequentialminus": [
            [
             0.0,
             "#0d0887"
            ],
            [
             0.1111111111111111,
             "#46039f"
            ],
            [
             0.2222222222222222,
             "#7201a8"
            ],
            [
             0.3333333333333333,
             "#9c179e"
            ],
            [
             0.4444444444444444,
             "#bd3786"
            ],
            [
             0.5555555555555556,
             "#d8576b"
            ],
            [
             0.6666666666666666,
             "#ed7953"
            ],
            [
             0.7777777777777778,
             "#fb9f3a"
            ],
            [
             0.8888888888888888,
             "#fdca26"
            ],
            [
             1.0,
             "#f0f921"
            ]
           ],
           "diverging": [
            [
             0,
             "#8e0152"
            ],
            [
             0.1,
             "#c51b7d"
            ],
            [
             0.2,
             "#de77ae"
            ],
            [
             0.3,
             "#f1b6da"
            ],
            [
             0.4,
             "#fde0ef"
            ],
            [
             0.5,
             "#f7f7f7"
            ],
            [
             0.6,
             "#e6f5d0"
            ],
            [
             0.7,
             "#b8e186"
            ],
            [
             0.8,
             "#7fbc41"
            ],
            [
             0.9,
             "#4d9221"
            ],
            [
             1,
             "#276419"
            ]
           ]
          },
          "xaxis": {
           "gridcolor": "white",
           "linecolor": "white",
           "ticks": "",
           "title": {
            "standoff": 15
           },
           "zerolinecolor": "white",
           "automargin": true,
           "zerolinewidth": 2
          },
          "yaxis": {
           "gridcolor": "white",
           "linecolor": "white",
           "ticks": "",
           "title": {
            "standoff": 15
           },
           "zerolinecolor": "white",
           "automargin": true,
           "zerolinewidth": 2
          },
          "scene": {
           "xaxis": {
            "backgroundcolor": "#E5ECF6",
            "gridcolor": "white",
            "linecolor": "white",
            "showbackground": true,
            "ticks": "",
            "zerolinecolor": "white",
            "gridwidth": 2
           },
           "yaxis": {
            "backgroundcolor": "#E5ECF6",
            "gridcolor": "white",
            "linecolor": "white",
            "showbackground": true,
            "ticks": "",
            "zerolinecolor": "white",
            "gridwidth": 2
           },
           "zaxis": {
            "backgroundcolor": "#E5ECF6",
            "gridcolor": "white",
            "linecolor": "white",
            "showbackground": true,
            "ticks": "",
            "zerolinecolor": "white",
            "gridwidth": 2
           }
          },
          "shapedefaults": {
           "line": {
            "color": "#2a3f5f"
           }
          },
          "annotationdefaults": {
           "arrowcolor": "#2a3f5f",
           "arrowhead": 0,
           "arrowwidth": 1
          },
          "geo": {
           "bgcolor": "white",
           "landcolor": "#E5ECF6",
           "subunitcolor": "white",
           "showland": true,
           "showlakes": true,
           "lakecolor": "white"
          },
          "title": {
           "x": 0.05
          },
          "mapbox": {
           "style": "light"
          }
         }
        },
        "title": {
         "text": "Uniref90 Clusters FunSoC Presence and Total Number Of Unique Sequences"
        },
        "xaxis": {
         "title": {
          "text": "Cluster Number"
         }
        },
        "yaxis": {
         "title": {
          "text": "Count"
         }
        }
       },
       "config": {
        "plotlyServerURL": "https://plot.ly"
       }
      },
      "text/html": "<div>                            <div id=\"58ebb7b8-b4b0-41e1-8a38-9ba8fe803ce5\" class=\"plotly-graph-div\" style=\"height:525px; width:100%;\"></div>            <script type=\"text/javascript\">                require([\"plotly\"], function(Plotly) {                    window.PLOTLYENV=window.PLOTLYENV || {};                                    if (document.getElementById(\"58ebb7b8-b4b0-41e1-8a38-9ba8fe803ce5\")) {                    Plotly.newPlot(                        \"58ebb7b8-b4b0-41e1-8a38-9ba8fe803ce5\",                        [{\"name\":\"FunSoC Hits\",\"x\":[\"cluster_P01501\",\"cluster_A4GCL7\",\"cluster_Q0P7J4\",\"cluster_P17387\",\"cluster_Q7WFT9\",\"cluster_P59594\",\"cluster_P03186\",\"cluster_P04324\",\"cluster_P10952\",\"cluster_P14756\",\"cluster_P04610\",\"cluster_P03230\",\"cluster_P0DTC1\",\"cluster_Q45894\",\"cluster_P03217\",\"cluster_P08026\",\"cluster_P0C0J1\",\"cluster_Q7BCK4\",\"cluster_Q7BSW5\",\"cluster_P0DTD1\",\"cluster_Q9QBY1\",\"cluster_D0NBV3\",\"cluster_Q1A242\",\"cluster_P0DTC2\",\"cluster_P03211\",\"cluster_Q8ZR06\",\"cluster_P00588\",\"cluster_P04608\",\"cluster_P0C2E9\",\"cluster_Q06241\",\"cluster_Q45340\",\"cluster_Q47692\",\"cluster_P09992\",\"cluster_Q2FZL3\",\"cluster_P03206\",\"cluster_P59632\",\"cluster_P20867\",\"cluster_Q8FDW4\",\"cluster_Q05320\",\"cluster_P0DTC9\",\"cluster_P18094\",\"cluster_P0DPI0\",\"cluster_P09385\",\"cluster_P06935\",\"cluster_P13699\",\"cluster_P09545\",\"cluster_P18177\",\"cluster_P68261\",\"cluster_O68900\",\"cluster_P01136\",\"cluster_Q7BS42\",\"cluster_P06821\",\"cluster_Q7WD07\",\"cluster_Q9KS12\",\"cluster_O52623\",\"cluster_P18378\",\"cluster_P15879\",\"cluster_Q6LAD6\",\"cluster_P03452\",\"cluster_P69697\",\"cluster_P0C6X7\"],\"y\":[1,1,1,1,1,3,1,2,1,2,1,1,1,1,1,2,2,1,2,1,1,1,1,1,1,4,2,1,1,1,1,2,1,1,1,1,1,1,1,1,1,2,1,2,1,1,1,1,1,1,2,1,1,1,6,1,1,1,1,1,2],\"type\":\"bar\"},{\"name\":\"Total Unique Proteins\",\"x\":[\"cluster_P01501\",\"cluster_A4GCL7\",\"cluster_Q0P7J4\",\"cluster_P17387\",\"cluster_Q7WFT9\",\"cluster_P59594\",\"cluster_P03186\",\"cluster_P04324\",\"cluster_P10952\",\"cluster_P14756\",\"cluster_P04610\",\"cluster_P03230\",\"cluster_P0DTC1\",\"cluster_Q45894\",\"cluster_P03217\",\"cluster_P08026\",\"cluster_P0C0J1\",\"cluster_Q7BCK4\",\"cluster_Q7BSW5\",\"cluster_P0DTD1\",\"cluster_Q9QBY1\",\"cluster_D0NBV3\",\"cluster_Q1A242\",\"cluster_P0DTC2\",\"cluster_P03211\",\"cluster_Q8ZR06\",\"cluster_P00588\",\"cluster_P04608\",\"cluster_P0C2E9\",\"cluster_Q06241\",\"cluster_Q45340\",\"cluster_Q47692\",\"cluster_P09992\",\"cluster_Q2FZL3\",\"cluster_P03206\",\"cluster_P59632\",\"cluster_P20867\",\"cluster_Q8FDW4\",\"cluster_Q05320\",\"cluster_P0DTC9\",\"cluster_P18094\",\"cluster_P0DPI0\",\"cluster_P09385\",\"cluster_P06935\",\"cluster_P13699\",\"cluster_P09545\",\"cluster_P18177\",\"cluster_P68261\",\"cluster_O68900\",\"cluster_P01136\",\"cluster_Q7BS42\",\"cluster_P06821\",\"cluster_Q7WD07\",\"cluster_Q9KS12\",\"cluster_O52623\",\"cluster_P18378\",\"cluster_P15879\",\"cluster_Q6LAD6\",\"cluster_P03452\",\"cluster_P69697\",\"cluster_P0C6X7\"],\"y\":[3,3,6,3,3,30,2,3,4,8,2,2,3,2,2,38,6,4,12,3,2,2,2,3,2,76,6,2,3,11,4,4,3,5,2,31,2,2,3,5,2,3,61,3,3,4,3,19,2,2,8,11,4,3,49,2,4,2,9,3,14],\"type\":\"bar\"}],                        {\"template\":{\"data\":{\"histogram2dcontour\":[{\"type\":\"histogram2dcontour\",\"colorbar\":{\"outlinewidth\":0,\"ticks\":\"\"},\"colorscale\":[[0.0,\"#0d0887\"],[0.1111111111111111,\"#46039f\"],[0.2222222222222222,\"#7201a8\"],[0.3333333333333333,\"#9c179e\"],[0.4444444444444444,\"#bd3786\"],[0.5555555555555556,\"#d8576b\"],[0.6666666666666666,\"#ed7953\"],[0.7777777777777778,\"#fb9f3a\"],[0.8888888888888888,\"#fdca26\"],[1.0,\"#f0f921\"]]}],\"choropleth\":[{\"type\":\"choropleth\",\"colorbar\":{\"outlinewidth\":0,\"ticks\":\"\"}}],\"histogram2d\":[{\"type\":\"histogram2d\",\"colorbar\":{\"outlinewidth\":0,\"ticks\":\"\"},\"colorscale\":[[0.0,\"#0d0887\"],[0.1111111111111111,\"#46039f\"],[0.2222222222222222,\"#7201a8\"],[0.3333333333333333,\"#9c179e\"],[0.4444444444444444,\"#bd3786\"],[0.5555555555555556,\"#d8576b\"],[0.6666666666666666,\"#ed7953\"],[0.7777777777777778,\"#fb9f3a\"],[0.8888888888888888,\"#fdca26\"],[1.0,\"#f0f921\"]]}],\"heatmap\":[{\"type\":\"heatmap\",\"colorbar\":{\"outlinewidth\":0,\"ticks\":\"\"},\"colorscale\":[[0.0,\"#0d0887\"],[0.1111111111111111,\"#46039f\"],[0.2222222222222222,\"#7201a8\"],[0.3333333333333333,\"#9c179e\"],[0.4444444444444444,\"#bd3786\"],[0.5555555555555556,\"#d8576b\"],[0.6666666666666666,\"#ed7953\"],[0.7777777777777778,\"#fb9f3a\"],[0.8888888888888888,\"#fdca26\"],[1.0,\"#f0f921\"]]}],\"heatmapgl\":[{\"type\":\"heatmapgl\",\"colorbar\":{\"outlinewidth\":0,\"ticks\":\"\"},\"colorscale\":[[0.0,\"#0d0887\"],[0.1111111111111111,\"#46039f\"],[0.2222222222222222,\"#7201a8\"],[0.3333333333333333,\"#9c179e\"],[0.4444444444444444,\"#bd3786\"],[0.5555555555555556,\"#d8576b\"],[0.6666666666666666,\"#ed7953\"],[0.7777777777777778,\"#fb9f3a\"],[0.8888888888888888,\"#fdca26\"],[1.0,\"#f0f921\"]]}],\"contourcarpet\":[{\"type\":\"contourcarpet\",\"colorbar\":{\"outlinewidth\":0,\"ticks\":\"\"}}],\"contour\":[{\"type\":\"contour\",\"colorbar\":{\"outlinewidth\":0,\"ticks\":\"\"},\"colorscale\":[[0.0,\"#0d0887\"],[0.1111111111111111,\"#46039f\"],[0.2222222222222222,\"#7201a8\"],[0.3333333333333333,\"#9c179e\"],[0.4444444444444444,\"#bd3786\"],[0.5555555555555556,\"#d8576b\"],[0.6666666666666666,\"#ed7953\"],[0.7777777777777778,\"#fb9f3a\"],[0.8888888888888888,\"#fdca26\"],[1.0,\"#f0f921\"]]}],\"surface\":[{\"type\":\"surface\",\"colorbar\":{\"outlinewidth\":0,\"ticks\":\"\"},\"colorscale\":[[0.0,\"#0d0887\"],[0.1111111111111111,\"#46039f\"],[0.2222222222222222,\"#7201a8\"],[0.3333333333333333,\"#9c179e\"],[0.4444444444444444,\"#bd3786\"],[0.5555555555555556,\"#d8576b\"],[0.6666666666666666,\"#ed7953\"],[0.7777777777777778,\"#fb9f3a\"],[0.8888888888888888,\"#fdca26\"],[1.0,\"#f0f921\"]]}],\"mesh3d\":[{\"type\":\"mesh3d\",\"colorbar\":{\"outlinewidth\":0,\"ticks\":\"\"}}],\"scatter\":[{\"fillpattern\":{\"fillmode\":\"overlay\",\"size\":10,\"solidity\":0.2},\"type\":\"scatter\"}],\"parcoords\":[{\"type\":\"parcoords\",\"line\":{\"colorbar\":{\"outlinewidth\":0,\"ticks\":\"\"}}}],\"scatterpolargl\":[{\"type\":\"scatterpolargl\",\"marker\":{\"colorbar\":{\"outlinewidth\":0,\"ticks\":\"\"}}}],\"bar\":[{\"error_x\":{\"color\":\"#2a3f5f\"},\"error_y\":{\"color\":\"#2a3f5f\"},\"marker\":{\"line\":{\"color\":\"#E5ECF6\",\"width\":0.5},\"pattern\":{\"fillmode\":\"overlay\",\"size\":10,\"solidity\":0.2}},\"type\":\"bar\"}],\"scattergeo\":[{\"type\":\"scattergeo\",\"marker\":{\"colorbar\":{\"outlinewidth\":0,\"ticks\":\"\"}}}],\"scatterpolar\":[{\"type\":\"scatterpolar\",\"marker\":{\"colorbar\":{\"outlinewidth\":0,\"ticks\":\"\"}}}],\"histogram\":[{\"marker\":{\"pattern\":{\"fillmode\":\"overlay\",\"size\":10,\"solidity\":0.2}},\"type\":\"histogram\"}],\"scattergl\":[{\"type\":\"scattergl\",\"marker\":{\"colorbar\":{\"outlinewidth\":0,\"ticks\":\"\"}}}],\"scatter3d\":[{\"type\":\"scatter3d\",\"line\":{\"colorbar\":{\"outlinewidth\":0,\"ticks\":\"\"}},\"marker\":{\"colorbar\":{\"outlinewidth\":0,\"ticks\":\"\"}}}],\"scattermapbox\":[{\"type\":\"scattermapbox\",\"marker\":{\"colorbar\":{\"outlinewidth\":0,\"ticks\":\"\"}}}],\"scatterternary\":[{\"type\":\"scatterternary\",\"marker\":{\"colorbar\":{\"outlinewidth\":0,\"ticks\":\"\"}}}],\"scattercarpet\":[{\"type\":\"scattercarpet\",\"marker\":{\"colorbar\":{\"outlinewidth\":0,\"ticks\":\"\"}}}],\"carpet\":[{\"aaxis\":{\"endlinecolor\":\"#2a3f5f\",\"gridcolor\":\"white\",\"linecolor\":\"white\",\"minorgridcolor\":\"white\",\"startlinecolor\":\"#2a3f5f\"},\"baxis\":{\"endlinecolor\":\"#2a3f5f\",\"gridcolor\":\"white\",\"linecolor\":\"white\",\"minorgridcolor\":\"white\",\"startlinecolor\":\"#2a3f5f\"},\"type\":\"carpet\"}],\"table\":[{\"cells\":{\"fill\":{\"color\":\"#EBF0F8\"},\"line\":{\"color\":\"white\"}},\"header\":{\"fill\":{\"color\":\"#C8D4E3\"},\"line\":{\"color\":\"white\"}},\"type\":\"table\"}],\"barpolar\":[{\"marker\":{\"line\":{\"color\":\"#E5ECF6\",\"width\":0.5},\"pattern\":{\"fillmode\":\"overlay\",\"size\":10,\"solidity\":0.2}},\"type\":\"barpolar\"}],\"pie\":[{\"automargin\":true,\"type\":\"pie\"}]},\"layout\":{\"autotypenumbers\":\"strict\",\"colorway\":[\"#636efa\",\"#EF553B\",\"#00cc96\",\"#ab63fa\",\"#FFA15A\",\"#19d3f3\",\"#FF6692\",\"#B6E880\",\"#FF97FF\",\"#FECB52\"],\"font\":{\"color\":\"#2a3f5f\"},\"hovermode\":\"closest\",\"hoverlabel\":{\"align\":\"left\"},\"paper_bgcolor\":\"white\",\"plot_bgcolor\":\"#E5ECF6\",\"polar\":{\"bgcolor\":\"#E5ECF6\",\"angularaxis\":{\"gridcolor\":\"white\",\"linecolor\":\"white\",\"ticks\":\"\"},\"radialaxis\":{\"gridcolor\":\"white\",\"linecolor\":\"white\",\"ticks\":\"\"}},\"ternary\":{\"bgcolor\":\"#E5ECF6\",\"aaxis\":{\"gridcolor\":\"white\",\"linecolor\":\"white\",\"ticks\":\"\"},\"baxis\":{\"gridcolor\":\"white\",\"linecolor\":\"white\",\"ticks\":\"\"},\"caxis\":{\"gridcolor\":\"white\",\"linecolor\":\"white\",\"ticks\":\"\"}},\"coloraxis\":{\"colorbar\":{\"outlinewidth\":0,\"ticks\":\"\"}},\"colorscale\":{\"sequential\":[[0.0,\"#0d0887\"],[0.1111111111111111,\"#46039f\"],[0.2222222222222222,\"#7201a8\"],[0.3333333333333333,\"#9c179e\"],[0.4444444444444444,\"#bd3786\"],[0.5555555555555556,\"#d8576b\"],[0.6666666666666666,\"#ed7953\"],[0.7777777777777778,\"#fb9f3a\"],[0.8888888888888888,\"#fdca26\"],[1.0,\"#f0f921\"]],\"sequentialminus\":[[0.0,\"#0d0887\"],[0.1111111111111111,\"#46039f\"],[0.2222222222222222,\"#7201a8\"],[0.3333333333333333,\"#9c179e\"],[0.4444444444444444,\"#bd3786\"],[0.5555555555555556,\"#d8576b\"],[0.6666666666666666,\"#ed7953\"],[0.7777777777777778,\"#fb9f3a\"],[0.8888888888888888,\"#fdca26\"],[1.0,\"#f0f921\"]],\"diverging\":[[0,\"#8e0152\"],[0.1,\"#c51b7d\"],[0.2,\"#de77ae\"],[0.3,\"#f1b6da\"],[0.4,\"#fde0ef\"],[0.5,\"#f7f7f7\"],[0.6,\"#e6f5d0\"],[0.7,\"#b8e186\"],[0.8,\"#7fbc41\"],[0.9,\"#4d9221\"],[1,\"#276419\"]]},\"xaxis\":{\"gridcolor\":\"white\",\"linecolor\":\"white\",\"ticks\":\"\",\"title\":{\"standoff\":15},\"zerolinecolor\":\"white\",\"automargin\":true,\"zerolinewidth\":2},\"yaxis\":{\"gridcolor\":\"white\",\"linecolor\":\"white\",\"ticks\":\"\",\"title\":{\"standoff\":15},\"zerolinecolor\":\"white\",\"automargin\":true,\"zerolinewidth\":2},\"scene\":{\"xaxis\":{\"backgroundcolor\":\"#E5ECF6\",\"gridcolor\":\"white\",\"linecolor\":\"white\",\"showbackground\":true,\"ticks\":\"\",\"zerolinecolor\":\"white\",\"gridwidth\":2},\"yaxis\":{\"backgroundcolor\":\"#E5ECF6\",\"gridcolor\":\"white\",\"linecolor\":\"white\",\"showbackground\":true,\"ticks\":\"\",\"zerolinecolor\":\"white\",\"gridwidth\":2},\"zaxis\":{\"backgroundcolor\":\"#E5ECF6\",\"gridcolor\":\"white\",\"linecolor\":\"white\",\"showbackground\":true,\"ticks\":\"\",\"zerolinecolor\":\"white\",\"gridwidth\":2}},\"shapedefaults\":{\"line\":{\"color\":\"#2a3f5f\"}},\"annotationdefaults\":{\"arrowcolor\":\"#2a3f5f\",\"arrowhead\":0,\"arrowwidth\":1},\"geo\":{\"bgcolor\":\"white\",\"landcolor\":\"#E5ECF6\",\"subunitcolor\":\"white\",\"showland\":true,\"showlakes\":true,\"lakecolor\":\"white\"},\"title\":{\"x\":0.05},\"mapbox\":{\"style\":\"light\"}}},\"title\":{\"text\":\"Uniref90 Clusters FunSoC Presence and Total Number Of Unique Sequences\"},\"xaxis\":{\"title\":{\"text\":\"Cluster Number\"}},\"yaxis\":{\"title\":{\"text\":\"Count\"}}},                        {\"responsive\": true}                    ).then(function(){\n                            \nvar gd = document.getElementById('58ebb7b8-b4b0-41e1-8a38-9ba8fe803ce5');\nvar x = new MutationObserver(function (mutations, observer) {{\n        var display = window.getComputedStyle(gd).display;\n        if (!display || display === 'none') {{\n            console.log([gd, 'removed!']);\n            Plotly.purge(gd);\n            observer.disconnect();\n        }}\n}});\n\n// Listen for the removal of the full notebook cells\nvar notebookContainer = gd.closest('#notebook-container');\nif (notebookContainer) {{\n    x.observe(notebookContainer, {childList: true});\n}}\n\n// Listen for the clearing of the current output cell\nvar outputEl = gd.closest('.output');\nif (outputEl) {{\n    x.observe(outputEl, {childList: true});\n}}\n\n                        })                };                });            </script>        </div>"
     },
     "metadata": {},
     "output_type": "display_data"
    }
   ],
   "source": [
    "import plotly.express as px\n",
    "import plotly.graph_objects as go\n",
    "\n",
    "\n",
    "data = {'funsoc_count': funsoc_counts, 'total_unique_hits':total_dataset_size,'cluster_name':names}\n",
    "fig = go.Figure( data =[\n",
    "    go.Bar(x=[i for i in names], y=data['funsoc_count'],name='FunSoC Hits'),\n",
    "    go.Bar(x=[i for i in names], y=data['total_unique_hits'], name='Total Unique Proteins')\n",
    "   ])\n",
    "fig.update_layout(title=\"Uniref90 Clusters FunSoC Presence and Total Number Of Unique Sequences\", xaxis_title='Cluster Number',yaxis_title='Count')\n",
    "\n",
    "fig.show()\n",
    "fig.write_image('/home/felix/Uniref90ClustersWithBindingSitesNonSingletonsAndUmbalancedSet.png')"
   ],
   "metadata": {
    "collapsed": false,
    "ExecuteTime": {
     "end_time": "2024-09-15T19:15:33.280296Z",
     "start_time": "2024-09-15T19:15:32.264895Z"
    }
   },
   "id": "b3e033a7b9d666e3",
   "execution_count": 42
  },
  {
   "cell_type": "markdown",
   "source": [
    "I want to see how many of these are non-singleton. Calculate these metrics"
   ],
   "metadata": {
    "collapsed": false
   },
   "id": "6cf44050ebf36991"
  },
  {
   "cell_type": "code",
   "outputs": [
    {
     "data": {
      "text/plain": "544"
     },
     "execution_count": 37,
     "metadata": {},
     "output_type": "execute_result"
    }
   ],
   "source": [
    "sum(total_dataset_size)"
   ],
   "metadata": {
    "collapsed": false,
    "ExecuteTime": {
     "end_time": "2024-09-15T19:12:46.437292Z",
     "start_time": "2024-09-15T19:12:46.432840Z"
    }
   },
   "id": "ce2265d9c8e0c35c",
   "execution_count": 37
  },
  {
   "cell_type": "code",
   "outputs": [
    {
     "data": {
      "text/plain": "520"
     },
     "execution_count": 43,
     "metadata": {},
     "output_type": "execute_result"
    }
   ],
   "source": [
    "sum(total_dataset_size)"
   ],
   "metadata": {
    "collapsed": false,
    "ExecuteTime": {
     "end_time": "2024-09-15T19:15:43.847979Z",
     "start_time": "2024-09-15T19:15:43.843948Z"
    }
   },
   "id": "17a9acc885ef841",
   "execution_count": 43
  },
  {
   "cell_type": "code",
   "outputs": [],
   "source": [
    "for key in my_collection.protein_structure_results.keys():\n",
    "    my_collection.protein_structure_results[key].add_metric(Annotations)"
   ],
   "metadata": {
    "collapsed": false,
    "ExecuteTime": {
     "end_time": "2024-09-15T17:14:40.309750Z",
     "start_time": "2024-09-15T17:14:39.967725Z"
    }
   },
   "id": "155292b2ba7807c",
   "execution_count": 2
  },
  {
   "cell_type": "code",
   "outputs": [],
   "source": [
    "my_collection.remove_redundant_proteins()"
   ],
   "metadata": {
    "collapsed": false,
    "ExecuteTime": {
     "end_time": "2024-09-15T17:14:41.553246Z",
     "start_time": "2024-09-15T17:14:41.541516Z"
    }
   },
   "id": "38d902dfbabff9c5",
   "execution_count": 3
  },
  {
   "cell_type": "code",
   "outputs": [
    {
     "data": {
      "text/plain": "6"
     },
     "execution_count": 4,
     "metadata": {},
     "output_type": "execute_result"
    }
   ],
   "source": [],
   "metadata": {
    "collapsed": false,
    "ExecuteTime": {
     "end_time": "2024-09-15T17:14:43.519679Z",
     "start_time": "2024-09-15T17:14:43.513871Z"
    }
   },
   "id": "f5fa054532218994",
   "execution_count": 4
  },
  {
   "cell_type": "code",
   "outputs": [],
   "source": [],
   "metadata": {
    "collapsed": false
   },
   "id": "e0c23b341d6c7ef3"
  }
 ],
 "metadata": {
  "kernelspec": {
   "display_name": "Python 3",
   "language": "python",
   "name": "python3"
  },
  "language_info": {
   "codemirror_mode": {
    "name": "ipython",
    "version": 2
   },
   "file_extension": ".py",
   "mimetype": "text/x-python",
   "name": "python",
   "nbconvert_exporter": "python",
   "pygments_lexer": "ipython2",
   "version": "2.7.6"
  }
 },
 "nbformat": 4,
 "nbformat_minor": 5
}
