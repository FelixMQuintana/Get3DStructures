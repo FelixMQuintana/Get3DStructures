{
 "cells": [
  {
   "cell_type": "code",
   "execution_count": null,
   "id": "initial_id",
   "metadata": {
    "collapsed": true
   },
   "outputs": [],
   "source": [
    "import os\n",
    "\n",
    "import dask.dataframe as dd\n",
    "funsocs_dataframe = dd.read_csv(\"/media/felix/ShortTerm/funsocs_20.9.26.tsv\", sep=\"\\t\")\n",
    "funsocs_dataframe.head()\n",
    "accession_list = open(\"/media/felix/ShortTerm/Research/hlyE/hlyE50/hlyE_50_accession_list.txt\").read().splitlines()"
   ]
  },
  {
   "cell_type": "code",
   "outputs": [],
   "source": [
    "accesion_cytotoxic_db = open(\"/run/user/1000/gvfs/smb-share:server=truenas.local,share=research/FunSoCTrainingData/Cytotoxicity_v1.0_10.24.2019.txt\").read().splitlines()"
   ],
   "metadata": {
    "collapsed": false,
    "ExecuteTime": {
     "end_time": "2024-03-12T15:41:25.154667Z",
     "start_time": "2024-03-12T15:41:25.141711Z"
    }
   },
   "id": "c3298c4364bccf60",
   "execution_count": 47
  },
  {
   "cell_type": "code",
   "outputs": [
    {
     "name": "stdout",
     "output_type": "stream",
     "text": [
      "P77335\n",
      "Q8Z727\n",
      "Q93RR6\n",
      "Q9REB3\n"
     ]
    }
   ],
   "source": [
    "for member in accession_list:\n",
    "    if member in accesion_cytotoxic_db:\n",
    "        print(member)"
   ],
   "metadata": {
    "collapsed": false,
    "ExecuteTime": {
     "end_time": "2024-03-12T15:56:24.134385Z",
     "start_time": "2024-03-12T15:56:24.130150Z"
    }
   },
   "id": "38cc90709ec9100d",
   "execution_count": 55
  },
  {
   "cell_type": "code",
   "outputs": [
    {
     "name": "stderr",
     "output_type": "stream",
     "text": [
      "/home/felix/anaconda3/envs/Get3DStructuresFixed/lib/python3.8/site-packages/dask/dataframe/core.py:4355: UserWarning: \n",
      "You did not provide metadata, so Dask is running your function on a small dataset to guess output types. It is possible that Dask will guess incorrectly.\n",
      "To provide an explicit output types or to silence this message, please provide the `meta=` keyword, as described in the map or apply function that you are using.\n",
      "  Before: .apply(func)\n",
      "  After:  .apply(func, meta=('Entry', 'bool'))\n",
      "\n",
      "  warnings.warn(meta_warning(meta))\n"
     ]
    }
   ],
   "source": [
    "hits = funsocs_dataframe[funsocs_dataframe[\"Entry\"].apply(lambda x: x in accesion_cytotoxic_db)]"
   ],
   "metadata": {
    "collapsed": false,
    "ExecuteTime": {
     "end_time": "2024-03-12T15:41:45.574208Z",
     "start_time": "2024-03-12T15:41:45.569174Z"
    }
   },
   "id": "dddd4b28a6323b3c",
   "execution_count": 48
  },
  {
   "cell_type": "code",
   "outputs": [],
   "source": [
    "hits = hits.compute()"
   ],
   "metadata": {
    "collapsed": false,
    "ExecuteTime": {
     "end_time": "2024-03-12T15:46:05.566824Z",
     "start_time": "2024-03-12T15:41:49.068787Z"
    }
   },
   "id": "fd137b4b96f65839",
   "execution_count": 49
  },
  {
   "cell_type": "code",
   "outputs": [
    {
     "data": {
      "text/plain": "     Entry  nonviral_adhesion  viral_adhesion  antibiotic_resistance  \\\n6   P62377                  0               0                      0   \n23  Q98962                  0               0                      0   \n25  Q9W716                  0               0                      0   \n28  B2KKV7                  0               0                      0   \n29  P01452                  0               0                      0   \n\n    avirulence_plant  counter_immunoglobulin  cytotoxicity  develop_in_host  \\\n6                  0                       0             1                0   \n23                 0                       0             1                0   \n25                 0                       0             1                0   \n28                 0                       0             1                0   \n29                 0                       0             1                0   \n\n    disable_organ  plant_rna_silencing  ...  resist_complement  \\\n6               1                    0  ...                  0   \n23              1                    0  ...                  0   \n25              1                    0  ...                  0   \n28              0                    0  ...                  0   \n29              1                    0  ...                  0   \n\n    resist_oxidative  secreted_effector  secretion  suppress_detection  \\\n6                  0                  0          0                   0   \n23                 0                  0          0                   0   \n25                 0                  0          0                   0   \n28                 0                  0          0                   0   \n29                 0                  0          0                   0   \n\n    bacterial_counter_signaling  viral_counter_signaling  virulence_regulator  \\\n6                             0                        0                    0   \n23                            0                        0                    0   \n25                            0                        0                    0   \n28                            0                        0                    0   \n29                            0                        0                    0   \n\n    virulence_activity  point_total  \n6                    0           14  \n23                   0           14  \n25                   0           14  \n28                   0           10  \n29                   0           14  \n\n[5 rows x 35 columns]",
      "text/html": "<div>\n<style scoped>\n    .dataframe tbody tr th:only-of-type {\n        vertical-align: middle;\n    }\n\n    .dataframe tbody tr th {\n        vertical-align: top;\n    }\n\n    .dataframe thead th {\n        text-align: right;\n    }\n</style>\n<table border=\"1\" class=\"dataframe\">\n  <thead>\n    <tr style=\"text-align: right;\">\n      <th></th>\n      <th>Entry</th>\n      <th>nonviral_adhesion</th>\n      <th>viral_adhesion</th>\n      <th>antibiotic_resistance</th>\n      <th>avirulence_plant</th>\n      <th>counter_immunoglobulin</th>\n      <th>cytotoxicity</th>\n      <th>develop_in_host</th>\n      <th>disable_organ</th>\n      <th>plant_rna_silencing</th>\n      <th>...</th>\n      <th>resist_complement</th>\n      <th>resist_oxidative</th>\n      <th>secreted_effector</th>\n      <th>secretion</th>\n      <th>suppress_detection</th>\n      <th>bacterial_counter_signaling</th>\n      <th>viral_counter_signaling</th>\n      <th>virulence_regulator</th>\n      <th>virulence_activity</th>\n      <th>point_total</th>\n    </tr>\n  </thead>\n  <tbody>\n    <tr>\n      <th>6</th>\n      <td>P62377</td>\n      <td>0</td>\n      <td>0</td>\n      <td>0</td>\n      <td>0</td>\n      <td>0</td>\n      <td>1</td>\n      <td>0</td>\n      <td>1</td>\n      <td>0</td>\n      <td>...</td>\n      <td>0</td>\n      <td>0</td>\n      <td>0</td>\n      <td>0</td>\n      <td>0</td>\n      <td>0</td>\n      <td>0</td>\n      <td>0</td>\n      <td>0</td>\n      <td>14</td>\n    </tr>\n    <tr>\n      <th>23</th>\n      <td>Q98962</td>\n      <td>0</td>\n      <td>0</td>\n      <td>0</td>\n      <td>0</td>\n      <td>0</td>\n      <td>1</td>\n      <td>0</td>\n      <td>1</td>\n      <td>0</td>\n      <td>...</td>\n      <td>0</td>\n      <td>0</td>\n      <td>0</td>\n      <td>0</td>\n      <td>0</td>\n      <td>0</td>\n      <td>0</td>\n      <td>0</td>\n      <td>0</td>\n      <td>14</td>\n    </tr>\n    <tr>\n      <th>25</th>\n      <td>Q9W716</td>\n      <td>0</td>\n      <td>0</td>\n      <td>0</td>\n      <td>0</td>\n      <td>0</td>\n      <td>1</td>\n      <td>0</td>\n      <td>1</td>\n      <td>0</td>\n      <td>...</td>\n      <td>0</td>\n      <td>0</td>\n      <td>0</td>\n      <td>0</td>\n      <td>0</td>\n      <td>0</td>\n      <td>0</td>\n      <td>0</td>\n      <td>0</td>\n      <td>14</td>\n    </tr>\n    <tr>\n      <th>28</th>\n      <td>B2KKV7</td>\n      <td>0</td>\n      <td>0</td>\n      <td>0</td>\n      <td>0</td>\n      <td>0</td>\n      <td>1</td>\n      <td>0</td>\n      <td>0</td>\n      <td>0</td>\n      <td>...</td>\n      <td>0</td>\n      <td>0</td>\n      <td>0</td>\n      <td>0</td>\n      <td>0</td>\n      <td>0</td>\n      <td>0</td>\n      <td>0</td>\n      <td>0</td>\n      <td>10</td>\n    </tr>\n    <tr>\n      <th>29</th>\n      <td>P01452</td>\n      <td>0</td>\n      <td>0</td>\n      <td>0</td>\n      <td>0</td>\n      <td>0</td>\n      <td>1</td>\n      <td>0</td>\n      <td>1</td>\n      <td>0</td>\n      <td>...</td>\n      <td>0</td>\n      <td>0</td>\n      <td>0</td>\n      <td>0</td>\n      <td>0</td>\n      <td>0</td>\n      <td>0</td>\n      <td>0</td>\n      <td>0</td>\n      <td>14</td>\n    </tr>\n  </tbody>\n</table>\n<p>5 rows × 35 columns</p>\n</div>"
     },
     "execution_count": 50,
     "metadata": {},
     "output_type": "execute_result"
    }
   ],
   "source": [
    "hits.head()"
   ],
   "metadata": {
    "collapsed": false,
    "ExecuteTime": {
     "end_time": "2024-03-12T15:53:48.012060Z",
     "start_time": "2024-03-12T15:53:48.001727Z"
    }
   },
   "id": "a80d739f65b8e47f",
   "execution_count": 50
  },
  {
   "cell_type": "code",
   "outputs": [],
   "source": [
    "hits_of_interest = hits[[\"Entry\", \"cytotoxicity\"]]"
   ],
   "metadata": {
    "collapsed": false,
    "ExecuteTime": {
     "end_time": "2024-03-12T15:53:56.809043Z",
     "start_time": "2024-03-12T15:53:56.805655Z"
    }
   },
   "id": "3fb52045aa8aa91a",
   "execution_count": 51
  },
  {
   "cell_type": "code",
   "outputs": [],
   "source": [
    "hits_of_interest.to_csv(\"/media/felix/ShortTerm/Research/hlyE/hlyE50/hlyE_50_accession_list.csv\")"
   ],
   "metadata": {
    "collapsed": false,
    "ExecuteTime": {
     "end_time": "2024-03-12T15:54:01.437550Z",
     "start_time": "2024-03-12T15:54:01.378593Z"
    }
   },
   "id": "dddf66977c0217d9",
   "execution_count": 52
  },
  {
   "cell_type": "code",
   "outputs": [
    {
     "data": {
      "text/plain": "         Entry  cytotoxicity\n6       P62377             1\n23      Q98962             1\n25      Q9W716             1\n28      B2KKV7             1\n29      P01452             1\n...        ...           ...\n180435  Q08675             1\n180436  P16466             1\n180954  P11495             1\n184471  P28030             1\n184477  P15320             1\n\n[300 rows x 2 columns]",
      "text/html": "<div>\n<style scoped>\n    .dataframe tbody tr th:only-of-type {\n        vertical-align: middle;\n    }\n\n    .dataframe tbody tr th {\n        vertical-align: top;\n    }\n\n    .dataframe thead th {\n        text-align: right;\n    }\n</style>\n<table border=\"1\" class=\"dataframe\">\n  <thead>\n    <tr style=\"text-align: right;\">\n      <th></th>\n      <th>Entry</th>\n      <th>cytotoxicity</th>\n    </tr>\n  </thead>\n  <tbody>\n    <tr>\n      <th>6</th>\n      <td>P62377</td>\n      <td>1</td>\n    </tr>\n    <tr>\n      <th>23</th>\n      <td>Q98962</td>\n      <td>1</td>\n    </tr>\n    <tr>\n      <th>25</th>\n      <td>Q9W716</td>\n      <td>1</td>\n    </tr>\n    <tr>\n      <th>28</th>\n      <td>B2KKV7</td>\n      <td>1</td>\n    </tr>\n    <tr>\n      <th>29</th>\n      <td>P01452</td>\n      <td>1</td>\n    </tr>\n    <tr>\n      <th>...</th>\n      <td>...</td>\n      <td>...</td>\n    </tr>\n    <tr>\n      <th>180435</th>\n      <td>Q08675</td>\n      <td>1</td>\n    </tr>\n    <tr>\n      <th>180436</th>\n      <td>P16466</td>\n      <td>1</td>\n    </tr>\n    <tr>\n      <th>180954</th>\n      <td>P11495</td>\n      <td>1</td>\n    </tr>\n    <tr>\n      <th>184471</th>\n      <td>P28030</td>\n      <td>1</td>\n    </tr>\n    <tr>\n      <th>184477</th>\n      <td>P15320</td>\n      <td>1</td>\n    </tr>\n  </tbody>\n</table>\n<p>300 rows × 2 columns</p>\n</div>"
     },
     "execution_count": 54,
     "metadata": {},
     "output_type": "execute_result"
    }
   ],
   "source": [
    "hits_of_interest.head(300)"
   ],
   "metadata": {
    "collapsed": false,
    "ExecuteTime": {
     "end_time": "2024-03-12T15:54:41.182330Z",
     "start_time": "2024-03-12T15:54:41.176116Z"
    }
   },
   "id": "740e359ea59a8fc",
   "execution_count": 54
  },
  {
   "cell_type": "code",
   "outputs": [
    {
     "name": "stdout",
     "output_type": "stream",
     "text": [
      "sp|P77335|HLYE_ECOLI\n",
      "sp|Q8Z727|HLYE_SALTI\n",
      "sp|Q93RR6|HLYE_SALPA\n",
      "sp|Q9REB3|HLYE_ECO57\n",
      "tr|A0A080J6B5|A0A080J6B5_ECOLX\n",
      "tr|A0A085AIJ6|A0A085AIJ6_9ENTR\n",
      "tr|A0A0H0K1M2|A0A0H0K1M2_ECOLX\n",
      "tr|A0A0H3MHU8|A0A0H3MHU8_ECO7I\n",
      "tr|A0A0K9T6X3|A0A0K9T6X3_ECOLX\n",
      "tr|A0A0N1R1F1|A0A0N1R1F1_SALSV\n",
      "tr|A0A1H9EXJ2|A0A1H9EXJ2_9GAMM\n",
      "tr|A0A1Q5ZQ68|A0A1Q5ZQ68_ECOLX\n",
      "tr|A0A1Q6BEN5|A0A1Q6BEN5_ECOLX\n",
      "tr|A0A1S0ZLZ6|A0A1S0ZLZ6_SALET\n",
      "tr|A0A1S9IWH5|A0A1S9IWH5_SHIBO\n",
      "tr|A0A1X3I9Z5|A0A1X3I9Z5_ECOLX\n",
      "tr|A0A1X3JJK2|A0A1X3JJK2_ECOLX\n",
      "tr|A0A1X3L5H3|A0A1X3L5H3_ECOLX\n",
      "tr|A0A246NSJ8|A0A246NSJ8_ECOLX\n",
      "tr|A0A2A6DF26|A0A2A6DF26_SALER\n",
      "tr|A0A2A6Q0N8|A0A2A6Q0N8_ECOLX\n",
      "tr|A0A2I5HGP9|A0A2I5HGP9_SALDZ\n",
      "tr|A0A2S8I3U1|A0A2S8I3U1_ECOLX\n",
      "tr|A0A2T3V193|A0A2T3V193_ECOLX\n",
      "tr|A0A2X1NHM9|A0A2X1NHM9_ECOLX\n",
      "tr|A0A2X5H3H2|A0A2X5H3H2_ECOLX\n",
      "tr|A0A2Y8JUS3|A0A2Y8JUS3_ECOLX\n",
      "tr|A0A315G6H4|A0A315G6H4_SALET\n",
      "tr|A0A376X1I8|A0A376X1I8_ECOLX\n",
      "tr|A0A379TZ51|A0A379TZ51_SALDZ\n",
      "tr|A0A398QCK9|A0A398QCK9_SHIBO\n",
      "tr|A0A3F3J4I9|A0A3F3J4I9_SALER\n",
      "tr|A0A3J4Y844|A0A3J4Y844_SALER\n",
      "tr|A0A3K6VT88|A0A3K6VT88_SALER\n",
      "tr|A0A3K9ERY3|A0A3K9ERY3_SALER\n",
      "tr|A0A3Q9LER3|A0A3Q9LER3_SALET\n",
      "tr|A0A3Q9MAQ9|A0A3Q9MAQ9_SALET\n",
      "tr|A0A3R0QE12|A0A3R0QE12_SALEN\n",
      "tr|A0A3R0X038|A0A3R0X038_SALET\n",
      "tr|A0A3R0X6L8|A0A3R0X6L8_SHIDY\n",
      "tr|A0A3R0YBZ1|A0A3R0YBZ1_SALET\n",
      "tr|A0A3T2YQT6|A0A3T2YQT6_SALET\n",
      "tr|A0A3T5HHB7|A0A3T5HHB7_SALET\n",
      "tr|A0A3U2TNT3|A0A3U2TNT3_SALET\n",
      "tr|A0A3U6WFK9|A0A3U6WFK9_SALET\n",
      "tr|A0A3U8JES5|A0A3U8JES5_SALMO\n",
      "tr|A0A3V3Z7S6|A0A3V3Z7S6_SALET\n",
      "tr|A0A3V4R287|A0A3V4R287_SALET\n",
      "tr|A0A3V5UK95|A0A3V5UK95_SALET\n",
      "tr|A0A3V6QHC2|A0A3V6QHC2_SALMO\n",
      "tr|A0A3V7IP46|A0A3V7IP46_SALRU\n",
      "tr|A0A3V7MT39|A0A3V7MT39_SALET\n",
      "tr|A0A3V8D0J6|A0A3V8D0J6_SALET\n",
      "tr|A0A3V8KJ93|A0A3V8KJ93_SALON\n",
      "tr|A0A3V8VJA8|A0A3V8VJA8_SALET\n",
      "tr|A0A3V9PP25|A0A3V9PP25_SALET\n",
      "tr|A0A3X9Q0D1|A0A3X9Q0D1_SALET\n",
      "tr|A0A3Y5KQQ7|A0A3Y5KQQ7_ECOLX\n",
      "tr|A0A3Z5NAH4|A0A3Z5NAH4_SALET\n",
      "tr|A0A402ZYF5|A0A402ZYF5_SHIDY\n",
      "tr|A0A447R468|A0A447R468_SALER\n",
      "tr|A0A4P8C7P3|A0A4P8C7P3_ECOLX\n",
      "tr|A0A4U8JLU9|A0A4U8JLU9_SALET\n",
      "tr|A0A4Z0PV11|A0A4Z0PV11_SALET\n",
      "tr|A0A5C5HLA6|A0A5C5HLA6_SALET\n",
      "tr|A0A5H5B090|A0A5H5B090_SALET\n",
      "tr|A0A5H5SMI6|A0A5H5SMI6_SALET\n",
      "tr|A0A5H6DG79|A0A5H6DG79_SALET\n",
      "tr|A0A5H6NY51|A0A5H6NY51_SALET\n",
      "tr|A0A5H7CYJ2|A0A5H7CYJ2_SALET\n",
      "tr|A0A5H8I785|A0A5H8I785_SALET\n",
      "tr|A0A5H8RSL3|A0A5H8RSL3_SALET\n",
      "tr|A0A5I0BTV9|A0A5I0BTV9_SALET\n",
      "tr|A0A5I0M6Y7|A0A5I0M6Y7_SALET\n",
      "tr|A0A5I0RTZ1|A0A5I0RTZ1_SALET\n",
      "tr|A0A5I0ZEA5|A0A5I0ZEA5_SALET\n",
      "tr|A0A5I2M0L2|A0A5I2M0L2_SALET\n",
      "tr|A0A5I2X132|A0A5I2X132_SALET\n",
      "tr|A0A5I4R4G5|A0A5I4R4G5_SALET\n",
      "tr|A0A5I4ZIR8|A0A5I4ZIR8_SALET\n",
      "tr|A0A5I5II97|A0A5I5II97_SALPT\n",
      "tr|A0A5I6QKB9|A0A5I6QKB9_SALET\n",
      "tr|A0A5J0NCS5|A0A5J0NCS5_SALET\n",
      "tr|A0A5J1RVM2|A0A5J1RVM2_SALET\n",
      "tr|A0A5J2RQJ8|A0A5J2RQJ8_SALMS\n",
      "tr|A0A5T2JVF6|A0A5T2JVF6_SALER\n",
      "tr|A0A5T3LN70|A0A5T3LN70_SALER\n",
      "tr|A0A5T8YM05|A0A5T8YM05_SALER\n",
      "tr|A0A5U0QRE7|A0A5U0QRE7_SALER\n",
      "tr|A0A5U0U8P2|A0A5U0U8P2_SALER\n",
      "tr|A0A5U1EXA8|A0A5U1EXA8_SALER\n",
      "tr|A0A5U1GIY5|A0A5U1GIY5_SALER\n",
      "tr|A0A5U2M6T9|A0A5U2M6T9_SALER\n",
      "tr|A0A5U8Y217|A0A5U8Y217_SALET\n",
      "tr|A0A5V0N8V4|A0A5V0N8V4_SALER\n",
      "tr|A0A5V1WTF1|A0A5V1WTF1_SALER\n",
      "tr|A0A5V2QLC0|A0A5V2QLC0_SALER\n",
      "tr|A0A5V5UBT8|A0A5V5UBT8_SALET\n",
      "tr|A0A5V6PSU1|A0A5V6PSU1_SALET\n",
      "tr|A0A5V8HXM3|A0A5V8HXM3_SALON\n",
      "tr|A0A5W0B4S8|A0A5W0B4S8_SALET\n",
      "tr|A0A5W2M011|A0A5W2M011_SALET\n",
      "tr|A0A5W3NS91|A0A5W3NS91_SALET\n",
      "tr|A0A5X5T3Q6|A0A5X5T3Q6_SALTI\n",
      "tr|A0A5X8YHH8|A0A5X8YHH8_SALET\n",
      "tr|A0A5Y0WXU2|A0A5Y0WXU2_SALET\n",
      "tr|A0A5Y2KGN0|A0A5Y2KGN0_SALET\n",
      "tr|A0A5Y2SLD6|A0A5Y2SLD6_SALHO\n",
      "tr|A0A5Y4W6E1|A0A5Y4W6E1_SALER\n",
      "tr|A0A5Y8FLY1|A0A5Y8FLY1_SALER\n",
      "tr|A0A5Y8FXD8|A0A5Y8FXD8_SALEN\n",
      "tr|A0A5Y9Y3I9|A0A5Y9Y3I9_SALER\n",
      "tr|A0A5Z0WCL0|A0A5Z0WCL0_SALER\n",
      "tr|A0A5Z3E0Y0|A0A5Z3E0Y0_SALER\n",
      "tr|A0A5Z4DDK5|A0A5Z4DDK5_SALER\n",
      "tr|A0A5Z4LF96|A0A5Z4LF96_SALER\n",
      "tr|A0A5Z9NQI4|A0A5Z9NQI4_SALET\n",
      "tr|A0A602DHR3|A0A602DHR3_SALET\n",
      "tr|A0A602MLW3|A0A602MLW3_SALET\n",
      "tr|A0A607DZ02|A0A607DZ02_SALET\n",
      "tr|A0A607HRF3|A0A607HRF3_SALER\n",
      "tr|A0A607IAP1|A0A607IAP1_SALET\n",
      "tr|A0A608ML58|A0A608ML58_SALTH\n",
      "tr|A0A608XB26|A0A608XB26_SALMO\n",
      "tr|A0A623I6L4|A0A623I6L4_SALER\n",
      "tr|A0A623JVR5|A0A623JVR5_SALER\n",
      "tr|A0A624MCC1|A0A624MCC1_SALER\n",
      "tr|A0A629UTY5|A0A629UTY5_SALER\n",
      "tr|A0A636K7W4|A0A636K7W4_SALET\n",
      "tr|A0A657HUL9|A0A657HUL9_SALET\n",
      "tr|A0A659ZQ69|A0A659ZQ69_SHISO\n",
      "tr|A0A660HLE3|A0A660HLE3_ECOLX\n",
      "tr|A0A6C7HYM5|A0A6C7HYM5_SALPK\n",
      "tr|A0A6C8Y2I3|A0A6C8Y2I3_SALDZ\n",
      "tr|A0A6V9XQ20|A0A6V9XQ20_SALET\n",
      "tr|A0A6W0NZF3|A0A6W0NZF3_SALRU\n",
      "tr|A0A6X8N3A4|A0A6X8N3A4_SALET\n",
      "tr|A0A6Y3UWE6|A0A6Y3UWE6_SALDZ\n",
      "tr|A0A6Y4B466|A0A6Y4B466_SALDZ\n",
      "tr|A0A6Y5LC58|A0A6Y5LC58_SALDZ\n",
      "tr|A0A701Y2E1|A0A701Y2E1_SALER\n",
      "tr|A0A702FA36|A0A702FA36_SALET\n",
      "tr|A0A702L1G3|A0A702L1G3_SALET\n",
      "tr|A0A708CMT6|A0A708CMT6_SALTM\n",
      "tr|A0A714SF34|A0A714SF34_SALTI\n",
      "tr|A0A715FTT9|A0A715FTT9_SALTI\n",
      "tr|A0A718PHM8|A0A718PHM8_SALTS\n",
      "tr|A0A718RN46|A0A718RN46_SALTS\n",
      "tr|A0A718XT66|A0A718XT66_SALTS\n",
      "tr|A0A719TZU1|A0A719TZU1_SALTI\n",
      "tr|A0A719VTT8|A0A719VTT8_SALTI\n",
      "tr|A0A726ALZ9|A0A726ALZ9_SALEP\n",
      "tr|A0A727S194|A0A727S194_SALTM\n",
      "tr|A0A730EXK3|A0A730EXK3_SALPT\n",
      "tr|A0A731C818|A0A731C818_SALON\n",
      "tr|A0A731UUQ1|A0A731UUQ1_SALET\n",
      "tr|A0A735K547|A0A735K547_SALPA\n",
      "tr|A0A735N0E0|A0A735N0E0_SALTP\n",
      "tr|A0A735VRE7|A0A735VRE7_SALDZ\n",
      "tr|A0A736P640|A0A736P640_SALET\n",
      "tr|A0A736TBT5|A0A736TBT5_SALET\n",
      "tr|A0A736USN4|A0A736USN4_SALTM\n",
      "tr|A0A738ZFX2|A0A738ZFX2_SALON\n",
      "tr|A0A744I0W6|A0A744I0W6_SALER\n",
      "tr|A0A744J2I8|A0A744J2I8_SALER\n",
      "tr|A0A744NEY7|A0A744NEY7_SALER\n",
      "tr|A0A745EXX4|A0A745EXX4_SALER\n",
      "tr|A0A748Q9F6|A0A748Q9F6_SALER\n",
      "tr|A0A749RZ47|A0A749RZ47_SALER\n",
      "tr|A0A751UME2|A0A751UME2_SALET\n",
      "tr|A0A752RYI1|A0A752RYI1_SALET\n",
      "tr|A0A753KW03|A0A753KW03_SALET\n",
      "tr|A0A753VVU9|A0A753VVU9_SALER\n",
      "tr|A0A754DX96|A0A754DX96_SALER\n",
      "tr|A0A755K102|A0A755K102_SALPT\n",
      "tr|A0A763M8M6|A0A763M8M6_SALER\n",
      "tr|A0A763SPD8|A0A763SPD8_SALER\n",
      "tr|A0A763USD9|A0A763USD9_SALER\n",
      "tr|A0A7G6K4X7|A0A7G6K4X7_SHIBO\n",
      "tr|A0A7U5YRK7|A0A7U5YRK7_SALER\n",
      "tr|A0A7U9LY32|A0A7U9LY32_ECOLX\n",
      "tr|A0A7U9P0T7|A0A7U9P0T7_ECOLX\n",
      "tr|A0A7W4KNT4|A0A7W4KNT4_9ESCH\n",
      "tr|A0A7Z0Y533|A0A7Z0Y533_SALDZ\n",
      "tr|A0A7Z1EJQ0|A0A7Z1EJQ0_SHIFL\n",
      "tr|A0A822UD79|A0A822UD79_ECOLX\n",
      "tr|A0A829L2C8|A0A829L2C8_ECOLX\n",
      "tr|A0A891STM6|A0A891STM6_ECOLX\n",
      "tr|A0A895P9D8|A0A895P9D8_ECOLX\n",
      "tr|A0A8E6RVW7|A0A8E6RVW7_SALET\n",
      "tr|A0A8E6U0N7|A0A8E6U0N7_SALET\n",
      "tr|A0A8E6VZT1|A0A8E6VZT1_SALER\n",
      "tr|A0A8E6X9J5|A0A8E6X9J5_SALER\n",
      "tr|A0A8E7KDE1|A0A8E7KDE1_SALET\n",
      "tr|A0A8E7KGD3|A0A8E7KGD3_SALET\n",
      "tr|A0A8E7VLF6|A0A8E7VLF6_SALRU\n",
      "tr|A0A8E9YIR0|A0A8E9YIR0_SALDZ\n",
      "tr|A0A8F6SW59|A0A8F6SW59_SALET\n",
      "tr|A0A8H9AGF5|A0A8H9AGF5_SHIBO\n",
      "tr|A0A8S7CUQ4|A0A8S7CUQ4_ECOLX\n",
      "tr|A0A8S7SAW6|A0A8S7SAW6_ECOLX\n",
      "tr|A0A8T5YHD9|A0A8T5YHD9_ECOLX\n",
      "tr|A0A974QHR8|A0A974QHR8_SALET\n",
      "tr|A0A9E0KDV6|A0A9E0KDV6_9NEIS\n",
      "tr|A0A9P2INK5|A0A9P2INK5_SHISO\n",
      "tr|A0A9P2LU80|A0A9P2LU80_ECOLX\n",
      "tr|A0A9P2PWM2|A0A9P2PWM2_ECOLX\n",
      "tr|A0A9Q5XXS7|A0A9Q5XXS7_SHIBO\n",
      "tr|A0A9Q6Y0X3|A0A9Q6Y0X3_ECOLX\n",
      "tr|A0A9X6S0A7|A0A9X6S0A7_ECOLX\n",
      "tr|A0AA35FAE5|A0AA35FAE5_ECOLX\n",
      "tr|A0AA45F847|A0AA45F847_ECOLX\n",
      "tr|B1LHY5|B1LHY5_ECOSM\n",
      "tr|B6E461|B6E461_SALET\n",
      "tr|B6E462|B6E462_SALET\n",
      "tr|B6E463|B6E463_SALET\n",
      "tr|B6E464|B6E464_SALET\n",
      "tr|B7N3Y6|B7N3Y6_ECOLU\n",
      "tr|C3TD87|C3TD87_ECOLX\n",
      "tr|C3TD90|C3TD90_ECOLX\n",
      "tr|D3H1X9|D3H1X9_ECO44\n",
      "tr|D6I6Z3|D6I6Z3_ECOLX\n",
      "tr|D6J9E7|D6J9E7_ECOLX\n",
      "tr|D7XUV6|D7XUV6_ECOLX\n",
      "tr|D8AF26|D8AF26_ECOMS\n",
      "tr|E6BLW3|E6BLW3_ECOLX\n",
      "tr|F4TD68|F4TD68_ECOLX\n",
      "tr|F4V153|F4V153_ECOLX\n",
      "tr|G5Q2R5|G5Q2R5_SALMO\n",
      "tr|G5QIZ6|G5QIZ6_SALRU\n",
      "tr|G5RTB4|G5RTB4_SALET\n",
      "tr|H6WE83|H6WE83_SALTI\n",
      "tr|H7CD89|H7CD89_ECOLX\n",
      "tr|H7CD99|H7CD99_ECOLX\n",
      "tr|H7CDA9|H7CDA9_ECOLX\n",
      "tr|Q06DE3|Q06DE3_SALTI\n",
      "tr|Q1WG80|Q1WG80_SALPA\n",
      "tr|Q1WG81|Q1WG81_SALTI\n",
      "tr|Q68S89|Q68S89_ECOLX\n",
      "tr|Q68S90|Q68S90_ECOLX\n",
      "tr|Q68S91|Q68S91_ECOLX\n",
      "tr|Q68S92|Q68S92_ECOLX\n",
      "tr|Q68S93|Q68S93_ECOLX\n",
      "tr|Q9X2S8|Q9X2S8_ECOLX\n",
      "tr|S1FAQ3|S1FAQ3_ECOLX\n",
      "tr|U9XSW0|U9XSW0_ECOLX\n",
      "tr|V0AFU3|V0AFU3_ECOLX\n",
      "tr|W1F4B3|W1F4B3_ECOLX\n",
      "tr|W1X0J3|W1X0J3_ECOLX\n"
     ]
    }
   ],
   "source": [
    "import Bio.SeqIO as seqio\n",
    "\n",
    "records = seqio.parse(\"/media/felix/ShortTerm/uniprotkb_uniref_cluster_50_UniRef50_P7_2024_03_06_cleaned.fasta\",\"fasta\") # we loose 5 becuase of cleaning\n",
    "recs =[]\n",
    "count=0\n",
    "for rec in records:\n",
    "    print(rec.id)\n",
    "    if rec.id.split(\"|\")[1] in hits_of_interest[\"Entry\"].tolist():\n",
    "        recs.append(rec)\n"
   ],
   "metadata": {
    "collapsed": false,
    "ExecuteTime": {
     "end_time": "2024-03-09T17:03:48.205908Z",
     "start_time": "2024-03-09T17:03:48.199977Z"
    }
   },
   "id": "4a0f5f8c829bce3a",
   "execution_count": 29
  },
  {
   "cell_type": "code",
   "outputs": [
    {
     "name": "stdout",
     "output_type": "stream",
     "text": [
      "41\n"
     ]
    },
    {
     "ename": "NotImplementedError",
     "evalue": "SeqRecord comparison is deliberately not implemented. Explicitly compare the attributes of interest.",
     "output_type": "error",
     "traceback": [
      "\u001B[0;31m---------------------------------------------------------------------------\u001B[0m",
      "\u001B[0;31mNotImplementedError\u001B[0m                       Traceback (most recent call last)",
      "Cell \u001B[0;32mIn[30], line 4\u001B[0m\n\u001B[1;32m      2\u001B[0m hits_list \u001B[38;5;241m=\u001B[39m hits_of_interest[\u001B[38;5;124m\"\u001B[39m\u001B[38;5;124mEntry\u001B[39m\u001B[38;5;124m\"\u001B[39m]\u001B[38;5;241m.\u001B[39mtolist()\n\u001B[1;32m      3\u001B[0m \u001B[38;5;28;01mfor\u001B[39;00m hit \u001B[38;5;129;01min\u001B[39;00m hits_list:\n\u001B[0;32m----> 4\u001B[0m     \u001B[38;5;28;01mif\u001B[39;00m \u001B[43mhit\u001B[49m\u001B[43m \u001B[49m\u001B[38;5;129;43;01mnot\u001B[39;49;00m\u001B[43m \u001B[49m\u001B[38;5;129;43;01min\u001B[39;49;00m\u001B[43m \u001B[49m\u001B[43mrecs\u001B[49m:\n\u001B[1;32m      5\u001B[0m         \u001B[38;5;28mprint\u001B[39m(hit)\n",
      "File \u001B[0;32m~/anaconda3/envs/Get3DStructuresFixed/lib/python3.8/site-packages/Bio/SeqRecord.py:789\u001B[0m, in \u001B[0;36mSeqRecord.__eq__\u001B[0;34m(self, other)\u001B[0m\n\u001B[1;32m    787\u001B[0m \u001B[38;5;28;01mdef\u001B[39;00m \u001B[38;5;21m__eq__\u001B[39m(\u001B[38;5;28mself\u001B[39m, other):\n\u001B[1;32m    788\u001B[0m \u001B[38;5;250m    \u001B[39m\u001B[38;5;124;03m\"\"\"Define the equal-to operand (not implemented).\"\"\"\u001B[39;00m\n\u001B[0;32m--> 789\u001B[0m     \u001B[38;5;28;01mraise\u001B[39;00m \u001B[38;5;167;01mNotImplementedError\u001B[39;00m(_NO_SEQRECORD_COMPARISON)\n",
      "\u001B[0;31mNotImplementedError\u001B[0m: SeqRecord comparison is deliberately not implemented. Explicitly compare the attributes of interest."
     ]
    }
   ],
   "source": [
    "hits_list = hits_of_interest[\"Entry\"].tolist()\n",
    "for hit in hits_list:\n",
    "    if hit not in recs:\n",
    "        print(hit)"
   ],
   "metadata": {
    "collapsed": false,
    "ExecuteTime": {
     "end_time": "2024-03-09T17:16:56.054396Z",
     "start_time": "2024-03-09T17:16:56.036709Z"
    }
   },
   "id": "c43e151fc9e271c3",
   "execution_count": 30
  },
  {
   "cell_type": "code",
   "outputs": [
    {
     "data": {
      "text/plain": "41"
     },
     "execution_count": 31,
     "metadata": {},
     "output_type": "execute_result"
    }
   ],
   "source": [
    "seqio.write(recs,'/media/felix/ShortTerm/Research/hlyE/hlyE50/hlyE_50_funsocs.fasta','fasta')"
   ],
   "metadata": {
    "collapsed": false,
    "ExecuteTime": {
     "end_time": "2024-03-09T17:26:09.605072Z",
     "start_time": "2024-03-09T17:26:09.600564Z"
    }
   },
   "id": "8300ff2fb8fc5efa",
   "execution_count": 31
  },
  {
   "cell_type": "code",
   "outputs": [],
   "source": [
    "entry_list =  hits_of_interest[\"Entry\"].to_list()"
   ],
   "metadata": {
    "collapsed": false,
    "ExecuteTime": {
     "end_time": "2024-03-09T23:45:35.490744Z",
     "start_time": "2024-03-09T23:45:35.488237Z"
    }
   },
   "id": "2c391c6f56f2e39d",
   "execution_count": 34
  },
  {
   "cell_type": "code",
   "outputs": [
    {
     "name": "stderr",
     "output_type": "stream",
     "text": [
      "rm: cannot remove '/media/felix/ShortTerm/Research/hlyE/hlyE50/dataset/W1F4B3/W1F4B3/tr_W1F4B3_W1F4B3_ECOLX_Hemolysin_E__chromosomal_OS_Escherichia_coli_ISC7_OX_1432555_PE_3_SV_1_env/pdb70.m8': Permission denied\n",
      "rm: cannot remove '/media/felix/ShortTerm/Research/hlyE/hlyE50/dataset/W1F4B3/W1F4B3/tr_W1F4B3_W1F4B3_ECOLX_Hemolysin_E__chromosomal_OS_Escherichia_coli_ISC7_OX_1432555_PE_3_SV_1_env/bfd.mgnify30.metaeuk30.smag30.a3m': Permission denied\n",
      "rm: cannot remove '/media/felix/ShortTerm/Research/hlyE/hlyE50/dataset/W1F4B3/W1F4B3/tr_W1F4B3_W1F4B3_ECOLX_Hemolysin_E__chromosomal_OS_Escherichia_coli_ISC7_OX_1432555_PE_3_SV_1_env/uniref.a3m': Permission denied\n",
      "rm: cannot remove '/media/felix/ShortTerm/Research/hlyE/hlyE50/dataset/W1F4B3/W1F4B3/tr_W1F4B3_W1F4B3_ECOLX_Hemolysin_E__chromosomal_OS_Escherichia_coli_ISC7_OX_1432555_PE_3_SV_1_env/msa.sh': Permission denied\n",
      "rm: cannot remove '/media/felix/ShortTerm/Research/hlyE/hlyE50/dataset/W1F4B3/W1F4B3/tr_W1F4B3_W1F4B3_ECOLX_Hemolysin_E__chromosomal_OS_Escherichia_coli_ISC7_OX_1432555_PE_3_SV_1_env/out.tar.gz': Permission denied\n"
     ]
    }
   ],
   "source": [
    "import os\n",
    "for entry in entry_list:\n",
    "   # os.mkdir(\"/media/felix/ShortTerm/Research/hlyE/hlyE50/dataset/\"+entry)\n",
    "    os.system(\"rm -r /media/felix/ShortTerm/Research/hlyE/hlyE50/dataset/\"+entry+\"/\"+entry)"
   ],
   "metadata": {
    "collapsed": false,
    "ExecuteTime": {
     "end_time": "2024-03-09T23:53:26.644014Z",
     "start_time": "2024-03-09T23:53:26.557730Z"
    }
   },
   "id": "2ce9e4f2b7a642a2",
   "execution_count": 44
  },
  {
   "cell_type": "code",
   "outputs": [],
   "source": [],
   "metadata": {
    "collapsed": false
   },
   "id": "d2182104055dbcf6"
  }
 ],
 "metadata": {
  "kernelspec": {
   "display_name": "Python 3",
   "language": "python",
   "name": "python3"
  },
  "language_info": {
   "codemirror_mode": {
    "name": "ipython",
    "version": 2
   },
   "file_extension": ".py",
   "mimetype": "text/x-python",
   "name": "python",
   "nbconvert_exporter": "python",
   "pygments_lexer": "ipython2",
   "version": "2.7.6"
  }
 },
 "nbformat": 4,
 "nbformat_minor": 5
}
