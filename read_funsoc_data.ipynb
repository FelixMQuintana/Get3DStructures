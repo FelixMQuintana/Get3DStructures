{
 "cells": [
  {
   "cell_type": "code",
   "execution_count": null,
   "id": "initial_id",
   "metadata": {
    "collapsed": true
   },
   "outputs": [],
   "source": [
    "import os\n",
    "\n",
    "import dask.dataframe as dd\n",
    "funsocs_dataframe = dd.read_csv(\"/media/felix/ShortTerm/funsocs_20.9.26.tsv\", sep=\"\\t\")\n",
    "funsocs_dataframe.head()\n",
    "accession_list = open(\"/media/felix/ShortTerm/Research/hlyE/hlyE50/hlyE_50_accession_list.txt\").read().splitlines()"
   ]
  },
  {
   "cell_type": "code",
   "outputs": [],
   "source": [
    "hits = funsocs_dataframe[funsocs_dataframe[\"Entry\"].apply(lambda x: x in accession_list)]"
   ],
   "metadata": {
    "collapsed": false
   },
   "id": "dddd4b28a6323b3c",
   "execution_count": null
  },
  {
   "cell_type": "code",
   "outputs": [],
   "source": [
    "hits = hits.compute()"
   ],
   "metadata": {
    "collapsed": false
   },
   "id": "fd137b4b96f65839",
   "execution_count": null
  },
  {
   "cell_type": "code",
   "outputs": [],
   "source": [
    "hits.head()"
   ],
   "metadata": {
    "collapsed": false
   },
   "id": "a80d739f65b8e47f",
   "execution_count": null
  },
  {
   "cell_type": "code",
   "outputs": [],
   "source": [
    "hits_of_interest = hits[[\"Entry\", \"cytotoxicity\"]]"
   ],
   "metadata": {
    "collapsed": false
   },
   "id": "3fb52045aa8aa91a",
   "execution_count": null
  },
  {
   "cell_type": "code",
   "outputs": [],
   "source": [
    "hits_of_interest.to_csv(\"/media/felix/ShortTerm/Research/hlyE/hlyE50/hlyE_50_accession_list.csv\")"
   ],
   "metadata": {
    "collapsed": false
   },
   "id": "dddf66977c0217d9",
   "execution_count": null
  },
  {
   "cell_type": "code",
   "outputs": [
    {
     "data": {
      "text/plain": "         Entry  cytotoxicity\n149840  Q8Z727             1\n168682  Q93RR6             1\n184485  Q9REB3             1\n234698  P77335             1\n75770   H7CDA9             0\n510723  D3H1X9             0\n844328  Q68S90             0\n846452  Q68S93             0\n851437  Q68S89             0\n854527  H7CD89             0\n856835  Q68S91             0\n856945  Q68S92             0\n857591  H7CD99             0\n111861  B6E464             0\n334598  E1JFY6             0\n862710  I6CX82             0\n238506  B7N3Y6             0\n648407  Q1WG81             0\n675331  Q06DE3             0\n774172  H6WE83             0\n794446  B5SU19             0\n427556  Q9X2S8             0\n428551  D4P3M1             0\n439949  C3TD90             0\n473818  B6E461             0\n48655   B6E463             0\n435294  G5RTB4             0\n741822  D8AF26             0\n686825  E6BLW3             0\n640445  F4V153             0\n368789  B7LGU2             0\n422218  B6E462             0\n424553  Q1WG80             0\n78604   D6J9E7             0\n624958  W1F4B3             0\n810171  W1X0J3             0\n189092  G5QIZ6             0\n158744  B1LHY5             0\n861515  C3TD87             0\n220294  V0AFU3             0\n303910  U9XSW0             0\n390754  D6I6Z3             0\n649949  F4TD68             0\n792429  D7XUV6             0\n727878  S1FAQ3             0\n670641  G5Q2R5             0",
      "text/html": "<div>\n<style scoped>\n    .dataframe tbody tr th:only-of-type {\n        vertical-align: middle;\n    }\n\n    .dataframe tbody tr th {\n        vertical-align: top;\n    }\n\n    .dataframe thead th {\n        text-align: right;\n    }\n</style>\n<table border=\"1\" class=\"dataframe\">\n  <thead>\n    <tr style=\"text-align: right;\">\n      <th></th>\n      <th>Entry</th>\n      <th>cytotoxicity</th>\n    </tr>\n  </thead>\n  <tbody>\n    <tr>\n      <th>149840</th>\n      <td>Q8Z727</td>\n      <td>1</td>\n    </tr>\n    <tr>\n      <th>168682</th>\n      <td>Q93RR6</td>\n      <td>1</td>\n    </tr>\n    <tr>\n      <th>184485</th>\n      <td>Q9REB3</td>\n      <td>1</td>\n    </tr>\n    <tr>\n      <th>234698</th>\n      <td>P77335</td>\n      <td>1</td>\n    </tr>\n    <tr>\n      <th>75770</th>\n      <td>H7CDA9</td>\n      <td>0</td>\n    </tr>\n    <tr>\n      <th>510723</th>\n      <td>D3H1X9</td>\n      <td>0</td>\n    </tr>\n    <tr>\n      <th>844328</th>\n      <td>Q68S90</td>\n      <td>0</td>\n    </tr>\n    <tr>\n      <th>846452</th>\n      <td>Q68S93</td>\n      <td>0</td>\n    </tr>\n    <tr>\n      <th>851437</th>\n      <td>Q68S89</td>\n      <td>0</td>\n    </tr>\n    <tr>\n      <th>854527</th>\n      <td>H7CD89</td>\n      <td>0</td>\n    </tr>\n    <tr>\n      <th>856835</th>\n      <td>Q68S91</td>\n      <td>0</td>\n    </tr>\n    <tr>\n      <th>856945</th>\n      <td>Q68S92</td>\n      <td>0</td>\n    </tr>\n    <tr>\n      <th>857591</th>\n      <td>H7CD99</td>\n      <td>0</td>\n    </tr>\n    <tr>\n      <th>111861</th>\n      <td>B6E464</td>\n      <td>0</td>\n    </tr>\n    <tr>\n      <th>334598</th>\n      <td>E1JFY6</td>\n      <td>0</td>\n    </tr>\n    <tr>\n      <th>862710</th>\n      <td>I6CX82</td>\n      <td>0</td>\n    </tr>\n    <tr>\n      <th>238506</th>\n      <td>B7N3Y6</td>\n      <td>0</td>\n    </tr>\n    <tr>\n      <th>648407</th>\n      <td>Q1WG81</td>\n      <td>0</td>\n    </tr>\n    <tr>\n      <th>675331</th>\n      <td>Q06DE3</td>\n      <td>0</td>\n    </tr>\n    <tr>\n      <th>774172</th>\n      <td>H6WE83</td>\n      <td>0</td>\n    </tr>\n    <tr>\n      <th>794446</th>\n      <td>B5SU19</td>\n      <td>0</td>\n    </tr>\n    <tr>\n      <th>427556</th>\n      <td>Q9X2S8</td>\n      <td>0</td>\n    </tr>\n    <tr>\n      <th>428551</th>\n      <td>D4P3M1</td>\n      <td>0</td>\n    </tr>\n    <tr>\n      <th>439949</th>\n      <td>C3TD90</td>\n      <td>0</td>\n    </tr>\n    <tr>\n      <th>473818</th>\n      <td>B6E461</td>\n      <td>0</td>\n    </tr>\n    <tr>\n      <th>48655</th>\n      <td>B6E463</td>\n      <td>0</td>\n    </tr>\n    <tr>\n      <th>435294</th>\n      <td>G5RTB4</td>\n      <td>0</td>\n    </tr>\n    <tr>\n      <th>741822</th>\n      <td>D8AF26</td>\n      <td>0</td>\n    </tr>\n    <tr>\n      <th>686825</th>\n      <td>E6BLW3</td>\n      <td>0</td>\n    </tr>\n    <tr>\n      <th>640445</th>\n      <td>F4V153</td>\n      <td>0</td>\n    </tr>\n    <tr>\n      <th>368789</th>\n      <td>B7LGU2</td>\n      <td>0</td>\n    </tr>\n    <tr>\n      <th>422218</th>\n      <td>B6E462</td>\n      <td>0</td>\n    </tr>\n    <tr>\n      <th>424553</th>\n      <td>Q1WG80</td>\n      <td>0</td>\n    </tr>\n    <tr>\n      <th>78604</th>\n      <td>D6J9E7</td>\n      <td>0</td>\n    </tr>\n    <tr>\n      <th>624958</th>\n      <td>W1F4B3</td>\n      <td>0</td>\n    </tr>\n    <tr>\n      <th>810171</th>\n      <td>W1X0J3</td>\n      <td>0</td>\n    </tr>\n    <tr>\n      <th>189092</th>\n      <td>G5QIZ6</td>\n      <td>0</td>\n    </tr>\n    <tr>\n      <th>158744</th>\n      <td>B1LHY5</td>\n      <td>0</td>\n    </tr>\n    <tr>\n      <th>861515</th>\n      <td>C3TD87</td>\n      <td>0</td>\n    </tr>\n    <tr>\n      <th>220294</th>\n      <td>V0AFU3</td>\n      <td>0</td>\n    </tr>\n    <tr>\n      <th>303910</th>\n      <td>U9XSW0</td>\n      <td>0</td>\n    </tr>\n    <tr>\n      <th>390754</th>\n      <td>D6I6Z3</td>\n      <td>0</td>\n    </tr>\n    <tr>\n      <th>649949</th>\n      <td>F4TD68</td>\n      <td>0</td>\n    </tr>\n    <tr>\n      <th>792429</th>\n      <td>D7XUV6</td>\n      <td>0</td>\n    </tr>\n    <tr>\n      <th>727878</th>\n      <td>S1FAQ3</td>\n      <td>0</td>\n    </tr>\n    <tr>\n      <th>670641</th>\n      <td>G5Q2R5</td>\n      <td>0</td>\n    </tr>\n  </tbody>\n</table>\n</div>"
     },
     "execution_count": 16,
     "metadata": {},
     "output_type": "execute_result"
    }
   ],
   "source": [
    "hits_of_interest.head(100)"
   ],
   "metadata": {
    "collapsed": false,
    "ExecuteTime": {
     "end_time": "2024-03-09T16:54:37.226912Z",
     "start_time": "2024-03-09T16:54:37.220419Z"
    }
   },
   "id": "740e359ea59a8fc",
   "execution_count": 16
  },
  {
   "cell_type": "code",
   "outputs": [
    {
     "name": "stdout",
     "output_type": "stream",
     "text": [
      "sp|P77335|HLYE_ECOLI\n",
      "sp|Q8Z727|HLYE_SALTI\n",
      "sp|Q93RR6|HLYE_SALPA\n",
      "sp|Q9REB3|HLYE_ECO57\n",
      "tr|A0A080J6B5|A0A080J6B5_ECOLX\n",
      "tr|A0A085AIJ6|A0A085AIJ6_9ENTR\n",
      "tr|A0A0H0K1M2|A0A0H0K1M2_ECOLX\n",
      "tr|A0A0H3MHU8|A0A0H3MHU8_ECO7I\n",
      "tr|A0A0K9T6X3|A0A0K9T6X3_ECOLX\n",
      "tr|A0A0N1R1F1|A0A0N1R1F1_SALSV\n",
      "tr|A0A1H9EXJ2|A0A1H9EXJ2_9GAMM\n",
      "tr|A0A1Q5ZQ68|A0A1Q5ZQ68_ECOLX\n",
      "tr|A0A1Q6BEN5|A0A1Q6BEN5_ECOLX\n",
      "tr|A0A1S0ZLZ6|A0A1S0ZLZ6_SALET\n",
      "tr|A0A1S9IWH5|A0A1S9IWH5_SHIBO\n",
      "tr|A0A1X3I9Z5|A0A1X3I9Z5_ECOLX\n",
      "tr|A0A1X3JJK2|A0A1X3JJK2_ECOLX\n",
      "tr|A0A1X3L5H3|A0A1X3L5H3_ECOLX\n",
      "tr|A0A246NSJ8|A0A246NSJ8_ECOLX\n",
      "tr|A0A2A6DF26|A0A2A6DF26_SALER\n",
      "tr|A0A2A6Q0N8|A0A2A6Q0N8_ECOLX\n",
      "tr|A0A2I5HGP9|A0A2I5HGP9_SALDZ\n",
      "tr|A0A2S8I3U1|A0A2S8I3U1_ECOLX\n",
      "tr|A0A2T3V193|A0A2T3V193_ECOLX\n",
      "tr|A0A2X1NHM9|A0A2X1NHM9_ECOLX\n",
      "tr|A0A2X5H3H2|A0A2X5H3H2_ECOLX\n",
      "tr|A0A2Y8JUS3|A0A2Y8JUS3_ECOLX\n",
      "tr|A0A315G6H4|A0A315G6H4_SALET\n",
      "tr|A0A376X1I8|A0A376X1I8_ECOLX\n",
      "tr|A0A379TZ51|A0A379TZ51_SALDZ\n",
      "tr|A0A398QCK9|A0A398QCK9_SHIBO\n",
      "tr|A0A3F3J4I9|A0A3F3J4I9_SALER\n",
      "tr|A0A3J4Y844|A0A3J4Y844_SALER\n",
      "tr|A0A3K6VT88|A0A3K6VT88_SALER\n",
      "tr|A0A3K9ERY3|A0A3K9ERY3_SALER\n",
      "tr|A0A3Q9LER3|A0A3Q9LER3_SALET\n",
      "tr|A0A3Q9MAQ9|A0A3Q9MAQ9_SALET\n",
      "tr|A0A3R0QE12|A0A3R0QE12_SALEN\n",
      "tr|A0A3R0X038|A0A3R0X038_SALET\n",
      "tr|A0A3R0X6L8|A0A3R0X6L8_SHIDY\n",
      "tr|A0A3R0YBZ1|A0A3R0YBZ1_SALET\n",
      "tr|A0A3T2YQT6|A0A3T2YQT6_SALET\n",
      "tr|A0A3T5HHB7|A0A3T5HHB7_SALET\n",
      "tr|A0A3U2TNT3|A0A3U2TNT3_SALET\n",
      "tr|A0A3U6WFK9|A0A3U6WFK9_SALET\n",
      "tr|A0A3U8JES5|A0A3U8JES5_SALMO\n",
      "tr|A0A3V3Z7S6|A0A3V3Z7S6_SALET\n",
      "tr|A0A3V4R287|A0A3V4R287_SALET\n",
      "tr|A0A3V5UK95|A0A3V5UK95_SALET\n",
      "tr|A0A3V6QHC2|A0A3V6QHC2_SALMO\n",
      "tr|A0A3V7IP46|A0A3V7IP46_SALRU\n",
      "tr|A0A3V7MT39|A0A3V7MT39_SALET\n",
      "tr|A0A3V8D0J6|A0A3V8D0J6_SALET\n",
      "tr|A0A3V8KJ93|A0A3V8KJ93_SALON\n",
      "tr|A0A3V8VJA8|A0A3V8VJA8_SALET\n",
      "tr|A0A3V9PP25|A0A3V9PP25_SALET\n",
      "tr|A0A3X9Q0D1|A0A3X9Q0D1_SALET\n",
      "tr|A0A3Y5KQQ7|A0A3Y5KQQ7_ECOLX\n",
      "tr|A0A3Z5NAH4|A0A3Z5NAH4_SALET\n",
      "tr|A0A402ZYF5|A0A402ZYF5_SHIDY\n",
      "tr|A0A447R468|A0A447R468_SALER\n",
      "tr|A0A4P8C7P3|A0A4P8C7P3_ECOLX\n",
      "tr|A0A4U8JLU9|A0A4U8JLU9_SALET\n",
      "tr|A0A4Z0PV11|A0A4Z0PV11_SALET\n",
      "tr|A0A5C5HLA6|A0A5C5HLA6_SALET\n",
      "tr|A0A5H5B090|A0A5H5B090_SALET\n",
      "tr|A0A5H5SMI6|A0A5H5SMI6_SALET\n",
      "tr|A0A5H6DG79|A0A5H6DG79_SALET\n",
      "tr|A0A5H6NY51|A0A5H6NY51_SALET\n",
      "tr|A0A5H7CYJ2|A0A5H7CYJ2_SALET\n",
      "tr|A0A5H8I785|A0A5H8I785_SALET\n",
      "tr|A0A5H8RSL3|A0A5H8RSL3_SALET\n",
      "tr|A0A5I0BTV9|A0A5I0BTV9_SALET\n",
      "tr|A0A5I0M6Y7|A0A5I0M6Y7_SALET\n",
      "tr|A0A5I0RTZ1|A0A5I0RTZ1_SALET\n",
      "tr|A0A5I0ZEA5|A0A5I0ZEA5_SALET\n",
      "tr|A0A5I2M0L2|A0A5I2M0L2_SALET\n",
      "tr|A0A5I2X132|A0A5I2X132_SALET\n",
      "tr|A0A5I4R4G5|A0A5I4R4G5_SALET\n",
      "tr|A0A5I4ZIR8|A0A5I4ZIR8_SALET\n",
      "tr|A0A5I5II97|A0A5I5II97_SALPT\n",
      "tr|A0A5I6QKB9|A0A5I6QKB9_SALET\n",
      "tr|A0A5J0NCS5|A0A5J0NCS5_SALET\n",
      "tr|A0A5J1RVM2|A0A5J1RVM2_SALET\n",
      "tr|A0A5J2RQJ8|A0A5J2RQJ8_SALMS\n",
      "tr|A0A5T2JVF6|A0A5T2JVF6_SALER\n",
      "tr|A0A5T3LN70|A0A5T3LN70_SALER\n",
      "tr|A0A5T8YM05|A0A5T8YM05_SALER\n",
      "tr|A0A5U0QRE7|A0A5U0QRE7_SALER\n",
      "tr|A0A5U0U8P2|A0A5U0U8P2_SALER\n",
      "tr|A0A5U1EXA8|A0A5U1EXA8_SALER\n",
      "tr|A0A5U1GIY5|A0A5U1GIY5_SALER\n",
      "tr|A0A5U2M6T9|A0A5U2M6T9_SALER\n",
      "tr|A0A5U8Y217|A0A5U8Y217_SALET\n",
      "tr|A0A5V0N8V4|A0A5V0N8V4_SALER\n",
      "tr|A0A5V1WTF1|A0A5V1WTF1_SALER\n",
      "tr|A0A5V2QLC0|A0A5V2QLC0_SALER\n",
      "tr|A0A5V5UBT8|A0A5V5UBT8_SALET\n",
      "tr|A0A5V6PSU1|A0A5V6PSU1_SALET\n",
      "tr|A0A5V8HXM3|A0A5V8HXM3_SALON\n",
      "tr|A0A5W0B4S8|A0A5W0B4S8_SALET\n",
      "tr|A0A5W2M011|A0A5W2M011_SALET\n",
      "tr|A0A5W3NS91|A0A5W3NS91_SALET\n",
      "tr|A0A5X5T3Q6|A0A5X5T3Q6_SALTI\n",
      "tr|A0A5X8YHH8|A0A5X8YHH8_SALET\n",
      "tr|A0A5Y0WXU2|A0A5Y0WXU2_SALET\n",
      "tr|A0A5Y2KGN0|A0A5Y2KGN0_SALET\n",
      "tr|A0A5Y2SLD6|A0A5Y2SLD6_SALHO\n",
      "tr|A0A5Y4W6E1|A0A5Y4W6E1_SALER\n",
      "tr|A0A5Y8FLY1|A0A5Y8FLY1_SALER\n",
      "tr|A0A5Y8FXD8|A0A5Y8FXD8_SALEN\n",
      "tr|A0A5Y9Y3I9|A0A5Y9Y3I9_SALER\n",
      "tr|A0A5Z0WCL0|A0A5Z0WCL0_SALER\n",
      "tr|A0A5Z3E0Y0|A0A5Z3E0Y0_SALER\n",
      "tr|A0A5Z4DDK5|A0A5Z4DDK5_SALER\n",
      "tr|A0A5Z4LF96|A0A5Z4LF96_SALER\n",
      "tr|A0A5Z9NQI4|A0A5Z9NQI4_SALET\n",
      "tr|A0A602DHR3|A0A602DHR3_SALET\n",
      "tr|A0A602MLW3|A0A602MLW3_SALET\n",
      "tr|A0A607DZ02|A0A607DZ02_SALET\n",
      "tr|A0A607HRF3|A0A607HRF3_SALER\n",
      "tr|A0A607IAP1|A0A607IAP1_SALET\n",
      "tr|A0A608ML58|A0A608ML58_SALTH\n",
      "tr|A0A608XB26|A0A608XB26_SALMO\n",
      "tr|A0A623I6L4|A0A623I6L4_SALER\n",
      "tr|A0A623JVR5|A0A623JVR5_SALER\n",
      "tr|A0A624MCC1|A0A624MCC1_SALER\n",
      "tr|A0A629UTY5|A0A629UTY5_SALER\n",
      "tr|A0A636K7W4|A0A636K7W4_SALET\n",
      "tr|A0A657HUL9|A0A657HUL9_SALET\n",
      "tr|A0A659ZQ69|A0A659ZQ69_SHISO\n",
      "tr|A0A660HLE3|A0A660HLE3_ECOLX\n",
      "tr|A0A6C7HYM5|A0A6C7HYM5_SALPK\n",
      "tr|A0A6C8Y2I3|A0A6C8Y2I3_SALDZ\n",
      "tr|A0A6V9XQ20|A0A6V9XQ20_SALET\n",
      "tr|A0A6W0NZF3|A0A6W0NZF3_SALRU\n",
      "tr|A0A6X8N3A4|A0A6X8N3A4_SALET\n",
      "tr|A0A6Y3UWE6|A0A6Y3UWE6_SALDZ\n",
      "tr|A0A6Y4B466|A0A6Y4B466_SALDZ\n",
      "tr|A0A6Y5LC58|A0A6Y5LC58_SALDZ\n",
      "tr|A0A701Y2E1|A0A701Y2E1_SALER\n",
      "tr|A0A702FA36|A0A702FA36_SALET\n",
      "tr|A0A702L1G3|A0A702L1G3_SALET\n",
      "tr|A0A708CMT6|A0A708CMT6_SALTM\n",
      "tr|A0A714SF34|A0A714SF34_SALTI\n",
      "tr|A0A715FTT9|A0A715FTT9_SALTI\n",
      "tr|A0A718PHM8|A0A718PHM8_SALTS\n",
      "tr|A0A718RN46|A0A718RN46_SALTS\n",
      "tr|A0A718XT66|A0A718XT66_SALTS\n",
      "tr|A0A719TZU1|A0A719TZU1_SALTI\n",
      "tr|A0A719VTT8|A0A719VTT8_SALTI\n",
      "tr|A0A726ALZ9|A0A726ALZ9_SALEP\n",
      "tr|A0A727S194|A0A727S194_SALTM\n",
      "tr|A0A730EXK3|A0A730EXK3_SALPT\n",
      "tr|A0A731C818|A0A731C818_SALON\n",
      "tr|A0A731UUQ1|A0A731UUQ1_SALET\n",
      "tr|A0A735K547|A0A735K547_SALPA\n",
      "tr|A0A735N0E0|A0A735N0E0_SALTP\n",
      "tr|A0A735VRE7|A0A735VRE7_SALDZ\n",
      "tr|A0A736P640|A0A736P640_SALET\n",
      "tr|A0A736TBT5|A0A736TBT5_SALET\n",
      "tr|A0A736USN4|A0A736USN4_SALTM\n",
      "tr|A0A738ZFX2|A0A738ZFX2_SALON\n",
      "tr|A0A744I0W6|A0A744I0W6_SALER\n",
      "tr|A0A744J2I8|A0A744J2I8_SALER\n",
      "tr|A0A744NEY7|A0A744NEY7_SALER\n",
      "tr|A0A745EXX4|A0A745EXX4_SALER\n",
      "tr|A0A748Q9F6|A0A748Q9F6_SALER\n",
      "tr|A0A749RZ47|A0A749RZ47_SALER\n",
      "tr|A0A751UME2|A0A751UME2_SALET\n",
      "tr|A0A752RYI1|A0A752RYI1_SALET\n",
      "tr|A0A753KW03|A0A753KW03_SALET\n",
      "tr|A0A753VVU9|A0A753VVU9_SALER\n",
      "tr|A0A754DX96|A0A754DX96_SALER\n",
      "tr|A0A755K102|A0A755K102_SALPT\n",
      "tr|A0A763M8M6|A0A763M8M6_SALER\n",
      "tr|A0A763SPD8|A0A763SPD8_SALER\n",
      "tr|A0A763USD9|A0A763USD9_SALER\n",
      "tr|A0A7G6K4X7|A0A7G6K4X7_SHIBO\n",
      "tr|A0A7U5YRK7|A0A7U5YRK7_SALER\n",
      "tr|A0A7U9LY32|A0A7U9LY32_ECOLX\n",
      "tr|A0A7U9P0T7|A0A7U9P0T7_ECOLX\n",
      "tr|A0A7W4KNT4|A0A7W4KNT4_9ESCH\n",
      "tr|A0A7Z0Y533|A0A7Z0Y533_SALDZ\n",
      "tr|A0A7Z1EJQ0|A0A7Z1EJQ0_SHIFL\n",
      "tr|A0A822UD79|A0A822UD79_ECOLX\n",
      "tr|A0A829L2C8|A0A829L2C8_ECOLX\n",
      "tr|A0A891STM6|A0A891STM6_ECOLX\n",
      "tr|A0A895P9D8|A0A895P9D8_ECOLX\n",
      "tr|A0A8E6RVW7|A0A8E6RVW7_SALET\n",
      "tr|A0A8E6U0N7|A0A8E6U0N7_SALET\n",
      "tr|A0A8E6VZT1|A0A8E6VZT1_SALER\n",
      "tr|A0A8E6X9J5|A0A8E6X9J5_SALER\n",
      "tr|A0A8E7KDE1|A0A8E7KDE1_SALET\n",
      "tr|A0A8E7KGD3|A0A8E7KGD3_SALET\n",
      "tr|A0A8E7VLF6|A0A8E7VLF6_SALRU\n",
      "tr|A0A8E9YIR0|A0A8E9YIR0_SALDZ\n",
      "tr|A0A8F6SW59|A0A8F6SW59_SALET\n",
      "tr|A0A8H9AGF5|A0A8H9AGF5_SHIBO\n",
      "tr|A0A8S7CUQ4|A0A8S7CUQ4_ECOLX\n",
      "tr|A0A8S7SAW6|A0A8S7SAW6_ECOLX\n",
      "tr|A0A8T5YHD9|A0A8T5YHD9_ECOLX\n",
      "tr|A0A974QHR8|A0A974QHR8_SALET\n",
      "tr|A0A9E0KDV6|A0A9E0KDV6_9NEIS\n",
      "tr|A0A9P2INK5|A0A9P2INK5_SHISO\n",
      "tr|A0A9P2LU80|A0A9P2LU80_ECOLX\n",
      "tr|A0A9P2PWM2|A0A9P2PWM2_ECOLX\n",
      "tr|A0A9Q5XXS7|A0A9Q5XXS7_SHIBO\n",
      "tr|A0A9Q6Y0X3|A0A9Q6Y0X3_ECOLX\n",
      "tr|A0A9X6S0A7|A0A9X6S0A7_ECOLX\n",
      "tr|A0AA35FAE5|A0AA35FAE5_ECOLX\n",
      "tr|A0AA45F847|A0AA45F847_ECOLX\n",
      "tr|B1LHY5|B1LHY5_ECOSM\n",
      "tr|B6E461|B6E461_SALET\n",
      "tr|B6E462|B6E462_SALET\n",
      "tr|B6E463|B6E463_SALET\n",
      "tr|B6E464|B6E464_SALET\n",
      "tr|B7N3Y6|B7N3Y6_ECOLU\n",
      "tr|C3TD87|C3TD87_ECOLX\n",
      "tr|C3TD90|C3TD90_ECOLX\n",
      "tr|D3H1X9|D3H1X9_ECO44\n",
      "tr|D6I6Z3|D6I6Z3_ECOLX\n",
      "tr|D6J9E7|D6J9E7_ECOLX\n",
      "tr|D7XUV6|D7XUV6_ECOLX\n",
      "tr|D8AF26|D8AF26_ECOMS\n",
      "tr|E6BLW3|E6BLW3_ECOLX\n",
      "tr|F4TD68|F4TD68_ECOLX\n",
      "tr|F4V153|F4V153_ECOLX\n",
      "tr|G5Q2R5|G5Q2R5_SALMO\n",
      "tr|G5QIZ6|G5QIZ6_SALRU\n",
      "tr|G5RTB4|G5RTB4_SALET\n",
      "tr|H6WE83|H6WE83_SALTI\n",
      "tr|H7CD89|H7CD89_ECOLX\n",
      "tr|H7CD99|H7CD99_ECOLX\n",
      "tr|H7CDA9|H7CDA9_ECOLX\n",
      "tr|Q06DE3|Q06DE3_SALTI\n",
      "tr|Q1WG80|Q1WG80_SALPA\n",
      "tr|Q1WG81|Q1WG81_SALTI\n",
      "tr|Q68S89|Q68S89_ECOLX\n",
      "tr|Q68S90|Q68S90_ECOLX\n",
      "tr|Q68S91|Q68S91_ECOLX\n",
      "tr|Q68S92|Q68S92_ECOLX\n",
      "tr|Q68S93|Q68S93_ECOLX\n",
      "tr|Q9X2S8|Q9X2S8_ECOLX\n",
      "tr|S1FAQ3|S1FAQ3_ECOLX\n",
      "tr|U9XSW0|U9XSW0_ECOLX\n",
      "tr|V0AFU3|V0AFU3_ECOLX\n",
      "tr|W1F4B3|W1F4B3_ECOLX\n",
      "tr|W1X0J3|W1X0J3_ECOLX\n"
     ]
    }
   ],
   "source": [
    "import Bio.SeqIO as seqio\n",
    "\n",
    "records = seqio.parse(\"/media/felix/ShortTerm/uniprotkb_uniref_cluster_50_UniRef50_P7_2024_03_06_cleaned.fasta\",\"fasta\") # we loose 5 becuase of cleaning\n",
    "recs =[]\n",
    "count=0\n",
    "for rec in records:\n",
    "    print(rec.id)\n",
    "    if rec.id.split(\"|\")[1] in hits_of_interest[\"Entry\"].tolist():\n",
    "        recs.append(rec)\n"
   ],
   "metadata": {
    "collapsed": false,
    "ExecuteTime": {
     "end_time": "2024-03-09T17:03:48.205908Z",
     "start_time": "2024-03-09T17:03:48.199977Z"
    }
   },
   "id": "4a0f5f8c829bce3a",
   "execution_count": 29
  },
  {
   "cell_type": "code",
   "outputs": [
    {
     "name": "stdout",
     "output_type": "stream",
     "text": [
      "41\n"
     ]
    },
    {
     "ename": "NotImplementedError",
     "evalue": "SeqRecord comparison is deliberately not implemented. Explicitly compare the attributes of interest.",
     "output_type": "error",
     "traceback": [
      "\u001B[0;31m---------------------------------------------------------------------------\u001B[0m",
      "\u001B[0;31mNotImplementedError\u001B[0m                       Traceback (most recent call last)",
      "Cell \u001B[0;32mIn[30], line 4\u001B[0m\n\u001B[1;32m      2\u001B[0m hits_list \u001B[38;5;241m=\u001B[39m hits_of_interest[\u001B[38;5;124m\"\u001B[39m\u001B[38;5;124mEntry\u001B[39m\u001B[38;5;124m\"\u001B[39m]\u001B[38;5;241m.\u001B[39mtolist()\n\u001B[1;32m      3\u001B[0m \u001B[38;5;28;01mfor\u001B[39;00m hit \u001B[38;5;129;01min\u001B[39;00m hits_list:\n\u001B[0;32m----> 4\u001B[0m     \u001B[38;5;28;01mif\u001B[39;00m \u001B[43mhit\u001B[49m\u001B[43m \u001B[49m\u001B[38;5;129;43;01mnot\u001B[39;49;00m\u001B[43m \u001B[49m\u001B[38;5;129;43;01min\u001B[39;49;00m\u001B[43m \u001B[49m\u001B[43mrecs\u001B[49m:\n\u001B[1;32m      5\u001B[0m         \u001B[38;5;28mprint\u001B[39m(hit)\n",
      "File \u001B[0;32m~/anaconda3/envs/Get3DStructuresFixed/lib/python3.8/site-packages/Bio/SeqRecord.py:789\u001B[0m, in \u001B[0;36mSeqRecord.__eq__\u001B[0;34m(self, other)\u001B[0m\n\u001B[1;32m    787\u001B[0m \u001B[38;5;28;01mdef\u001B[39;00m \u001B[38;5;21m__eq__\u001B[39m(\u001B[38;5;28mself\u001B[39m, other):\n\u001B[1;32m    788\u001B[0m \u001B[38;5;250m    \u001B[39m\u001B[38;5;124;03m\"\"\"Define the equal-to operand (not implemented).\"\"\"\u001B[39;00m\n\u001B[0;32m--> 789\u001B[0m     \u001B[38;5;28;01mraise\u001B[39;00m \u001B[38;5;167;01mNotImplementedError\u001B[39;00m(_NO_SEQRECORD_COMPARISON)\n",
      "\u001B[0;31mNotImplementedError\u001B[0m: SeqRecord comparison is deliberately not implemented. Explicitly compare the attributes of interest."
     ]
    }
   ],
   "source": [
    "hits_list = hits_of_interest[\"Entry\"].tolist()\n",
    "for hit in hits_list:\n",
    "    if hit not in recs:\n",
    "        print(hit)"
   ],
   "metadata": {
    "collapsed": false,
    "ExecuteTime": {
     "end_time": "2024-03-09T17:16:56.054396Z",
     "start_time": "2024-03-09T17:16:56.036709Z"
    }
   },
   "id": "c43e151fc9e271c3",
   "execution_count": 30
  },
  {
   "cell_type": "code",
   "outputs": [
    {
     "data": {
      "text/plain": "41"
     },
     "execution_count": 31,
     "metadata": {},
     "output_type": "execute_result"
    }
   ],
   "source": [
    "seqio.write(recs,'/media/felix/ShortTerm/Research/hlyE/hlyE50/hlyE_50_funsocs.fasta','fasta')"
   ],
   "metadata": {
    "collapsed": false,
    "ExecuteTime": {
     "end_time": "2024-03-09T17:26:09.605072Z",
     "start_time": "2024-03-09T17:26:09.600564Z"
    }
   },
   "id": "8300ff2fb8fc5efa",
   "execution_count": 31
  },
  {
   "cell_type": "code",
   "outputs": [],
   "source": [
    "entry_list =  hits_of_interest[\"Entry\"].to_list()"
   ],
   "metadata": {
    "collapsed": false,
    "ExecuteTime": {
     "end_time": "2024-03-09T23:45:35.490744Z",
     "start_time": "2024-03-09T23:45:35.488237Z"
    }
   },
   "id": "2c391c6f56f2e39d",
   "execution_count": 34
  },
  {
   "cell_type": "code",
   "outputs": [
    {
     "name": "stderr",
     "output_type": "stream",
     "text": [
      "rm: cannot remove '/media/felix/ShortTerm/Research/hlyE/hlyE50/dataset/W1F4B3/W1F4B3/tr_W1F4B3_W1F4B3_ECOLX_Hemolysin_E__chromosomal_OS_Escherichia_coli_ISC7_OX_1432555_PE_3_SV_1_env/pdb70.m8': Permission denied\n",
      "rm: cannot remove '/media/felix/ShortTerm/Research/hlyE/hlyE50/dataset/W1F4B3/W1F4B3/tr_W1F4B3_W1F4B3_ECOLX_Hemolysin_E__chromosomal_OS_Escherichia_coli_ISC7_OX_1432555_PE_3_SV_1_env/bfd.mgnify30.metaeuk30.smag30.a3m': Permission denied\n",
      "rm: cannot remove '/media/felix/ShortTerm/Research/hlyE/hlyE50/dataset/W1F4B3/W1F4B3/tr_W1F4B3_W1F4B3_ECOLX_Hemolysin_E__chromosomal_OS_Escherichia_coli_ISC7_OX_1432555_PE_3_SV_1_env/uniref.a3m': Permission denied\n",
      "rm: cannot remove '/media/felix/ShortTerm/Research/hlyE/hlyE50/dataset/W1F4B3/W1F4B3/tr_W1F4B3_W1F4B3_ECOLX_Hemolysin_E__chromosomal_OS_Escherichia_coli_ISC7_OX_1432555_PE_3_SV_1_env/msa.sh': Permission denied\n",
      "rm: cannot remove '/media/felix/ShortTerm/Research/hlyE/hlyE50/dataset/W1F4B3/W1F4B3/tr_W1F4B3_W1F4B3_ECOLX_Hemolysin_E__chromosomal_OS_Escherichia_coli_ISC7_OX_1432555_PE_3_SV_1_env/out.tar.gz': Permission denied\n"
     ]
    }
   ],
   "source": [
    "import os\n",
    "for entry in entry_list:\n",
    "   # os.mkdir(\"/media/felix/ShortTerm/Research/hlyE/hlyE50/dataset/\"+entry)\n",
    "    os.system(\"rm -r /media/felix/ShortTerm/Research/hlyE/hlyE50/dataset/\"+entry+\"/\"+entry)"
   ],
   "metadata": {
    "collapsed": false,
    "ExecuteTime": {
     "end_time": "2024-03-09T23:53:26.644014Z",
     "start_time": "2024-03-09T23:53:26.557730Z"
    }
   },
   "id": "2ce9e4f2b7a642a2",
   "execution_count": 44
  },
  {
   "cell_type": "code",
   "outputs": [],
   "source": [],
   "metadata": {
    "collapsed": false
   },
   "id": "d2182104055dbcf6"
  }
 ],
 "metadata": {
  "kernelspec": {
   "display_name": "Python 3",
   "language": "python",
   "name": "python3"
  },
  "language_info": {
   "codemirror_mode": {
    "name": "ipython",
    "version": 2
   },
   "file_extension": ".py",
   "mimetype": "text/x-python",
   "name": "python",
   "nbconvert_exporter": "python",
   "pygments_lexer": "ipython2",
   "version": "2.7.6"
  }
 },
 "nbformat": 4,
 "nbformat_minor": 5
}
