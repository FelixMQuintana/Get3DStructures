{
 "cells": [
  {
   "cell_type": "markdown",
   "source": [
    "Imports for project"
   ],
   "metadata": {
    "collapsed": false
   },
   "id": "5e7ec56c9768cd34"
  },
  {
   "cell_type": "code",
   "outputs": [],
   "source": [
    "import json\n",
    "import tqdm\n",
    "import dask.dataframe as dd"
   ],
   "metadata": {
    "collapsed": false
   },
   "id": "6e35897cab0dbc04"
  },
  {
   "cell_type": "markdown",
   "source": [
    "FunSoCs Predictions Table"
   ],
   "metadata": {
    "collapsed": false
   },
   "id": "b3cb2f4c0b4e68c2"
  },
  {
   "cell_type": "code",
   "outputs": [],
   "source": [
    "\n",
    "funsocs_dataframe = dd.read_csv(\"/media/felix/ShortTerm/funsocs_20.9.26.tsv\", sep=\"\\t\")\n",
    "funsocs_df = funsocs_dataframe[[\"Entry\", \"cytotoxicity\"]].compute()\n",
    "funsocs_data = funsocs_df[\"Entry\"].tolist()"
   ],
   "metadata": {
    "collapsed": true,
    "ExecuteTime": {
     "end_time": "2024-03-12T18:09:32.539895Z",
     "start_time": "2024-03-12T18:09:09.707583Z"
    }
   },
   "id": "initial_id",
   "execution_count": 1
  },
  {
   "cell_type": "markdown",
   "source": [
    "FunSoCs ground truth labels"
   ],
   "metadata": {
    "collapsed": false
   },
   "id": "f1d06a4194d2a378"
  },
  {
   "cell_type": "code",
   "outputs": [],
   "source": [
    "cytotoxic_ground_truth = open(\"/run/user/1000/gvfs/smb-share:server=truenas.local,share=research/FunSoCTrainingData/Cytotoxicity_v1.0_10.24.2019.txt\").read().splitlines()"
   ],
   "metadata": {
    "collapsed": false,
    "ExecuteTime": {
     "end_time": "2024-03-18T18:16:18.792847Z",
     "start_time": "2024-03-18T18:16:18.736854Z"
    }
   },
   "id": "789627f00063d36",
   "execution_count": 3
  },
  {
   "cell_type": "markdown",
   "source": [
    "Collecting UniRef Clusters at specified identity. "
   ],
   "metadata": {
    "collapsed": false
   },
   "id": "e6428ff41ebe3a54"
  },
  {
   "cell_type": "code",
   "outputs": [],
   "source": [
    "import Bio.SeqIO as seqio\n",
    "unirefclust_records = seqio.parse(\"/media/felix/ShortTerm/uniprotkb_uniref_cluster_90_UniRef90_P7_2024_03_06_cleaned.fasta\",\"fasta\") # we loose 5 becuase of cleaning\n"
   ],
   "metadata": {
    "collapsed": false,
    "ExecuteTime": {
     "end_time": "2024-03-18T18:18:07.721770Z",
     "start_time": "2024-03-18T18:18:07.717933Z"
    }
   },
   "id": "b1fb8551b31a0fa1",
   "execution_count": 9
  },
  {
   "cell_type": "code",
   "outputs": [
    {
     "name": "stderr",
     "output_type": "stream",
     "text": [
      "142it [00:00, 8859.80it/s]"
     ]
    },
    {
     "name": "stdout",
     "output_type": "stream",
     "text": [
      "{'P77335': 1, 'Q8Z727': 1, 'Q9REB3': 1}\n"
     ]
    },
    {
     "name": "stderr",
     "output_type": "stream",
     "text": [
      "\n"
     ]
    }
   ],
   "source": [
    "import tqdm\n",
    "entry_dict = {}\n",
    "cluster_representative_id = \"P77335\"\n",
    "for entry in tqdm.tqdm( unirefclust_records ):\n",
    "    if str(entry.id).split(\"|\")[1] in cytotoxic_ground_truth:\n",
    "        entry_dict[str(entry.id).split(\"|\")[1]] = 1\n",
    "        \n",
    "print(entry_dict)"
   ],
   "metadata": {
    "collapsed": false,
    "ExecuteTime": {
     "end_time": "2024-03-18T18:18:09.860081Z",
     "start_time": "2024-03-18T18:18:09.839541Z"
    }
   },
   "id": "b8ea0eebab2e2036",
   "execution_count": 10
  },
  {
   "cell_type": "code",
   "outputs": [],
   "source": [
    "def check_entry_parent(entry):\n",
    "    \"\"\"\"\n",
    "    Returns the parent entry for a given entry\n",
    "    \"\"\"\n",
    "    uniref = json.load(open(\"/media/felix/ShortTerm/unirefclust_50.json\",\"r\"))\n",
    "    for member in uniref[\"members\"]:\n",
    "        if member[\"accessions\"][0] == str(entry.id).split(\"|\")[1]:\n",
    "            return member[\"uniref100Id\"].split(\"_\")[1]\n",
    "    return None"
   ],
   "metadata": {
    "collapsed": false,
    "ExecuteTime": {
     "end_time": "2024-03-12T18:09:33.154801Z",
     "start_time": "2024-03-12T18:09:33.151358Z"
    }
   },
   "id": "f6559dca10a0e0bf",
   "execution_count": 4
  },
  {
   "cell_type": "markdown",
   "source": [
    "Check for labeled data. \n",
    "1. Check if ground truth exist for given entry\n",
    "2. If none is available check prediction\n",
    "3. If prediction is available, check if prediction's uniref100 clust representative matches your 90 representative. \n",
    "4. If not, check current unirefclust rep of entry\n",
    "5. If current rep doesn't have a prediction, run seqscreen"
   ],
   "metadata": {
    "collapsed": false
   },
   "id": "6b764db764e7ea2c"
  },
  {
   "cell_type": "code",
   "outputs": [
    {
     "name": "stderr",
     "output_type": "stream",
     "text": [
      "249it [01:00,  4.11it/s]\n"
     ]
    }
   ],
   "source": [
    "import tqdm\n",
    "entry_dict = {}\n",
    "cluster_representative_id = \"P77335\"\n",
    "unirefclust_records = seqio.parse(\"/media/felix/ShortTerm/uniprotkb_uniref_cluster_50_UniRef50_P7_2024_03_06_cleaned.fasta\",\"fasta\") # we loose 5 becuase of cleaning\n",
    "\n",
    "for entry in tqdm.tqdm( unirefclust_records ):\n",
    "    if str(entry.id).split(\"|\")[1] in cytotoxic_ground_truth:\n",
    "        entry_dict[str(entry.id).split(\"|\")[1]] = 1\n",
    "    elif str(entry.id).split(\"|\")[1] in funsocs_data:\n",
    "        # lookup 100% identity parent\n",
    "        if check_entry_parent(entry) == cluster_representative_id:\n",
    "            \n",
    "                entry_dict[str(entry.id).split(\"|\")[1]] = int(funsocs_df[funsocs_df [\"Entry\"]==str(entry.id).split(\"|\")[1]][\"cytotoxicity\"].iloc[0])\n",
    "        else:\n",
    "            if cluster_representative_id in cytotoxic_ground_truth:\n",
    "                entry_dict[str(entry.id).split(\"|\")[1]] = 0.5\n",
    "            elif cluster_representative_id in funsocs_data and check_entry_parent(cluster_representative_id) == cluster_representative_id:\n",
    "                entry_dict[str(entry.id).split(\"|\")[1]] = int(funsocs_df[funsocs_df [\"Entry\"]==cluster_representative_id][\"cytotoxicity\"].iloc[0])\n",
    "            else:\n",
    "                print(\"Run seqscreen on representative\")\n",
    "            \n",
    "    else:\n",
    "        if cluster_representative_id in cytotoxic_ground_truth:\n",
    "            entry_dict[str(entry.id).split(\"|\")[1]] = 0.5\n",
    "        elif cluster_representative_id in funsocs_data and check_entry_parent(cluster_representative_id) == cluster_representative_id:\n",
    "            entry_dict[str(entry.id).split(\"|\")[1]] = int(funsocs_df[funsocs_df [\"Entry\"]==cluster_representative_id][\"cytotoxicity\"].iloc[0])\n",
    "        else:\n",
    "            print(\"Run seqscreen on representative\")\n",
    "        "
   ],
   "metadata": {
    "collapsed": false,
    "ExecuteTime": {
     "end_time": "2024-03-12T18:22:40.094902Z",
     "start_time": "2024-03-12T18:21:39.557028Z"
    }
   },
   "id": "24f94a98e2219e15",
   "execution_count": 27
  },
  {
   "cell_type": "code",
   "outputs": [
    {
     "data": {
      "text/plain": "         Entry  cytotoxicity\n844328  Q68S90             0",
      "text/html": "<div>\n<style scoped>\n    .dataframe tbody tr th:only-of-type {\n        vertical-align: middle;\n    }\n\n    .dataframe tbody tr th {\n        vertical-align: top;\n    }\n\n    .dataframe thead th {\n        text-align: right;\n    }\n</style>\n<table border=\"1\" class=\"dataframe\">\n  <thead>\n    <tr style=\"text-align: right;\">\n      <th></th>\n      <th>Entry</th>\n      <th>cytotoxicity</th>\n    </tr>\n  </thead>\n  <tbody>\n    <tr>\n      <th>844328</th>\n      <td>Q68S90</td>\n      <td>0</td>\n    </tr>\n  </tbody>\n</table>\n</div>"
     },
     "execution_count": 31,
     "metadata": {},
     "output_type": "execute_result"
    }
   ],
   "source": [
    "cluster_representative_id = \"P77335\"\n",
    "funsocs_df[funsocs_df [\"Entry\"]==\"Q68S90\"]"
   ],
   "metadata": {
    "collapsed": false,
    "ExecuteTime": {
     "end_time": "2024-03-12T18:28:00.179979Z",
     "start_time": "2024-03-12T18:27:59.005910Z"
    }
   },
   "id": "1ddbf84bcf47e20d",
   "execution_count": 31
  },
  {
   "cell_type": "code",
   "outputs": [
    {
     "data": {
      "text/plain": "{'P77335': 1,\n 'Q8Z727': 1,\n 'Q93RR6': 1,\n 'Q9REB3': 1,\n 'A0A080J6B5': 0.5,\n 'A0A085AIJ6': 0.5,\n 'A0A0H0K1M2': 0.5,\n 'A0A0H3MHU8': 0.5,\n 'A0A0K9T6X3': 0.5,\n 'A0A0N1R1F1': 0.5,\n 'A0A1H9EXJ2': 0.5,\n 'A0A1Q5ZQ68': 0.5,\n 'A0A1Q6BEN5': 0.5,\n 'A0A1S0ZLZ6': 0.5,\n 'A0A1S9IWH5': 0.5,\n 'A0A1X3I9Z5': 0.5,\n 'A0A1X3JJK2': 0.5,\n 'A0A1X3L5H3': 0.5,\n 'A0A246NSJ8': 0.5,\n 'A0A2A6DF26': 0.5,\n 'A0A2A6Q0N8': 0.5,\n 'A0A2I5HGP9': 0.5,\n 'A0A2S8I3U1': 0.5,\n 'A0A2T3V193': 0.5,\n 'A0A2X1NHM9': 0.5,\n 'A0A2X5H3H2': 0.5,\n 'A0A2Y8JUS3': 0.5,\n 'A0A315G6H4': 0.5,\n 'A0A376X1I8': 0.5,\n 'A0A379TZ51': 0.5,\n 'A0A398QCK9': 0.5,\n 'A0A3F3J4I9': 0.5,\n 'A0A3J4Y844': 0.5,\n 'A0A3K6VT88': 0.5,\n 'A0A3K9ERY3': 0.5,\n 'A0A3Q9LER3': 0.5,\n 'A0A3Q9MAQ9': 0.5,\n 'A0A3R0QE12': 0.5,\n 'A0A3R0X038': 0.5,\n 'A0A3R0X6L8': 0.5,\n 'A0A3R0YBZ1': 0.5,\n 'A0A3T2YQT6': 0.5,\n 'A0A3T5HHB7': 0.5,\n 'A0A3U2TNT3': 0.5,\n 'A0A3U6WFK9': 0.5,\n 'A0A3U8JES5': 0.5,\n 'A0A3V3Z7S6': 0.5,\n 'A0A3V4R287': 0.5,\n 'A0A3V5UK95': 0.5,\n 'A0A3V6QHC2': 0.5,\n 'A0A3V7IP46': 0.5,\n 'A0A3V7MT39': 0.5,\n 'A0A3V8D0J6': 0.5,\n 'A0A3V8KJ93': 0.5,\n 'A0A3V8VJA8': 0.5,\n 'A0A3V9PP25': 0.5,\n 'A0A3X9Q0D1': 0.5,\n 'A0A3Y5KQQ7': 0.5,\n 'A0A3Z5NAH4': 0.5,\n 'A0A402ZYF5': 0.5,\n 'A0A447R468': 0.5,\n 'A0A4P8C7P3': 0.5,\n 'A0A4U8JLU9': 0.5,\n 'A0A4Z0PV11': 0.5,\n 'A0A5C5HLA6': 0.5,\n 'A0A5H5B090': 0.5,\n 'A0A5H5SMI6': 0.5,\n 'A0A5H6DG79': 0.5,\n 'A0A5H6NY51': 0.5,\n 'A0A5H7CYJ2': 0.5,\n 'A0A5H8I785': 0.5,\n 'A0A5H8RSL3': 0.5,\n 'A0A5I0BTV9': 0.5,\n 'A0A5I0M6Y7': 0.5,\n 'A0A5I0RTZ1': 0.5,\n 'A0A5I0ZEA5': 0.5,\n 'A0A5I2M0L2': 0.5,\n 'A0A5I2X132': 0.5,\n 'A0A5I4R4G5': 0.5,\n 'A0A5I4ZIR8': 0.5,\n 'A0A5I5II97': 0.5,\n 'A0A5I6QKB9': 0.5,\n 'A0A5J0NCS5': 0.5,\n 'A0A5J1RVM2': 0.5,\n 'A0A5J2RQJ8': 0.5,\n 'A0A5T2JVF6': 0.5,\n 'A0A5T3LN70': 0.5,\n 'A0A5T8YM05': 0.5,\n 'A0A5U0QRE7': 0.5,\n 'A0A5U0U8P2': 0.5,\n 'A0A5U1EXA8': 0.5,\n 'A0A5U1GIY5': 0.5,\n 'A0A5U2M6T9': 0.5,\n 'A0A5U8Y217': 0.5,\n 'A0A5V0N8V4': 0.5,\n 'A0A5V1WTF1': 0.5,\n 'A0A5V2QLC0': 0.5,\n 'A0A5V5UBT8': 0.5,\n 'A0A5V6PSU1': 0.5,\n 'A0A5V8HXM3': 0.5,\n 'A0A5W0B4S8': 0.5,\n 'A0A5W2M011': 0.5,\n 'A0A5W3NS91': 0.5,\n 'A0A5X5T3Q6': 0.5,\n 'A0A5X8YHH8': 0.5,\n 'A0A5Y0WXU2': 0.5,\n 'A0A5Y2KGN0': 0.5,\n 'A0A5Y2SLD6': 0.5,\n 'A0A5Y4W6E1': 0.5,\n 'A0A5Y8FLY1': 0.5,\n 'A0A5Y8FXD8': 0.5,\n 'A0A5Y9Y3I9': 0.5,\n 'A0A5Z0WCL0': 0.5,\n 'A0A5Z3E0Y0': 0.5,\n 'A0A5Z4DDK5': 0.5,\n 'A0A5Z4LF96': 0.5,\n 'A0A5Z9NQI4': 0.5,\n 'A0A602DHR3': 0.5,\n 'A0A602MLW3': 0.5,\n 'A0A607DZ02': 0.5,\n 'A0A607HRF3': 0.5,\n 'A0A607IAP1': 0.5,\n 'A0A608ML58': 0.5,\n 'A0A608XB26': 0.5,\n 'A0A623I6L4': 0.5,\n 'A0A623JVR5': 0.5,\n 'A0A624MCC1': 0.5,\n 'A0A629UTY5': 0.5,\n 'A0A636K7W4': 0.5,\n 'A0A657HUL9': 0.5,\n 'A0A659ZQ69': 0.5,\n 'A0A660HLE3': 0.5,\n 'A0A6C7HYM5': 0.5,\n 'A0A6C8Y2I3': 0.5,\n 'A0A6V9XQ20': 0.5,\n 'A0A6W0NZF3': 0.5,\n 'A0A6X8N3A4': 0.5,\n 'A0A6Y3UWE6': 0.5,\n 'A0A6Y4B466': 0.5,\n 'A0A6Y5LC58': 0.5,\n 'A0A701Y2E1': 0.5,\n 'A0A702FA36': 0.5,\n 'A0A702L1G3': 0.5,\n 'A0A708CMT6': 0.5,\n 'A0A714SF34': 0.5,\n 'A0A715FTT9': 0.5,\n 'A0A718PHM8': 0.5,\n 'A0A718RN46': 0.5,\n 'A0A718XT66': 0.5,\n 'A0A719TZU1': 0.5,\n 'A0A719VTT8': 0.5,\n 'A0A726ALZ9': 0.5,\n 'A0A727S194': 0.5,\n 'A0A730EXK3': 0.5,\n 'A0A731C818': 0.5,\n 'A0A731UUQ1': 0.5,\n 'A0A735K547': 0.5,\n 'A0A735N0E0': 0.5,\n 'A0A735VRE7': 0.5,\n 'A0A736P640': 0.5,\n 'A0A736TBT5': 0.5,\n 'A0A736USN4': 0.5,\n 'A0A738ZFX2': 0.5,\n 'A0A744I0W6': 0.5,\n 'A0A744J2I8': 0.5,\n 'A0A744NEY7': 0.5,\n 'A0A745EXX4': 0.5,\n 'A0A748Q9F6': 0.5,\n 'A0A749RZ47': 0.5,\n 'A0A751UME2': 0.5,\n 'A0A752RYI1': 0.5,\n 'A0A753KW03': 0.5,\n 'A0A753VVU9': 0.5,\n 'A0A754DX96': 0.5,\n 'A0A755K102': 0.5,\n 'A0A763M8M6': 0.5,\n 'A0A763SPD8': 0.5,\n 'A0A763USD9': 0.5,\n 'A0A7G6K4X7': 0.5,\n 'A0A7U5YRK7': 0.5,\n 'A0A7U9LY32': 0.5,\n 'A0A7U9P0T7': 0.5,\n 'A0A7W4KNT4': 0.5,\n 'A0A7Z0Y533': 0.5,\n 'A0A7Z1EJQ0': 0.5,\n 'A0A822UD79': 0.5,\n 'A0A829L2C8': 0.5,\n 'A0A891STM6': 0.5,\n 'A0A895P9D8': 0.5,\n 'A0A8E6RVW7': 0.5,\n 'A0A8E6U0N7': 0.5,\n 'A0A8E6VZT1': 0.5,\n 'A0A8E6X9J5': 0.5,\n 'A0A8E7KDE1': 0.5,\n 'A0A8E7KGD3': 0.5,\n 'A0A8E7VLF6': 0.5,\n 'A0A8E9YIR0': 0.5,\n 'A0A8F6SW59': 0.5,\n 'A0A8H9AGF5': 0.5,\n 'A0A8S7CUQ4': 0.5,\n 'A0A8S7SAW6': 0.5,\n 'A0A8T5YHD9': 0.5,\n 'A0A974QHR8': 0.5,\n 'A0A9E0KDV6': 0.5,\n 'A0A9P2INK5': 0.5,\n 'A0A9P2LU80': 0.5,\n 'A0A9P2PWM2': 0.5,\n 'A0A9Q5XXS7': 0.5,\n 'A0A9Q6Y0X3': 0.5,\n 'A0A9X6S0A7': 0.5,\n 'A0AA35FAE5': 0.5,\n 'A0AA45F847': 0.5,\n 'B1LHY5': 0.5,\n 'B6E461': 0.5,\n 'B6E462': 0.5,\n 'B6E463': 0.5,\n 'B6E464': 0.5,\n 'B7N3Y6': 0.5,\n 'C3TD87': 0.5,\n 'C3TD90': 0.5,\n 'D3H1X9': 0.5,\n 'D6I6Z3': 0.5,\n 'D6J9E7': 0.5,\n 'D7XUV6': 0.5,\n 'D8AF26': 0.5,\n 'E6BLW3': 0.5,\n 'F4TD68': 0.5,\n 'F4V153': 0.5,\n 'G5Q2R5': 0.5,\n 'G5QIZ6': 0.5,\n 'G5RTB4': 0.5,\n 'H6WE83': 0.5,\n 'H7CD89': 0.5,\n 'H7CD99': 0.5,\n 'H7CDA9': 0.5,\n 'Q06DE3': 0.5,\n 'Q1WG80': 0.5,\n 'Q1WG81': 0.5,\n 'Q68S89': 0.5,\n 'Q68S90': 0,\n 'Q68S91': 0.5,\n 'Q68S92': 0.5,\n 'Q68S93': 0.5,\n 'Q9X2S8': 0.5,\n 'S1FAQ3': 0.5,\n 'U9XSW0': 0.5,\n 'V0AFU3': 0.5,\n 'W1F4B3': 0.5,\n 'W1X0J3': 0.5}"
     },
     "execution_count": 28,
     "metadata": {},
     "output_type": "execute_result"
    }
   ],
   "source": [
    "entry_dict"
   ],
   "metadata": {
    "collapsed": false,
    "ExecuteTime": {
     "end_time": "2024-03-12T18:25:28.046535Z",
     "start_time": "2024-03-12T18:25:28.040733Z"
    }
   },
   "id": "7f1fd6cabd3bfc3a",
   "execution_count": 28
  },
  {
   "cell_type": "code",
   "outputs": [],
   "source": [],
   "metadata": {
    "collapsed": false
   },
   "id": "9afcde467df9ba66"
  }
 ],
 "metadata": {
  "kernelspec": {
   "display_name": "Python 3",
   "language": "python",
   "name": "python3"
  },
  "language_info": {
   "codemirror_mode": {
    "name": "ipython",
    "version": 2
   },
   "file_extension": ".py",
   "mimetype": "text/x-python",
   "name": "python",
   "nbconvert_exporter": "python",
   "pygments_lexer": "ipython2",
   "version": "2.7.6"
  }
 },
 "nbformat": 4,
 "nbformat_minor": 5
}
